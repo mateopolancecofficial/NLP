{
 "cells": [
  {
   "cell_type": "markdown",
   "id": "96a93cbc",
   "metadata": {},
   "source": [
    "# Data exploration"
   ]
  },
  {
   "cell_type": "markdown",
   "id": "43d4b4ef",
   "metadata": {},
   "source": [
    "Goal - create ML model for prediction points target variable in range 0 - 100 based on input data in wine reviews dataset.\n",
    "\n",
    "First we need to load dataset and make further steps:\n",
    "   - Check data types of columns and determine category of features (variables)\n",
    "   - Check existance of null values\n",
    "   - Plot distributions\n",
    "   - Check correlations between target variable and input features\n",
    "   - Check correlations between independent variables\n",
    "  \n",
    "Hypotheses:\n",
    "   - Wines with higher prices are highly rated with more points\n",
    "   - Some wine varieties will get more points than others\n",
    "   - Wines from some countries will get more points than from others\n",
    "   - Description is highly related with given score (points)"
   ]
  },
  {
   "cell_type": "code",
   "execution_count": 1,
   "id": "c251dfa0",
   "metadata": {},
   "outputs": [],
   "source": [
    "import os\n",
    "import warnings\n",
    "from pathlib import Path\n",
    "\n",
    "import matplotlib.pyplot as plt\n",
    "import numpy as np\n",
    "import pandas as pd\n",
    "import seaborn as sns\n",
    "from IPython.display import display\n",
    "from pandas.api.types import CategoricalDtype\n",
    "\n",
    "from category_encoders import MEstimateEncoder\n",
    "from sklearn.cluster import KMeans\n",
    "from sklearn.decomposition import PCA\n",
    "from sklearn.feature_selection import mutual_info_regression\n",
    "from sklearn.model_selection import KFold, cross_val_score"
   ]
  },
  {
   "cell_type": "code",
   "execution_count": 2,
   "id": "f60c424c",
   "metadata": {},
   "outputs": [],
   "source": [
    "# Set Matplotlib defaults\n",
    "plt.style.use(\"seaborn-whitegrid\")\n",
    "plt.rc(\"figure\", autolayout=True)\n",
    "plt.rc(\n",
    "    \"axes\",\n",
    "    labelweight=\"bold\",\n",
    "    labelsize=\"large\",\n",
    "    titleweight=\"bold\",\n",
    "    titlesize=14,\n",
    "    titlepad=10,\n",
    ")\n",
    "\n",
    "# Mute warnings\n",
    "warnings.filterwarnings('ignore')"
   ]
  },
  {
   "cell_type": "markdown",
   "id": "f33dbea8",
   "metadata": {},
   "source": [
    "### Check data types of columns and determine category of features (variables)"
   ]
  },
  {
   "cell_type": "code",
   "execution_count": 3,
   "id": "af5993f6",
   "metadata": {},
   "outputs": [
    {
     "data": {
      "text/html": [
       "<div>\n",
       "<style scoped>\n",
       "    .dataframe tbody tr th:only-of-type {\n",
       "        vertical-align: middle;\n",
       "    }\n",
       "\n",
       "    .dataframe tbody tr th {\n",
       "        vertical-align: top;\n",
       "    }\n",
       "\n",
       "    .dataframe thead th {\n",
       "        text-align: right;\n",
       "    }\n",
       "</style>\n",
       "<table border=\"1\" class=\"dataframe\">\n",
       "  <thead>\n",
       "    <tr style=\"text-align: right;\">\n",
       "      <th></th>\n",
       "      <th>country</th>\n",
       "      <th>description</th>\n",
       "      <th>designation</th>\n",
       "      <th>points</th>\n",
       "      <th>price</th>\n",
       "      <th>province</th>\n",
       "      <th>region_1</th>\n",
       "      <th>region_2</th>\n",
       "      <th>taster_name</th>\n",
       "      <th>taster_twitter_handle</th>\n",
       "      <th>title</th>\n",
       "      <th>variety</th>\n",
       "      <th>winery</th>\n",
       "    </tr>\n",
       "  </thead>\n",
       "  <tbody>\n",
       "    <tr>\n",
       "      <th>0</th>\n",
       "      <td>Italy</td>\n",
       "      <td>Aromas include tropical fruit, broom, brimston...</td>\n",
       "      <td>Vulkà Bianco</td>\n",
       "      <td>87</td>\n",
       "      <td>NaN</td>\n",
       "      <td>Sicily &amp; Sardinia</td>\n",
       "      <td>Etna</td>\n",
       "      <td>NaN</td>\n",
       "      <td>Kerin O’Keefe</td>\n",
       "      <td>@kerinokeefe</td>\n",
       "      <td>Nicosia 2013 Vulkà Bianco  (Etna)</td>\n",
       "      <td>White Blend</td>\n",
       "      <td>Nicosia</td>\n",
       "    </tr>\n",
       "    <tr>\n",
       "      <th>1</th>\n",
       "      <td>Portugal</td>\n",
       "      <td>This is ripe and fruity, a wine that is smooth...</td>\n",
       "      <td>Avidagos</td>\n",
       "      <td>87</td>\n",
       "      <td>15.0</td>\n",
       "      <td>Douro</td>\n",
       "      <td>NaN</td>\n",
       "      <td>NaN</td>\n",
       "      <td>Roger Voss</td>\n",
       "      <td>@vossroger</td>\n",
       "      <td>Quinta dos Avidagos 2011 Avidagos Red (Douro)</td>\n",
       "      <td>Portuguese Red</td>\n",
       "      <td>Quinta dos Avidagos</td>\n",
       "    </tr>\n",
       "    <tr>\n",
       "      <th>2</th>\n",
       "      <td>US</td>\n",
       "      <td>Tart and snappy, the flavors of lime flesh and...</td>\n",
       "      <td>NaN</td>\n",
       "      <td>87</td>\n",
       "      <td>14.0</td>\n",
       "      <td>Oregon</td>\n",
       "      <td>Willamette Valley</td>\n",
       "      <td>Willamette Valley</td>\n",
       "      <td>Paul Gregutt</td>\n",
       "      <td>@paulgwine</td>\n",
       "      <td>Rainstorm 2013 Pinot Gris (Willamette Valley)</td>\n",
       "      <td>Pinot Gris</td>\n",
       "      <td>Rainstorm</td>\n",
       "    </tr>\n",
       "    <tr>\n",
       "      <th>3</th>\n",
       "      <td>US</td>\n",
       "      <td>Pineapple rind, lemon pith and orange blossom ...</td>\n",
       "      <td>Reserve Late Harvest</td>\n",
       "      <td>87</td>\n",
       "      <td>13.0</td>\n",
       "      <td>Michigan</td>\n",
       "      <td>Lake Michigan Shore</td>\n",
       "      <td>NaN</td>\n",
       "      <td>Alexander Peartree</td>\n",
       "      <td>NaN</td>\n",
       "      <td>St. Julian 2013 Reserve Late Harvest Riesling ...</td>\n",
       "      <td>Riesling</td>\n",
       "      <td>St. Julian</td>\n",
       "    </tr>\n",
       "    <tr>\n",
       "      <th>4</th>\n",
       "      <td>US</td>\n",
       "      <td>Much like the regular bottling from 2012, this...</td>\n",
       "      <td>Vintner's Reserve Wild Child Block</td>\n",
       "      <td>87</td>\n",
       "      <td>65.0</td>\n",
       "      <td>Oregon</td>\n",
       "      <td>Willamette Valley</td>\n",
       "      <td>Willamette Valley</td>\n",
       "      <td>Paul Gregutt</td>\n",
       "      <td>@paulgwine</td>\n",
       "      <td>Sweet Cheeks 2012 Vintner's Reserve Wild Child...</td>\n",
       "      <td>Pinot Noir</td>\n",
       "      <td>Sweet Cheeks</td>\n",
       "    </tr>\n",
       "  </tbody>\n",
       "</table>\n",
       "</div>"
      ],
      "text/plain": [
       "    country                                        description  \\\n",
       "0     Italy  Aromas include tropical fruit, broom, brimston...   \n",
       "1  Portugal  This is ripe and fruity, a wine that is smooth...   \n",
       "2        US  Tart and snappy, the flavors of lime flesh and...   \n",
       "3        US  Pineapple rind, lemon pith and orange blossom ...   \n",
       "4        US  Much like the regular bottling from 2012, this...   \n",
       "\n",
       "                          designation  points  price           province  \\\n",
       "0                        Vulkà Bianco      87    NaN  Sicily & Sardinia   \n",
       "1                            Avidagos      87   15.0              Douro   \n",
       "2                                 NaN      87   14.0             Oregon   \n",
       "3                Reserve Late Harvest      87   13.0           Michigan   \n",
       "4  Vintner's Reserve Wild Child Block      87   65.0             Oregon   \n",
       "\n",
       "              region_1           region_2         taster_name  \\\n",
       "0                 Etna                NaN       Kerin O’Keefe   \n",
       "1                  NaN                NaN          Roger Voss   \n",
       "2    Willamette Valley  Willamette Valley        Paul Gregutt   \n",
       "3  Lake Michigan Shore                NaN  Alexander Peartree   \n",
       "4    Willamette Valley  Willamette Valley        Paul Gregutt   \n",
       "\n",
       "  taster_twitter_handle                                              title  \\\n",
       "0          @kerinokeefe                  Nicosia 2013 Vulkà Bianco  (Etna)   \n",
       "1            @vossroger      Quinta dos Avidagos 2011 Avidagos Red (Douro)   \n",
       "2           @paulgwine       Rainstorm 2013 Pinot Gris (Willamette Valley)   \n",
       "3                   NaN  St. Julian 2013 Reserve Late Harvest Riesling ...   \n",
       "4           @paulgwine   Sweet Cheeks 2012 Vintner's Reserve Wild Child...   \n",
       "\n",
       "          variety               winery  \n",
       "0     White Blend              Nicosia  \n",
       "1  Portuguese Red  Quinta dos Avidagos  \n",
       "2      Pinot Gris            Rainstorm  \n",
       "3        Riesling           St. Julian  \n",
       "4      Pinot Noir         Sweet Cheeks  "
      ]
     },
     "execution_count": 3,
     "metadata": {},
     "output_type": "execute_result"
    }
   ],
   "source": [
    "df = pd.read_csv(\"data/winemag-data-130k-v2.csv\", index_col=0)\n",
    "df.head()"
   ]
  },
  {
   "cell_type": "markdown",
   "id": "4e67b53a",
   "metadata": {},
   "source": [
    "There is a lot of information about countries, province and regions in dataset. This informations will be better replace with for wine growth significant informations like weather conditions etc... With this type of informations we will be able to categorise data and conclude what are the best conditions for specific wine variety."
   ]
  },
  {
   "cell_type": "code",
   "execution_count": 4,
   "id": "189ae16b",
   "metadata": {},
   "outputs": [
    {
     "data": {
      "text/plain": [
       "country                   object\n",
       "description               object\n",
       "designation               object\n",
       "points                     int64\n",
       "price                    float64\n",
       "province                  object\n",
       "region_1                  object\n",
       "region_2                  object\n",
       "taster_name               object\n",
       "taster_twitter_handle     object\n",
       "title                     object\n",
       "variety                   object\n",
       "winery                    object\n",
       "dtype: object"
      ]
     },
     "execution_count": 4,
     "metadata": {},
     "output_type": "execute_result"
    }
   ],
   "source": [
    "df.dtypes"
   ]
  },
  {
   "cell_type": "markdown",
   "id": "fbdcde6b",
   "metadata": {},
   "source": [
    "From previous insights we can categorise features. \n",
    "- country               - nominal\n",
    "- description           - text\n",
    "- designation           - nominal\n",
    "- points                - continuous\t\n",
    "- price\t                - continuous    \n",
    "- province\t            - nominal\n",
    "- region_1\t            - nominal\n",
    "- region_2\t            - nominal\n",
    "- taster_name           - nominal\t\n",
    "- taster_twitter_handle - nominal\n",
    "- title\t                - text\n",
    "- variety\t            - nominal\n",
    "- winery                - nominal"
   ]
  },
  {
   "cell_type": "code",
   "execution_count": 5,
   "id": "50ccd89b",
   "metadata": {},
   "outputs": [
    {
     "data": {
      "text/plain": [
       "country                     63\n",
       "description                  0\n",
       "designation              37465\n",
       "points                       0\n",
       "price                     8996\n",
       "province                    63\n",
       "region_1                 21247\n",
       "region_2                 79460\n",
       "taster_name              26244\n",
       "taster_twitter_handle    31213\n",
       "title                        0\n",
       "variety                      1\n",
       "winery                       0\n",
       "dtype: int64"
      ]
     },
     "execution_count": 5,
     "metadata": {},
     "output_type": "execute_result"
    }
   ],
   "source": [
    "df_missing = df.isnull().sum()\n",
    "df_missing"
   ]
  },
  {
   "cell_type": "code",
   "execution_count": 6,
   "id": "007bc9bb",
   "metadata": {},
   "outputs": [
    {
     "data": {
      "text/plain": [
       "129971"
      ]
     },
     "execution_count": 6,
     "metadata": {},
     "output_type": "execute_result"
    }
   ],
   "source": [
    "df.shape[0]"
   ]
  },
  {
   "cell_type": "markdown",
   "id": "e3a655f6",
   "metadata": {},
   "source": [
    "#### Calculate procentage of missign values per feature\n",
    "Accetable features has less than 20% of missing values."
   ]
  },
  {
   "cell_type": "code",
   "execution_count": 7,
   "id": "4fdd5077",
   "metadata": {},
   "outputs": [
    {
     "data": {
      "text/html": [
       "<div>\n",
       "<style scoped>\n",
       "    .dataframe tbody tr th:only-of-type {\n",
       "        vertical-align: middle;\n",
       "    }\n",
       "\n",
       "    .dataframe tbody tr th {\n",
       "        vertical-align: top;\n",
       "    }\n",
       "\n",
       "    .dataframe thead th {\n",
       "        text-align: right;\n",
       "    }\n",
       "</style>\n",
       "<table border=\"1\" class=\"dataframe\">\n",
       "  <thead>\n",
       "    <tr style=\"text-align: right;\">\n",
       "      <th></th>\n",
       "      <th>missing_counts</th>\n",
       "      <th>missing_percentage</th>\n",
       "    </tr>\n",
       "    <tr>\n",
       "      <th>features</th>\n",
       "      <th></th>\n",
       "      <th></th>\n",
       "    </tr>\n",
       "  </thead>\n",
       "  <tbody>\n",
       "    <tr>\n",
       "      <th>region_2</th>\n",
       "      <td>79460</td>\n",
       "      <td>0.611367</td>\n",
       "    </tr>\n",
       "    <tr>\n",
       "      <th>designation</th>\n",
       "      <td>37465</td>\n",
       "      <td>0.288257</td>\n",
       "    </tr>\n",
       "    <tr>\n",
       "      <th>taster_twitter_handle</th>\n",
       "      <td>31213</td>\n",
       "      <td>0.240154</td>\n",
       "    </tr>\n",
       "    <tr>\n",
       "      <th>taster_name</th>\n",
       "      <td>26244</td>\n",
       "      <td>0.201922</td>\n",
       "    </tr>\n",
       "    <tr>\n",
       "      <th>region_1</th>\n",
       "      <td>21247</td>\n",
       "      <td>0.163475</td>\n",
       "    </tr>\n",
       "    <tr>\n",
       "      <th>price</th>\n",
       "      <td>8996</td>\n",
       "      <td>0.069215</td>\n",
       "    </tr>\n",
       "    <tr>\n",
       "      <th>country</th>\n",
       "      <td>63</td>\n",
       "      <td>0.000485</td>\n",
       "    </tr>\n",
       "    <tr>\n",
       "      <th>province</th>\n",
       "      <td>63</td>\n",
       "      <td>0.000485</td>\n",
       "    </tr>\n",
       "    <tr>\n",
       "      <th>variety</th>\n",
       "      <td>1</td>\n",
       "      <td>0.000008</td>\n",
       "    </tr>\n",
       "    <tr>\n",
       "      <th>description</th>\n",
       "      <td>0</td>\n",
       "      <td>0.000000</td>\n",
       "    </tr>\n",
       "    <tr>\n",
       "      <th>points</th>\n",
       "      <td>0</td>\n",
       "      <td>0.000000</td>\n",
       "    </tr>\n",
       "    <tr>\n",
       "      <th>title</th>\n",
       "      <td>0</td>\n",
       "      <td>0.000000</td>\n",
       "    </tr>\n",
       "    <tr>\n",
       "      <th>winery</th>\n",
       "      <td>0</td>\n",
       "      <td>0.000000</td>\n",
       "    </tr>\n",
       "  </tbody>\n",
       "</table>\n",
       "</div>"
      ],
      "text/plain": [
       "                       missing_counts  missing_percentage\n",
       "features                                                 \n",
       "region_2                        79460            0.611367\n",
       "designation                     37465            0.288257\n",
       "taster_twitter_handle           31213            0.240154\n",
       "taster_name                     26244            0.201922\n",
       "region_1                        21247            0.163475\n",
       "price                            8996            0.069215\n",
       "country                            63            0.000485\n",
       "province                           63            0.000485\n",
       "variety                             1            0.000008\n",
       "description                         0            0.000000\n",
       "points                              0            0.000000\n",
       "title                               0            0.000000\n",
       "winery                              0            0.000000"
      ]
     },
     "execution_count": 7,
     "metadata": {},
     "output_type": "execute_result"
    }
   ],
   "source": [
    "def miss_percentage(df):\n",
    "    \"\"\"\n",
    "    Calculate missing value percentage per dataset features (columns in dataframe).\n",
    "    :param df: input pandas dataframe with missing values\n",
    "    :return:   pandas dataframe, index = column names, columns = [missing values percentage, missing count]\n",
    "    \"\"\"\n",
    "    df_missing = df.isnull().sum().reset_index()\n",
    "    df_missing.columns = ['features', 'missing_counts']\n",
    "    df_len = df.shape[0]\n",
    "    df_missing['missing_percentage'] = df_missing['missing_counts'].apply(lambda v: v/df_len)\n",
    "\n",
    "    return df_missing.sort_values(by='missing_percentage', ascending=False).set_index(keys='features')\n",
    "\n",
    "df_miss_info = miss_percentage(df)\n",
    "df_miss_info   \n",
    "    "
   ]
  },
  {
   "cell_type": "code",
   "execution_count": 8,
   "id": "0576a20d",
   "metadata": {},
   "outputs": [
    {
     "data": {
      "text/plain": [
       "17"
      ]
     },
     "execution_count": 8,
     "metadata": {},
     "output_type": "execute_result"
    }
   ],
   "source": [
    "df[['region_2']].value_counts().shape[0]"
   ]
  },
  {
   "cell_type": "code",
   "execution_count": 9,
   "id": "60ac85aa",
   "metadata": {},
   "outputs": [
    {
     "name": "stdout",
     "output_type": "stream",
     "text": [
      "{'region_2': 17, 'designation': 37979, 'taster_twitter_handle': 15, 'taster_name': 19}\n"
     ]
    }
   ],
   "source": [
    "def get_unique_values_per_feature(df, column_names):\n",
    "    \"\"\"\n",
    "    Calculate missing value percentage per dataset features (columns in dataframe).\n",
    "    :param df: input pandas dataframe with missing values\n",
    "    :param column_names: names of interesting columns\n",
    "    :return:   python dict, keys = column names, values = unique values\n",
    "    \"\"\"\n",
    "    unique_fea_dict = {}\n",
    "    \n",
    "    for col in column_names:\n",
    "        df_unique = df[[col]].value_counts().shape[0]\n",
    "        unique_fea_dict[col] = df_unique\n",
    "\n",
    "    #pd.DataFrame.from_dict(unique_fea_dict)\n",
    "    return unique_fea_dict\n",
    "\n",
    "column_names = ['region_2', 'designation', 'taster_twitter_handle', 'taster_name']\n",
    "df_unique = get_unique_values_per_feature(df, column_names)\n",
    "print(df_unique)"
   ]
  },
  {
   "cell_type": "markdown",
   "id": "1383f0c1",
   "metadata": {},
   "source": [
    "Designation will be excluded from further analysis. Designation feature is nominal. Nominal features can be imputed by most frequent value, with aditional category ('missing') or predicted by ML model. The problem for mentioned imputation methods are a lot of unique values. Another reason is that information contained in designation is also present in textual feature title.\n",
    "Region_2 feature has more than 60% of missing values so it's obvious that need to be droped."
   ]
  },
  {
   "cell_type": "code",
   "execution_count": 10,
   "id": "4b7b9b86",
   "metadata": {},
   "outputs": [
    {
     "data": {
      "text/html": [
       "<div>\n",
       "<style scoped>\n",
       "    .dataframe tbody tr th:only-of-type {\n",
       "        vertical-align: middle;\n",
       "    }\n",
       "\n",
       "    .dataframe tbody tr th {\n",
       "        vertical-align: top;\n",
       "    }\n",
       "\n",
       "    .dataframe thead th {\n",
       "        text-align: right;\n",
       "    }\n",
       "</style>\n",
       "<table border=\"1\" class=\"dataframe\">\n",
       "  <thead>\n",
       "    <tr style=\"text-align: right;\">\n",
       "      <th></th>\n",
       "      <th>taster_twitter_handle</th>\n",
       "      <th>taster_name</th>\n",
       "    </tr>\n",
       "  </thead>\n",
       "  <tbody>\n",
       "    <tr>\n",
       "      <th>0</th>\n",
       "      <td>@kerinokeefe</td>\n",
       "      <td>Kerin O’Keefe</td>\n",
       "    </tr>\n",
       "    <tr>\n",
       "      <th>1</th>\n",
       "      <td>@vossroger</td>\n",
       "      <td>Roger Voss</td>\n",
       "    </tr>\n",
       "    <tr>\n",
       "      <th>2</th>\n",
       "      <td>@paulgwine</td>\n",
       "      <td>Paul Gregutt</td>\n",
       "    </tr>\n",
       "    <tr>\n",
       "      <th>3</th>\n",
       "      <td>NaN</td>\n",
       "      <td>Alexander Peartree</td>\n",
       "    </tr>\n",
       "    <tr>\n",
       "      <th>4</th>\n",
       "      <td>@paulgwine</td>\n",
       "      <td>Paul Gregutt</td>\n",
       "    </tr>\n",
       "    <tr>\n",
       "      <th>...</th>\n",
       "      <td>...</td>\n",
       "      <td>...</td>\n",
       "    </tr>\n",
       "    <tr>\n",
       "      <th>129966</th>\n",
       "      <td>NaN</td>\n",
       "      <td>Anna Lee C. Iijima</td>\n",
       "    </tr>\n",
       "    <tr>\n",
       "      <th>129967</th>\n",
       "      <td>@paulgwine</td>\n",
       "      <td>Paul Gregutt</td>\n",
       "    </tr>\n",
       "    <tr>\n",
       "      <th>129968</th>\n",
       "      <td>@vossroger</td>\n",
       "      <td>Roger Voss</td>\n",
       "    </tr>\n",
       "    <tr>\n",
       "      <th>129969</th>\n",
       "      <td>@vossroger</td>\n",
       "      <td>Roger Voss</td>\n",
       "    </tr>\n",
       "    <tr>\n",
       "      <th>129970</th>\n",
       "      <td>@vossroger</td>\n",
       "      <td>Roger Voss</td>\n",
       "    </tr>\n",
       "  </tbody>\n",
       "</table>\n",
       "<p>129971 rows × 2 columns</p>\n",
       "</div>"
      ],
      "text/plain": [
       "       taster_twitter_handle         taster_name\n",
       "0               @kerinokeefe       Kerin O’Keefe\n",
       "1                 @vossroger          Roger Voss\n",
       "2                @paulgwine         Paul Gregutt\n",
       "3                        NaN  Alexander Peartree\n",
       "4                @paulgwine         Paul Gregutt\n",
       "...                      ...                 ...\n",
       "129966                   NaN  Anna Lee C. Iijima\n",
       "129967           @paulgwine         Paul Gregutt\n",
       "129968            @vossroger          Roger Voss\n",
       "129969            @vossroger          Roger Voss\n",
       "129970            @vossroger          Roger Voss\n",
       "\n",
       "[129971 rows x 2 columns]"
      ]
     },
     "execution_count": 10,
     "metadata": {},
     "output_type": "execute_result"
    }
   ],
   "source": [
    "df[['taster_twitter_handle', 'taster_name']]"
   ]
  },
  {
   "cell_type": "markdown",
   "id": "19bc11f7",
   "metadata": {},
   "source": [
    "taster_twitter_handle is redudant information because it's contained in taster_name and worth to mention that taster_twitter_handle has more missing and less unique values than tester_name feature."
   ]
  },
  {
   "cell_type": "markdown",
   "id": "c8102d01",
   "metadata": {},
   "source": [
    "Before look in distributions we need to impute missing values. Just for visualization and statistics purposes missing values will be replaced with 'Missing' string."
   ]
  },
  {
   "cell_type": "code",
   "execution_count": 11,
   "id": "f8cd6a43",
   "metadata": {},
   "outputs": [],
   "source": [
    "#df = df[(df.country.notna()) & (df.region_1.notna()) & (df.variety.notna()) & (df.winery.notna()) & (df.points.notna())\n",
    "#                 & (df.province.notna()) & (df.designation.notna())]"
   ]
  },
  {
   "cell_type": "code",
   "execution_count": 12,
   "id": "7c47be91",
   "metadata": {},
   "outputs": [
    {
     "data": {
      "text/html": [
       "<div>\n",
       "<style scoped>\n",
       "    .dataframe tbody tr th:only-of-type {\n",
       "        vertical-align: middle;\n",
       "    }\n",
       "\n",
       "    .dataframe tbody tr th {\n",
       "        vertical-align: top;\n",
       "    }\n",
       "\n",
       "    .dataframe thead th {\n",
       "        text-align: right;\n",
       "    }\n",
       "</style>\n",
       "<table border=\"1\" class=\"dataframe\">\n",
       "  <thead>\n",
       "    <tr style=\"text-align: right;\">\n",
       "      <th></th>\n",
       "      <th>country</th>\n",
       "      <th>description</th>\n",
       "      <th>points</th>\n",
       "      <th>price</th>\n",
       "      <th>province</th>\n",
       "      <th>region_1</th>\n",
       "      <th>taster_name</th>\n",
       "      <th>title</th>\n",
       "      <th>variety</th>\n",
       "      <th>winery</th>\n",
       "    </tr>\n",
       "  </thead>\n",
       "  <tbody>\n",
       "    <tr>\n",
       "      <th>0</th>\n",
       "      <td>Italy</td>\n",
       "      <td>Aromas include tropical fruit, broom, brimston...</td>\n",
       "      <td>87</td>\n",
       "      <td>NaN</td>\n",
       "      <td>Sicily &amp; Sardinia</td>\n",
       "      <td>Etna</td>\n",
       "      <td>Kerin O’Keefe</td>\n",
       "      <td>Nicosia 2013 Vulkà Bianco  (Etna)</td>\n",
       "      <td>White Blend</td>\n",
       "      <td>Nicosia</td>\n",
       "    </tr>\n",
       "    <tr>\n",
       "      <th>1</th>\n",
       "      <td>Portugal</td>\n",
       "      <td>This is ripe and fruity, a wine that is smooth...</td>\n",
       "      <td>87</td>\n",
       "      <td>15.0</td>\n",
       "      <td>Douro</td>\n",
       "      <td>NaN</td>\n",
       "      <td>Roger Voss</td>\n",
       "      <td>Quinta dos Avidagos 2011 Avidagos Red (Douro)</td>\n",
       "      <td>Portuguese Red</td>\n",
       "      <td>Quinta dos Avidagos</td>\n",
       "    </tr>\n",
       "    <tr>\n",
       "      <th>2</th>\n",
       "      <td>US</td>\n",
       "      <td>Tart and snappy, the flavors of lime flesh and...</td>\n",
       "      <td>87</td>\n",
       "      <td>14.0</td>\n",
       "      <td>Oregon</td>\n",
       "      <td>Willamette Valley</td>\n",
       "      <td>Paul Gregutt</td>\n",
       "      <td>Rainstorm 2013 Pinot Gris (Willamette Valley)</td>\n",
       "      <td>Pinot Gris</td>\n",
       "      <td>Rainstorm</td>\n",
       "    </tr>\n",
       "    <tr>\n",
       "      <th>3</th>\n",
       "      <td>US</td>\n",
       "      <td>Pineapple rind, lemon pith and orange blossom ...</td>\n",
       "      <td>87</td>\n",
       "      <td>13.0</td>\n",
       "      <td>Michigan</td>\n",
       "      <td>Lake Michigan Shore</td>\n",
       "      <td>Alexander Peartree</td>\n",
       "      <td>St. Julian 2013 Reserve Late Harvest Riesling ...</td>\n",
       "      <td>Riesling</td>\n",
       "      <td>St. Julian</td>\n",
       "    </tr>\n",
       "    <tr>\n",
       "      <th>4</th>\n",
       "      <td>US</td>\n",
       "      <td>Much like the regular bottling from 2012, this...</td>\n",
       "      <td>87</td>\n",
       "      <td>65.0</td>\n",
       "      <td>Oregon</td>\n",
       "      <td>Willamette Valley</td>\n",
       "      <td>Paul Gregutt</td>\n",
       "      <td>Sweet Cheeks 2012 Vintner's Reserve Wild Child...</td>\n",
       "      <td>Pinot Noir</td>\n",
       "      <td>Sweet Cheeks</td>\n",
       "    </tr>\n",
       "  </tbody>\n",
       "</table>\n",
       "</div>"
      ],
      "text/plain": [
       "    country                                        description  points  price  \\\n",
       "0     Italy  Aromas include tropical fruit, broom, brimston...      87    NaN   \n",
       "1  Portugal  This is ripe and fruity, a wine that is smooth...      87   15.0   \n",
       "2        US  Tart and snappy, the flavors of lime flesh and...      87   14.0   \n",
       "3        US  Pineapple rind, lemon pith and orange blossom ...      87   13.0   \n",
       "4        US  Much like the regular bottling from 2012, this...      87   65.0   \n",
       "\n",
       "            province             region_1         taster_name  \\\n",
       "0  Sicily & Sardinia                 Etna       Kerin O’Keefe   \n",
       "1              Douro                  NaN          Roger Voss   \n",
       "2             Oregon    Willamette Valley        Paul Gregutt   \n",
       "3           Michigan  Lake Michigan Shore  Alexander Peartree   \n",
       "4             Oregon    Willamette Valley        Paul Gregutt   \n",
       "\n",
       "                                               title         variety  \\\n",
       "0                  Nicosia 2013 Vulkà Bianco  (Etna)     White Blend   \n",
       "1      Quinta dos Avidagos 2011 Avidagos Red (Douro)  Portuguese Red   \n",
       "2      Rainstorm 2013 Pinot Gris (Willamette Valley)      Pinot Gris   \n",
       "3  St. Julian 2013 Reserve Late Harvest Riesling ...        Riesling   \n",
       "4  Sweet Cheeks 2012 Vintner's Reserve Wild Child...      Pinot Noir   \n",
       "\n",
       "                winery  \n",
       "0              Nicosia  \n",
       "1  Quinta dos Avidagos  \n",
       "2            Rainstorm  \n",
       "3           St. Julian  \n",
       "4         Sweet Cheeks  "
      ]
     },
     "execution_count": 12,
     "metadata": {},
     "output_type": "execute_result"
    }
   ],
   "source": [
    "df = df.drop(['designation', 'taster_twitter_handle', 'region_2'], axis=1)\n",
    "df.head()"
   ]
  },
  {
   "cell_type": "markdown",
   "id": "2f3ac2f6",
   "metadata": {},
   "source": [
    "Drop one sample with missing variety value. One sample can't be statistically significant."
   ]
  },
  {
   "cell_type": "code",
   "execution_count": 13,
   "id": "2b6fea77",
   "metadata": {},
   "outputs": [
    {
     "data": {
      "text/plain": [
       "variety    1\n",
       "dtype: int64"
      ]
     },
     "execution_count": 13,
     "metadata": {},
     "output_type": "execute_result"
    }
   ],
   "source": [
    "df[['variety']].isnull().sum()"
   ]
  },
  {
   "cell_type": "code",
   "execution_count": 14,
   "id": "5c41b396",
   "metadata": {},
   "outputs": [
    {
     "data": {
      "text/html": [
       "<div>\n",
       "<style scoped>\n",
       "    .dataframe tbody tr th:only-of-type {\n",
       "        vertical-align: middle;\n",
       "    }\n",
       "\n",
       "    .dataframe tbody tr th {\n",
       "        vertical-align: top;\n",
       "    }\n",
       "\n",
       "    .dataframe thead th {\n",
       "        text-align: right;\n",
       "    }\n",
       "</style>\n",
       "<table border=\"1\" class=\"dataframe\">\n",
       "  <thead>\n",
       "    <tr style=\"text-align: right;\">\n",
       "      <th></th>\n",
       "      <th>country</th>\n",
       "      <th>description</th>\n",
       "      <th>points</th>\n",
       "      <th>price</th>\n",
       "      <th>province</th>\n",
       "      <th>region_1</th>\n",
       "      <th>taster_name</th>\n",
       "      <th>title</th>\n",
       "      <th>variety</th>\n",
       "      <th>winery</th>\n",
       "    </tr>\n",
       "  </thead>\n",
       "  <tbody>\n",
       "    <tr>\n",
       "      <th>0</th>\n",
       "      <td>Italy</td>\n",
       "      <td>Aromas include tropical fruit, broom, brimston...</td>\n",
       "      <td>87</td>\n",
       "      <td>NaN</td>\n",
       "      <td>Sicily &amp; Sardinia</td>\n",
       "      <td>Etna</td>\n",
       "      <td>Kerin O’Keefe</td>\n",
       "      <td>Nicosia 2013 Vulkà Bianco  (Etna)</td>\n",
       "      <td>White Blend</td>\n",
       "      <td>Nicosia</td>\n",
       "    </tr>\n",
       "    <tr>\n",
       "      <th>1</th>\n",
       "      <td>Portugal</td>\n",
       "      <td>This is ripe and fruity, a wine that is smooth...</td>\n",
       "      <td>87</td>\n",
       "      <td>15.0</td>\n",
       "      <td>Douro</td>\n",
       "      <td>NaN</td>\n",
       "      <td>Roger Voss</td>\n",
       "      <td>Quinta dos Avidagos 2011 Avidagos Red (Douro)</td>\n",
       "      <td>Portuguese Red</td>\n",
       "      <td>Quinta dos Avidagos</td>\n",
       "    </tr>\n",
       "    <tr>\n",
       "      <th>2</th>\n",
       "      <td>US</td>\n",
       "      <td>Tart and snappy, the flavors of lime flesh and...</td>\n",
       "      <td>87</td>\n",
       "      <td>14.0</td>\n",
       "      <td>Oregon</td>\n",
       "      <td>Willamette Valley</td>\n",
       "      <td>Paul Gregutt</td>\n",
       "      <td>Rainstorm 2013 Pinot Gris (Willamette Valley)</td>\n",
       "      <td>Pinot Gris</td>\n",
       "      <td>Rainstorm</td>\n",
       "    </tr>\n",
       "    <tr>\n",
       "      <th>3</th>\n",
       "      <td>US</td>\n",
       "      <td>Pineapple rind, lemon pith and orange blossom ...</td>\n",
       "      <td>87</td>\n",
       "      <td>13.0</td>\n",
       "      <td>Michigan</td>\n",
       "      <td>Lake Michigan Shore</td>\n",
       "      <td>Alexander Peartree</td>\n",
       "      <td>St. Julian 2013 Reserve Late Harvest Riesling ...</td>\n",
       "      <td>Riesling</td>\n",
       "      <td>St. Julian</td>\n",
       "    </tr>\n",
       "    <tr>\n",
       "      <th>4</th>\n",
       "      <td>US</td>\n",
       "      <td>Much like the regular bottling from 2012, this...</td>\n",
       "      <td>87</td>\n",
       "      <td>65.0</td>\n",
       "      <td>Oregon</td>\n",
       "      <td>Willamette Valley</td>\n",
       "      <td>Paul Gregutt</td>\n",
       "      <td>Sweet Cheeks 2012 Vintner's Reserve Wild Child...</td>\n",
       "      <td>Pinot Noir</td>\n",
       "      <td>Sweet Cheeks</td>\n",
       "    </tr>\n",
       "  </tbody>\n",
       "</table>\n",
       "</div>"
      ],
      "text/plain": [
       "    country                                        description  points  price  \\\n",
       "0     Italy  Aromas include tropical fruit, broom, brimston...      87    NaN   \n",
       "1  Portugal  This is ripe and fruity, a wine that is smooth...      87   15.0   \n",
       "2        US  Tart and snappy, the flavors of lime flesh and...      87   14.0   \n",
       "3        US  Pineapple rind, lemon pith and orange blossom ...      87   13.0   \n",
       "4        US  Much like the regular bottling from 2012, this...      87   65.0   \n",
       "\n",
       "            province             region_1         taster_name  \\\n",
       "0  Sicily & Sardinia                 Etna       Kerin O’Keefe   \n",
       "1              Douro                  NaN          Roger Voss   \n",
       "2             Oregon    Willamette Valley        Paul Gregutt   \n",
       "3           Michigan  Lake Michigan Shore  Alexander Peartree   \n",
       "4             Oregon    Willamette Valley        Paul Gregutt   \n",
       "\n",
       "                                               title         variety  \\\n",
       "0                  Nicosia 2013 Vulkà Bianco  (Etna)     White Blend   \n",
       "1      Quinta dos Avidagos 2011 Avidagos Red (Douro)  Portuguese Red   \n",
       "2      Rainstorm 2013 Pinot Gris (Willamette Valley)      Pinot Gris   \n",
       "3  St. Julian 2013 Reserve Late Harvest Riesling ...        Riesling   \n",
       "4  Sweet Cheeks 2012 Vintner's Reserve Wild Child...      Pinot Noir   \n",
       "\n",
       "                winery  \n",
       "0              Nicosia  \n",
       "1  Quinta dos Avidagos  \n",
       "2            Rainstorm  \n",
       "3           St. Julian  \n",
       "4         Sweet Cheeks  "
      ]
     },
     "execution_count": 14,
     "metadata": {},
     "output_type": "execute_result"
    }
   ],
   "source": [
    "df = df[df.variety.notna()].reset_index()\n",
    "df = df.drop('index', axis=1)\n",
    "df.head()"
   ]
  },
  {
   "cell_type": "markdown",
   "id": "8811bc90",
   "metadata": {},
   "source": [
    "## Feature correlation"
   ]
  },
  {
   "cell_type": "markdown",
   "id": "2e08d53b",
   "metadata": {},
   "source": [
    "#### Countinuous features distributions"
   ]
  },
  {
   "cell_type": "code",
   "execution_count": 15,
   "id": "cb544414",
   "metadata": {},
   "outputs": [
    {
     "data": {
      "text/plain": [
       "<AxesSubplot:xlabel='points'>"
      ]
     },
     "execution_count": 15,
     "metadata": {},
     "output_type": "execute_result"
    },
    {
     "data": {
      "image/png": "[encoded data removed]",
      "text/plain": [
       "<Figure size 432x288 with 1 Axes>"
      ]
     },
     "metadata": {},
     "output_type": "display_data"
    }
   ],
   "source": [
    "# Histogram \n",
    "sns.distplot(a=df['points'], kde=False)"
   ]
  },
  {
   "cell_type": "code",
   "execution_count": 16,
   "id": "9a513ee5",
   "metadata": {},
   "outputs": [
    {
     "data": {
      "text/plain": [
       "<AxesSubplot:xlabel='points', ylabel='Density'>"
      ]
     },
     "execution_count": 16,
     "metadata": {},
     "output_type": "execute_result"
    },
    {
     "data": {
      "image/png": "[encoded data removed]",
      "text/plain": [
       "<Figure size 432x288 with 1 Axes>"
      ]
     },
     "metadata": {},
     "output_type": "display_data"
    }
   ],
   "source": [
    "# KDE plot \n",
    "sns.kdeplot(data=df['points'], shade=True)"
   ]
  },
  {
   "cell_type": "markdown",
   "id": "5f6f69ac",
   "metadata": {},
   "source": [
    "Points feature range in dataset is actually between 80 and 100. So, we can conclude that only best rated wines are in input dataset. Distribution is aproximately bell curved, with some missing points in between."
   ]
  },
  {
   "cell_type": "code",
   "execution_count": 17,
   "id": "354a3adf",
   "metadata": {},
   "outputs": [
    {
     "data": {
      "text/plain": [
       "<AxesSubplot:xlabel='price'>"
      ]
     },
     "execution_count": 17,
     "metadata": {},
     "output_type": "execute_result"
    },
    {
     "data": {
      "image/png": "[encoded data removed]",
      "text/plain": [
       "<Figure size 432x288 with 1 Axes>"
      ]
     },
     "metadata": {},
     "output_type": "display_data"
    }
   ],
   "source": [
    "# Histogram \n",
    "sns.distplot(a=df['price'], kde=False)"
   ]
  },
  {
   "cell_type": "markdown",
   "id": "48f9fa22",
   "metadata": {},
   "source": [
    "On price distribution histogram if the range is from 0 to 3000 most of the wines are in range from 0 - 500. So probably more expensive wines are over rated and to expensive (outliers). So this outliers need to be removed."
   ]
  },
  {
   "cell_type": "code",
   "execution_count": 18,
   "id": "16a808de",
   "metadata": {},
   "outputs": [],
   "source": [
    "df = df.loc[df['price'] <= 500]"
   ]
  },
  {
   "cell_type": "code",
   "execution_count": 19,
   "id": "58fd74e6",
   "metadata": {},
   "outputs": [
    {
     "data": {
      "text/plain": [
       "<AxesSubplot:xlabel='price'>"
      ]
     },
     "execution_count": 19,
     "metadata": {},
     "output_type": "execute_result"
    },
    {
     "data": {
      "image/png": "[encoded data removed]",
      "text/plain": [
       "<Figure size 432x288 with 1 Axes>"
      ]
     },
     "metadata": {},
     "output_type": "display_data"
    }
   ],
   "source": [
    "# Histogram \n",
    "sns.distplot(a=df['price'], kde=False)"
   ]
  },
  {
   "cell_type": "code",
   "execution_count": 20,
   "id": "3857ecf7",
   "metadata": {},
   "outputs": [
    {
     "data": {
      "text/plain": [
       "<AxesSubplot:xlabel='price', ylabel='Density'>"
      ]
     },
     "execution_count": 20,
     "metadata": {},
     "output_type": "execute_result"
    },
    {
     "data": {
      "image/png": "[encoded data removed]",
      "text/plain": [
       "<Figure size 432x288 with 1 Axes>"
      ]
     },
     "metadata": {},
     "output_type": "display_data"
    }
   ],
   "source": [
    "# KDE plot \n",
    "sns.kdeplot(data=df['price'], shade=True)"
   ]
  },
  {
   "cell_type": "markdown",
   "id": "7ee3fdfc",
   "metadata": {},
   "source": [
    "\n",
    "\"In the study of probability theory, the **central limit theorem (CLT**) states that the distribution of sample approximates a normal distribution (also known as a “bell curve”) as the sample size becomes larger, assuming that all samples are identical in size, and regardless of the population distribution shape.\n",
    "\n",
    "Said another way, CLT is a statistical theory stating that given a sufficiently large sample size from a population with a finite level of variance, the mean of all samples from the same population will be approximately equal to the mean of the population. \"\n",
    "\n",
    "Price distribution is right skewed so it need to be transformed in bell shaped curve in feature engineering step.\n",
    "It is important for most ML models except decision tree based. \n",
    "\n",
    "If data distribution is bell shaped curve models will have better generalization.  "
   ]
  },
  {
   "cell_type": "markdown",
   "id": "620f1eea",
   "metadata": {},
   "source": [
    "#### Points - price correlation"
   ]
  },
  {
   "cell_type": "code",
   "execution_count": 21,
   "id": "cf37e617",
   "metadata": {},
   "outputs": [
    {
     "data": {
      "text/plain": [
       "<AxesSubplot:xlabel='price', ylabel='points'>"
      ]
     },
     "execution_count": 21,
     "metadata": {},
     "output_type": "execute_result"
    },
    {
     "data": {
      "image/png": "[encoded data removed]",
      "text/plain": [
       "<Figure size 432x288 with 1 Axes>"
      ]
     },
     "metadata": {},
     "output_type": "display_data"
    }
   ],
   "source": [
    "sns.regplot(x=df['price'], y=df['points'])"
   ]
  },
  {
   "cell_type": "markdown",
   "id": "7ca7b587",
   "metadata": {},
   "source": [
    "Linear correlation between price and points its not so obviuos. We see that both the lower and higher priced wines could have same points. Also worth to mention points don't follow price function. The most relevant function for describing relation could be log function but stil there is a lot of variance (spread in data), so the bias will be very high.  \n"
   ]
  },
  {
   "cell_type": "markdown",
   "id": "330367af",
   "metadata": {},
   "source": [
    "### Statistics\n",
    "The size of a correlation coefficient suggests correlation between independent and dependent variable.\n",
    "p-value indicates significance of correlation coefficient (p-value <= 0.05).\n",
    "We will use the following methods to calculate the correlation coefficients:\n",
    "   - Pearson correlation coefficient - strength and direction of the linear relationship between two variables\n",
    "   - Spearman correlation coefficient - Spearman's correlation determines the strength and direction of the monotonic relationship between two variables rather than the strength and direction of the linear relationship between two variables"
   ]
  },
  {
   "cell_type": "code",
   "execution_count": 22,
   "id": "31e0af4e",
   "metadata": {},
   "outputs": [
    {
     "data": {
      "text/html": [
       "<div>\n",
       "<style scoped>\n",
       "    .dataframe tbody tr th:only-of-type {\n",
       "        vertical-align: middle;\n",
       "    }\n",
       "\n",
       "    .dataframe tbody tr th {\n",
       "        vertical-align: top;\n",
       "    }\n",
       "\n",
       "    .dataframe thead th {\n",
       "        text-align: right;\n",
       "    }\n",
       "</style>\n",
       "<table border=\"1\" class=\"dataframe\">\n",
       "  <thead>\n",
       "    <tr style=\"text-align: right;\">\n",
       "      <th></th>\n",
       "      <th>corr</th>\n",
       "      <th>p-value</th>\n",
       "    </tr>\n",
       "  </thead>\n",
       "  <tbody>\n",
       "    <tr>\n",
       "      <th>pearson</th>\n",
       "      <td>0.495518</td>\n",
       "      <td>0.0</td>\n",
       "    </tr>\n",
       "    <tr>\n",
       "      <th>spearman</th>\n",
       "      <td>0.495518</td>\n",
       "      <td>0.0</td>\n",
       "    </tr>\n",
       "  </tbody>\n",
       "</table>\n",
       "</div>"
      ],
      "text/plain": [
       "              corr  p-value\n",
       "pearson   0.495518      0.0\n",
       "spearman  0.495518      0.0"
      ]
     },
     "execution_count": 22,
     "metadata": {},
     "output_type": "execute_result"
    }
   ],
   "source": [
    "import scipy as sc\n",
    "\n",
    "stats_pe_spe = {\"corr\": [], \"p-value\": []}\n",
    "\n",
    "pearson_price_points = sc.stats.pearsonr(df.price, df.points)\n",
    "spearman_price_points = sc.stats.spearmanr(df.price, df.points)\n",
    "\n",
    "for i in range(len(list(stats_pe_spe.keys()))):\n",
    "    stats_pe_spe[list(stats_pe_spe.keys())[i]].append(pearson_price_points[i])\n",
    "    stats_pe_spe[list(stats_pe_spe.keys())[i]].append(pearson_price_points[i])\n",
    "\n",
    "pd.DataFrame(stats_pe_spe, columns=['corr', 'p-value'], index=['pearson', 'spearman'])"
   ]
  },
  {
   "cell_type": "markdown",
   "id": "83029906",
   "metadata": {},
   "source": [
    "p-value near zero indicates significance of correlation coefficient but correlation coefficient need to be abs(corr) >= 0.5.\n",
    "More siginificat relationship is between 0.7-1.\n",
    "\n",
    "\n",
    "Price feature can be included in input dataset but it will not siginifantly influence on ML model accuracy in positive manner. Probably if price feature will be included in input dataset more noise will be included which will lead to lower accuracy of ML model. So price will be excluded from input dataset."
   ]
  },
  {
   "cell_type": "code",
   "execution_count": 23,
   "id": "57c4ca5e",
   "metadata": {},
   "outputs": [
    {
     "data": {
      "text/html": [
       "<div>\n",
       "<style scoped>\n",
       "    .dataframe tbody tr th:only-of-type {\n",
       "        vertical-align: middle;\n",
       "    }\n",
       "\n",
       "    .dataframe tbody tr th {\n",
       "        vertical-align: top;\n",
       "    }\n",
       "\n",
       "    .dataframe thead th {\n",
       "        text-align: right;\n",
       "    }\n",
       "</style>\n",
       "<table border=\"1\" class=\"dataframe\">\n",
       "  <thead>\n",
       "    <tr style=\"text-align: right;\">\n",
       "      <th></th>\n",
       "      <th>country</th>\n",
       "      <th>description</th>\n",
       "      <th>points</th>\n",
       "      <th>province</th>\n",
       "      <th>region_1</th>\n",
       "      <th>taster_name</th>\n",
       "      <th>title</th>\n",
       "      <th>variety</th>\n",
       "      <th>winery</th>\n",
       "    </tr>\n",
       "  </thead>\n",
       "  <tbody>\n",
       "    <tr>\n",
       "      <th>1</th>\n",
       "      <td>Portugal</td>\n",
       "      <td>This is ripe and fruity, a wine that is smooth...</td>\n",
       "      <td>87</td>\n",
       "      <td>Douro</td>\n",
       "      <td>NaN</td>\n",
       "      <td>Roger Voss</td>\n",
       "      <td>Quinta dos Avidagos 2011 Avidagos Red (Douro)</td>\n",
       "      <td>Portuguese Red</td>\n",
       "      <td>Quinta dos Avidagos</td>\n",
       "    </tr>\n",
       "    <tr>\n",
       "      <th>2</th>\n",
       "      <td>US</td>\n",
       "      <td>Tart and snappy, the flavors of lime flesh and...</td>\n",
       "      <td>87</td>\n",
       "      <td>Oregon</td>\n",
       "      <td>Willamette Valley</td>\n",
       "      <td>Paul Gregutt</td>\n",
       "      <td>Rainstorm 2013 Pinot Gris (Willamette Valley)</td>\n",
       "      <td>Pinot Gris</td>\n",
       "      <td>Rainstorm</td>\n",
       "    </tr>\n",
       "    <tr>\n",
       "      <th>3</th>\n",
       "      <td>US</td>\n",
       "      <td>Pineapple rind, lemon pith and orange blossom ...</td>\n",
       "      <td>87</td>\n",
       "      <td>Michigan</td>\n",
       "      <td>Lake Michigan Shore</td>\n",
       "      <td>Alexander Peartree</td>\n",
       "      <td>St. Julian 2013 Reserve Late Harvest Riesling ...</td>\n",
       "      <td>Riesling</td>\n",
       "      <td>St. Julian</td>\n",
       "    </tr>\n",
       "    <tr>\n",
       "      <th>4</th>\n",
       "      <td>US</td>\n",
       "      <td>Much like the regular bottling from 2012, this...</td>\n",
       "      <td>87</td>\n",
       "      <td>Oregon</td>\n",
       "      <td>Willamette Valley</td>\n",
       "      <td>Paul Gregutt</td>\n",
       "      <td>Sweet Cheeks 2012 Vintner's Reserve Wild Child...</td>\n",
       "      <td>Pinot Noir</td>\n",
       "      <td>Sweet Cheeks</td>\n",
       "    </tr>\n",
       "    <tr>\n",
       "      <th>5</th>\n",
       "      <td>Spain</td>\n",
       "      <td>Blackberry and raspberry aromas show a typical...</td>\n",
       "      <td>87</td>\n",
       "      <td>Northern Spain</td>\n",
       "      <td>Navarra</td>\n",
       "      <td>Michael Schachner</td>\n",
       "      <td>Tandem 2011 Ars In Vitro Tempranillo-Merlot (N...</td>\n",
       "      <td>Tempranillo-Merlot</td>\n",
       "      <td>Tandem</td>\n",
       "    </tr>\n",
       "  </tbody>\n",
       "</table>\n",
       "</div>"
      ],
      "text/plain": [
       "    country                                        description  points  \\\n",
       "1  Portugal  This is ripe and fruity, a wine that is smooth...      87   \n",
       "2        US  Tart and snappy, the flavors of lime flesh and...      87   \n",
       "3        US  Pineapple rind, lemon pith and orange blossom ...      87   \n",
       "4        US  Much like the regular bottling from 2012, this...      87   \n",
       "5     Spain  Blackberry and raspberry aromas show a typical...      87   \n",
       "\n",
       "         province             region_1         taster_name  \\\n",
       "1           Douro                  NaN          Roger Voss   \n",
       "2          Oregon    Willamette Valley        Paul Gregutt   \n",
       "3        Michigan  Lake Michigan Shore  Alexander Peartree   \n",
       "4          Oregon    Willamette Valley        Paul Gregutt   \n",
       "5  Northern Spain              Navarra   Michael Schachner   \n",
       "\n",
       "                                               title             variety  \\\n",
       "1      Quinta dos Avidagos 2011 Avidagos Red (Douro)      Portuguese Red   \n",
       "2      Rainstorm 2013 Pinot Gris (Willamette Valley)          Pinot Gris   \n",
       "3  St. Julian 2013 Reserve Late Harvest Riesling ...            Riesling   \n",
       "4  Sweet Cheeks 2012 Vintner's Reserve Wild Child...          Pinot Noir   \n",
       "5  Tandem 2011 Ars In Vitro Tempranillo-Merlot (N...  Tempranillo-Merlot   \n",
       "\n",
       "                winery  \n",
       "1  Quinta dos Avidagos  \n",
       "2            Rainstorm  \n",
       "3           St. Julian  \n",
       "4         Sweet Cheeks  \n",
       "5               Tandem  "
      ]
     },
     "execution_count": 23,
     "metadata": {},
     "output_type": "execute_result"
    }
   ],
   "source": [
    "df = df.drop('price', axis=1)\n",
    "df.head()"
   ]
  },
  {
   "cell_type": "markdown",
   "id": "5abb7241",
   "metadata": {},
   "source": [
    "### Correlation between nominal and continuus features\n",
    "\n",
    "We need to discover most common categories inside all features and plot distributions between them and target points variable.\n",
    "Also mutual information between categorical and points target variables need to be calculated. \n",
    "See at documentation https://scikit-learn.org/stable/modules/generated/sklearn.feature_selection.mutual_info_regression.html"
   ]
  },
  {
   "cell_type": "markdown",
   "id": "a088e35c",
   "metadata": {},
   "source": [
    "#### Variety"
   ]
  },
  {
   "cell_type": "code",
   "execution_count": 24,
   "id": "e474c5c9",
   "metadata": {},
   "outputs": [
    {
     "data": {
      "text/plain": [
       "Pinot Noir                    12775\n",
       "Chardonnay                    11064\n",
       "Cabernet Sauvignon             9383\n",
       "Red Blend                      8476\n",
       "Bordeaux-style Red Blend       5325\n",
       "                              ...  \n",
       "Pinotage-Merlot                   1\n",
       "Pinot Gris-Gewürztraminer         1\n",
       "Cabernet Sauvignon-Barbera        1\n",
       "Irsai Oliver                      1\n",
       "Carcajolu                         1\n",
       "Name: variety, Length: 697, dtype: int64"
      ]
     },
     "execution_count": 24,
     "metadata": {},
     "output_type": "execute_result"
    }
   ],
   "source": [
    "df.variety.value_counts()"
   ]
  },
  {
   "cell_type": "markdown",
   "id": "e45765e7",
   "metadata": {},
   "source": [
    "Wine varieties which has lower than 100 rewievs will be **removed for exploration analysis** purpose because we want to have representative dataset."
   ]
  },
  {
   "cell_type": "code",
   "execution_count": 25,
   "id": "642edb85",
   "metadata": {},
   "outputs": [
    {
     "data": {
      "text/html": [
       "<div>\n",
       "<style scoped>\n",
       "    .dataframe tbody tr th:only-of-type {\n",
       "        vertical-align: middle;\n",
       "    }\n",
       "\n",
       "    .dataframe tbody tr th {\n",
       "        vertical-align: top;\n",
       "    }\n",
       "\n",
       "    .dataframe thead th {\n",
       "        text-align: right;\n",
       "    }\n",
       "</style>\n",
       "<table border=\"1\" class=\"dataframe\">\n",
       "  <thead>\n",
       "    <tr style=\"text-align: right;\">\n",
       "      <th></th>\n",
       "      <th>country</th>\n",
       "      <th>description</th>\n",
       "      <th>points</th>\n",
       "      <th>province</th>\n",
       "      <th>region_1</th>\n",
       "      <th>taster_name</th>\n",
       "      <th>title</th>\n",
       "      <th>variety</th>\n",
       "      <th>winery</th>\n",
       "    </tr>\n",
       "  </thead>\n",
       "  <tbody>\n",
       "    <tr>\n",
       "      <th>1</th>\n",
       "      <td>Portugal</td>\n",
       "      <td>This is ripe and fruity, a wine that is smooth...</td>\n",
       "      <td>87</td>\n",
       "      <td>Douro</td>\n",
       "      <td>NaN</td>\n",
       "      <td>Roger Voss</td>\n",
       "      <td>Quinta dos Avidagos 2011 Avidagos Red (Douro)</td>\n",
       "      <td>Portuguese Red</td>\n",
       "      <td>Quinta dos Avidagos</td>\n",
       "    </tr>\n",
       "    <tr>\n",
       "      <th>2</th>\n",
       "      <td>US</td>\n",
       "      <td>Tart and snappy, the flavors of lime flesh and...</td>\n",
       "      <td>87</td>\n",
       "      <td>Oregon</td>\n",
       "      <td>Willamette Valley</td>\n",
       "      <td>Paul Gregutt</td>\n",
       "      <td>Rainstorm 2013 Pinot Gris (Willamette Valley)</td>\n",
       "      <td>Pinot Gris</td>\n",
       "      <td>Rainstorm</td>\n",
       "    </tr>\n",
       "    <tr>\n",
       "      <th>3</th>\n",
       "      <td>US</td>\n",
       "      <td>Pineapple rind, lemon pith and orange blossom ...</td>\n",
       "      <td>87</td>\n",
       "      <td>Michigan</td>\n",
       "      <td>Lake Michigan Shore</td>\n",
       "      <td>Alexander Peartree</td>\n",
       "      <td>St. Julian 2013 Reserve Late Harvest Riesling ...</td>\n",
       "      <td>Riesling</td>\n",
       "      <td>St. Julian</td>\n",
       "    </tr>\n",
       "    <tr>\n",
       "      <th>4</th>\n",
       "      <td>US</td>\n",
       "      <td>Much like the regular bottling from 2012, this...</td>\n",
       "      <td>87</td>\n",
       "      <td>Oregon</td>\n",
       "      <td>Willamette Valley</td>\n",
       "      <td>Paul Gregutt</td>\n",
       "      <td>Sweet Cheeks 2012 Vintner's Reserve Wild Child...</td>\n",
       "      <td>Pinot Noir</td>\n",
       "      <td>Sweet Cheeks</td>\n",
       "    </tr>\n",
       "    <tr>\n",
       "      <th>7</th>\n",
       "      <td>France</td>\n",
       "      <td>This dry and restrained wine offers spice in p...</td>\n",
       "      <td>87</td>\n",
       "      <td>Alsace</td>\n",
       "      <td>Alsace</td>\n",
       "      <td>Roger Voss</td>\n",
       "      <td>Trimbach 2012 Gewurztraminer (Alsace)</td>\n",
       "      <td>Gewürztraminer</td>\n",
       "      <td>Trimbach</td>\n",
       "    </tr>\n",
       "  </tbody>\n",
       "</table>\n",
       "</div>"
      ],
      "text/plain": [
       "    country                                        description  points  \\\n",
       "1  Portugal  This is ripe and fruity, a wine that is smooth...      87   \n",
       "2        US  Tart and snappy, the flavors of lime flesh and...      87   \n",
       "3        US  Pineapple rind, lemon pith and orange blossom ...      87   \n",
       "4        US  Much like the regular bottling from 2012, this...      87   \n",
       "7    France  This dry and restrained wine offers spice in p...      87   \n",
       "\n",
       "   province             region_1         taster_name  \\\n",
       "1     Douro                  NaN          Roger Voss   \n",
       "2    Oregon    Willamette Valley        Paul Gregutt   \n",
       "3  Michigan  Lake Michigan Shore  Alexander Peartree   \n",
       "4    Oregon    Willamette Valley        Paul Gregutt   \n",
       "7    Alsace               Alsace          Roger Voss   \n",
       "\n",
       "                                               title         variety  \\\n",
       "1      Quinta dos Avidagos 2011 Avidagos Red (Douro)  Portuguese Red   \n",
       "2      Rainstorm 2013 Pinot Gris (Willamette Valley)      Pinot Gris   \n",
       "3  St. Julian 2013 Reserve Late Harvest Riesling ...        Riesling   \n",
       "4  Sweet Cheeks 2012 Vintner's Reserve Wild Child...      Pinot Noir   \n",
       "7              Trimbach 2012 Gewurztraminer (Alsace)  Gewürztraminer   \n",
       "\n",
       "                winery  \n",
       "1  Quinta dos Avidagos  \n",
       "2            Rainstorm  \n",
       "3           St. Julian  \n",
       "4         Sweet Cheeks  \n",
       "7             Trimbach  "
      ]
     },
     "execution_count": 25,
     "metadata": {},
     "output_type": "execute_result"
    }
   ],
   "source": [
    "df_variety = df.groupby('variety').filter(lambda df: len(df.variety) > 100)\n",
    "df_variety.head()"
   ]
  },
  {
   "cell_type": "code",
   "execution_count": 26,
   "id": "e35ae3b9",
   "metadata": {},
   "outputs": [
    {
     "data": {
      "text/plain": [
       "88"
      ]
     },
     "execution_count": 26,
     "metadata": {},
     "output_type": "execute_result"
    }
   ],
   "source": [
    "df_variety.variety.value_counts().shape[0]"
   ]
  },
  {
   "cell_type": "markdown",
   "id": "cba99be4",
   "metadata": {},
   "source": [
    "Get number of reviews per variety category."
   ]
  },
  {
   "cell_type": "code",
   "execution_count": 27,
   "id": "b1f8989f",
   "metadata": {},
   "outputs": [
    {
     "data": {
      "text/html": [
       "<div>\n",
       "<style scoped>\n",
       "    .dataframe tbody tr th:only-of-type {\n",
       "        vertical-align: middle;\n",
       "    }\n",
       "\n",
       "    .dataframe tbody tr th {\n",
       "        vertical-align: top;\n",
       "    }\n",
       "\n",
       "    .dataframe thead th {\n",
       "        text-align: right;\n",
       "    }\n",
       "</style>\n",
       "<table border=\"1\" class=\"dataframe\">\n",
       "  <thead>\n",
       "    <tr style=\"text-align: right;\">\n",
       "      <th></th>\n",
       "      <th>variety</th>\n",
       "      <th>num_of_reviews</th>\n",
       "    </tr>\n",
       "  </thead>\n",
       "  <tbody>\n",
       "    <tr>\n",
       "      <th>0</th>\n",
       "      <td>Pinot Noir</td>\n",
       "      <td>12775</td>\n",
       "    </tr>\n",
       "    <tr>\n",
       "      <th>1</th>\n",
       "      <td>Chardonnay</td>\n",
       "      <td>11064</td>\n",
       "    </tr>\n",
       "    <tr>\n",
       "      <th>2</th>\n",
       "      <td>Cabernet Sauvignon</td>\n",
       "      <td>9383</td>\n",
       "    </tr>\n",
       "    <tr>\n",
       "      <th>3</th>\n",
       "      <td>Red Blend</td>\n",
       "      <td>8476</td>\n",
       "    </tr>\n",
       "    <tr>\n",
       "      <th>4</th>\n",
       "      <td>Bordeaux-style Red Blend</td>\n",
       "      <td>5325</td>\n",
       "    </tr>\n",
       "    <tr>\n",
       "      <th>...</th>\n",
       "      <td>...</td>\n",
       "      <td>...</td>\n",
       "    </tr>\n",
       "    <tr>\n",
       "      <th>83</th>\n",
       "      <td>Nerello Mascalese</td>\n",
       "      <td>111</td>\n",
       "    </tr>\n",
       "    <tr>\n",
       "      <th>84</th>\n",
       "      <td>Grillo</td>\n",
       "      <td>109</td>\n",
       "    </tr>\n",
       "    <tr>\n",
       "      <th>85</th>\n",
       "      <td>Viura</td>\n",
       "      <td>105</td>\n",
       "    </tr>\n",
       "    <tr>\n",
       "      <th>86</th>\n",
       "      <td>Bonarda</td>\n",
       "      <td>105</td>\n",
       "    </tr>\n",
       "    <tr>\n",
       "      <th>87</th>\n",
       "      <td>Cabernet Sauvignon-Syrah</td>\n",
       "      <td>102</td>\n",
       "    </tr>\n",
       "  </tbody>\n",
       "</table>\n",
       "<p>88 rows × 2 columns</p>\n",
       "</div>"
      ],
      "text/plain": [
       "                     variety  num_of_reviews\n",
       "0                 Pinot Noir           12775\n",
       "1                 Chardonnay           11064\n",
       "2         Cabernet Sauvignon            9383\n",
       "3                  Red Blend            8476\n",
       "4   Bordeaux-style Red Blend            5325\n",
       "..                       ...             ...\n",
       "83         Nerello Mascalese             111\n",
       "84                    Grillo             109\n",
       "85                     Viura             105\n",
       "86                   Bonarda             105\n",
       "87  Cabernet Sauvignon-Syrah             102\n",
       "\n",
       "[88 rows x 2 columns]"
      ]
     },
     "execution_count": 27,
     "metadata": {},
     "output_type": "execute_result"
    }
   ],
   "source": [
    "df_variety_len = df_variety.variety.value_counts()\n",
    "df_variety_len = pd.DataFrame(df_variety_len).reset_index()\n",
    "df_variety_len.columns = ['variety', 'num_of_reviews']\n",
    "df_variety_len"
   ]
  },
  {
   "cell_type": "markdown",
   "id": "7c178ff2",
   "metadata": {},
   "source": [
    "Take random ten categories from variety feature and plot distributions for target points variable."
   ]
  },
  {
   "cell_type": "code",
   "execution_count": 28,
   "id": "d7cfb0aa",
   "metadata": {},
   "outputs": [
    {
     "data": {
      "text/plain": [
       "[Text(0, 0, 'Portuguese Red'),\n",
       " Text(1, 0, 'Grillo'),\n",
       " Text(2, 0, 'Sangiovese'),\n",
       " Text(3, 0, 'Viognier'),\n",
       " Text(4, 0, 'Portuguese White'),\n",
       " Text(5, 0, 'Shiraz'),\n",
       " Text(6, 0, 'Cabernet Sauvignon-Syrah'),\n",
       " Text(7, 0, 'Melon'),\n",
       " Text(8, 0, 'Dolcetto'),\n",
       " Text(9, 0, 'Glera')]"
      ]
     },
     "execution_count": 28,
     "metadata": {},
     "output_type": "execute_result"
    },
    {
     "data": {
      "image/png": "[encoded data removed]",
      "text/plain": [
       "<Figure size 720x360 with 1 Axes>"
      ]
     },
     "metadata": {},
     "output_type": "display_data"
    }
   ],
   "source": [
    "df_variety_len_rand = df_variety_len.sample(n=10)\n",
    "df_variety_list = df_variety_len_rand.variety.tolist()\n",
    "df_variety = df.loc[df.variety.isin(df_variety_list)]\n",
    "plt.figure(figsize=(10,5))\n",
    "chart = sns.boxplot(\n",
    "    data=df_variety,\n",
    "    x='variety',\n",
    "    y=\"points\",\n",
    ")\n",
    "chart.set_xticklabels(chart.get_xticklabels(), rotation=45)"
   ]
  },
  {
   "cell_type": "markdown",
   "id": "38845a7b",
   "metadata": {},
   "source": [
    "Because a lot of overlaping of target points variable distributions between different varieties we can say that variety feature is not highly corelated with points variable, but before we can decide to drop variety feature we will calculate mutual information between variety and points variables. Look at section **Mutual information**."
   ]
  },
  {
   "cell_type": "markdown",
   "id": "79dd6cf0",
   "metadata": {},
   "source": [
    "#### Country\n",
    "\n",
    "Let's see countries with most reviews."
   ]
  },
  {
   "cell_type": "code",
   "execution_count": 29,
   "id": "77806f4b",
   "metadata": {},
   "outputs": [
    {
     "data": {
      "text/html": [
       "<div>\n",
       "<style scoped>\n",
       "    .dataframe tbody tr th:only-of-type {\n",
       "        vertical-align: middle;\n",
       "    }\n",
       "\n",
       "    .dataframe tbody tr th {\n",
       "        vertical-align: top;\n",
       "    }\n",
       "\n",
       "    .dataframe thead th {\n",
       "        text-align: right;\n",
       "    }\n",
       "</style>\n",
       "<table border=\"1\" class=\"dataframe\">\n",
       "  <thead>\n",
       "    <tr style=\"text-align: right;\">\n",
       "      <th></th>\n",
       "      <th>country</th>\n",
       "      <th>num_of_reviews</th>\n",
       "    </tr>\n",
       "  </thead>\n",
       "  <tbody>\n",
       "    <tr>\n",
       "      <th>39</th>\n",
       "      <td>US</td>\n",
       "      <td>54260</td>\n",
       "    </tr>\n",
       "    <tr>\n",
       "      <th>14</th>\n",
       "      <td>France</td>\n",
       "      <td>17722</td>\n",
       "    </tr>\n",
       "    <tr>\n",
       "      <th>21</th>\n",
       "      <td>Italy</td>\n",
       "      <td>16905</td>\n",
       "    </tr>\n",
       "    <tr>\n",
       "      <th>36</th>\n",
       "      <td>Spain</td>\n",
       "      <td>6570</td>\n",
       "    </tr>\n",
       "    <tr>\n",
       "      <th>30</th>\n",
       "      <td>Portugal</td>\n",
       "      <td>4868</td>\n",
       "    </tr>\n",
       "    <tr>\n",
       "      <th>8</th>\n",
       "      <td>Chile</td>\n",
       "      <td>4415</td>\n",
       "    </tr>\n",
       "    <tr>\n",
       "      <th>0</th>\n",
       "      <td>Argentina</td>\n",
       "      <td>3756</td>\n",
       "    </tr>\n",
       "    <tr>\n",
       "      <th>3</th>\n",
       "      <td>Austria</td>\n",
       "      <td>2798</td>\n",
       "    </tr>\n",
       "    <tr>\n",
       "      <th>2</th>\n",
       "      <td>Australia</td>\n",
       "      <td>2290</td>\n",
       "    </tr>\n",
       "    <tr>\n",
       "      <th>16</th>\n",
       "      <td>Germany</td>\n",
       "      <td>2113</td>\n",
       "    </tr>\n",
       "    <tr>\n",
       "      <th>28</th>\n",
       "      <td>New Zealand</td>\n",
       "      <td>1378</td>\n",
       "    </tr>\n",
       "    <tr>\n",
       "      <th>35</th>\n",
       "      <td>South Africa</td>\n",
       "      <td>1293</td>\n",
       "    </tr>\n",
       "    <tr>\n",
       "      <th>20</th>\n",
       "      <td>Israel</td>\n",
       "      <td>489</td>\n",
       "    </tr>\n",
       "    <tr>\n",
       "      <th>17</th>\n",
       "      <td>Greece</td>\n",
       "      <td>461</td>\n",
       "    </tr>\n",
       "    <tr>\n",
       "      <th>7</th>\n",
       "      <td>Canada</td>\n",
       "      <td>254</td>\n",
       "    </tr>\n",
       "    <tr>\n",
       "      <th>18</th>\n",
       "      <td>Hungary</td>\n",
       "      <td>144</td>\n",
       "    </tr>\n",
       "    <tr>\n",
       "      <th>6</th>\n",
       "      <td>Bulgaria</td>\n",
       "      <td>141</td>\n",
       "    </tr>\n",
       "    <tr>\n",
       "      <th>31</th>\n",
       "      <td>Romania</td>\n",
       "      <td>120</td>\n",
       "    </tr>\n",
       "    <tr>\n",
       "      <th>41</th>\n",
       "      <td>Uruguay</td>\n",
       "      <td>109</td>\n",
       "    </tr>\n",
       "    <tr>\n",
       "      <th>38</th>\n",
       "      <td>Turkey</td>\n",
       "      <td>90</td>\n",
       "    </tr>\n",
       "    <tr>\n",
       "      <th>15</th>\n",
       "      <td>Georgia</td>\n",
       "      <td>84</td>\n",
       "    </tr>\n",
       "    <tr>\n",
       "      <th>34</th>\n",
       "      <td>Slovenia</td>\n",
       "      <td>80</td>\n",
       "    </tr>\n",
       "    <tr>\n",
       "      <th>10</th>\n",
       "      <td>Croatia</td>\n",
       "      <td>71</td>\n",
       "    </tr>\n",
       "    <tr>\n",
       "      <th>25</th>\n",
       "      <td>Mexico</td>\n",
       "      <td>70</td>\n",
       "    </tr>\n",
       "    <tr>\n",
       "      <th>13</th>\n",
       "      <td>England</td>\n",
       "      <td>69</td>\n",
       "    </tr>\n",
       "    <tr>\n",
       "      <th>26</th>\n",
       "      <td>Moldova</td>\n",
       "      <td>59</td>\n",
       "    </tr>\n",
       "    <tr>\n",
       "      <th>5</th>\n",
       "      <td>Brazil</td>\n",
       "      <td>47</td>\n",
       "    </tr>\n",
       "    <tr>\n",
       "      <th>22</th>\n",
       "      <td>Lebanon</td>\n",
       "      <td>35</td>\n",
       "    </tr>\n",
       "    <tr>\n",
       "      <th>27</th>\n",
       "      <td>Morocco</td>\n",
       "      <td>28</td>\n",
       "    </tr>\n",
       "    <tr>\n",
       "      <th>29</th>\n",
       "      <td>Peru</td>\n",
       "      <td>16</td>\n",
       "    </tr>\n",
       "    <tr>\n",
       "      <th>40</th>\n",
       "      <td>Ukraine</td>\n",
       "      <td>14</td>\n",
       "    </tr>\n",
       "    <tr>\n",
       "      <th>24</th>\n",
       "      <td>Macedonia</td>\n",
       "      <td>12</td>\n",
       "    </tr>\n",
       "    <tr>\n",
       "      <th>12</th>\n",
       "      <td>Czech Republic</td>\n",
       "      <td>12</td>\n",
       "    </tr>\n",
       "    <tr>\n",
       "      <th>32</th>\n",
       "      <td>Serbia</td>\n",
       "      <td>12</td>\n",
       "    </tr>\n",
       "    <tr>\n",
       "      <th>11</th>\n",
       "      <td>Cyprus</td>\n",
       "      <td>11</td>\n",
       "    </tr>\n",
       "    <tr>\n",
       "      <th>19</th>\n",
       "      <td>India</td>\n",
       "      <td>9</td>\n",
       "    </tr>\n",
       "    <tr>\n",
       "      <th>37</th>\n",
       "      <td>Switzerland</td>\n",
       "      <td>7</td>\n",
       "    </tr>\n",
       "    <tr>\n",
       "      <th>23</th>\n",
       "      <td>Luxembourg</td>\n",
       "      <td>6</td>\n",
       "    </tr>\n",
       "    <tr>\n",
       "      <th>1</th>\n",
       "      <td>Armenia</td>\n",
       "      <td>2</td>\n",
       "    </tr>\n",
       "    <tr>\n",
       "      <th>4</th>\n",
       "      <td>Bosnia and Herzegovina</td>\n",
       "      <td>2</td>\n",
       "    </tr>\n",
       "    <tr>\n",
       "      <th>33</th>\n",
       "      <td>Slovakia</td>\n",
       "      <td>1</td>\n",
       "    </tr>\n",
       "    <tr>\n",
       "      <th>9</th>\n",
       "      <td>China</td>\n",
       "      <td>1</td>\n",
       "    </tr>\n",
       "  </tbody>\n",
       "</table>\n",
       "</div>"
      ],
      "text/plain": [
       "                   country  num_of_reviews\n",
       "39                      US           54260\n",
       "14                  France           17722\n",
       "21                   Italy           16905\n",
       "36                   Spain            6570\n",
       "30                Portugal            4868\n",
       "8                    Chile            4415\n",
       "0                Argentina            3756\n",
       "3                  Austria            2798\n",
       "2                Australia            2290\n",
       "16                 Germany            2113\n",
       "28             New Zealand            1378\n",
       "35            South Africa            1293\n",
       "20                  Israel             489\n",
       "17                  Greece             461\n",
       "7                   Canada             254\n",
       "18                 Hungary             144\n",
       "6                 Bulgaria             141\n",
       "31                 Romania             120\n",
       "41                 Uruguay             109\n",
       "38                  Turkey              90\n",
       "15                 Georgia              84\n",
       "34                Slovenia              80\n",
       "10                 Croatia              71\n",
       "25                  Mexico              70\n",
       "13                 England              69\n",
       "26                 Moldova              59\n",
       "5                   Brazil              47\n",
       "22                 Lebanon              35\n",
       "27                 Morocco              28\n",
       "29                    Peru              16\n",
       "40                 Ukraine              14\n",
       "24               Macedonia              12\n",
       "12          Czech Republic              12\n",
       "32                  Serbia              12\n",
       "11                  Cyprus              11\n",
       "19                   India               9\n",
       "37             Switzerland               7\n",
       "23              Luxembourg               6\n",
       "1                  Armenia               2\n",
       "4   Bosnia and Herzegovina               2\n",
       "33                Slovakia               1\n",
       "9                    China               1"
      ]
     },
     "execution_count": 29,
     "metadata": {},
     "output_type": "execute_result"
    }
   ],
   "source": [
    "df_country_count = df.groupby('country').apply(lambda df: len(df))\n",
    "df_country_count = df_country_count.reset_index()\n",
    "df_country_count.columns = ['country', 'num_of_reviews']\n",
    "df_country_count = df_country_count.sort_values(by=['num_of_reviews'], ascending=False)\n",
    "df_country_count"
   ]
  },
  {
   "cell_type": "markdown",
   "id": "ab578814",
   "metadata": {},
   "source": [
    "First 12 countries has much more reviews than others but we will select countries with more than 100 reviews just to get more variance of data."
   ]
  },
  {
   "cell_type": "code",
   "execution_count": 30,
   "id": "6502f65c",
   "metadata": {},
   "outputs": [
    {
     "data": {
      "text/plain": [
       "US              54260\n",
       "France          17722\n",
       "Italy           16905\n",
       "Spain            6570\n",
       "Portugal         4868\n",
       "Chile            4415\n",
       "Argentina        3756\n",
       "Austria          2798\n",
       "Australia        2290\n",
       "Germany          2113\n",
       "New Zealand      1378\n",
       "South Africa     1293\n",
       "Israel            489\n",
       "Greece            461\n",
       "Canada            254\n",
       "Hungary           144\n",
       "Bulgaria          141\n",
       "Romania           120\n",
       "Uruguay           109\n",
       "Name: country, dtype: int64"
      ]
     },
     "execution_count": 30,
     "metadata": {},
     "output_type": "execute_result"
    }
   ],
   "source": [
    "df_country = df.groupby('country').filter(lambda df: len(df.country) > 100)\n",
    "df_country.country.value_counts()"
   ]
  },
  {
   "cell_type": "markdown",
   "id": "3d146266",
   "metadata": {},
   "source": [
    "Take ten random countries and plot distribution of points target variable based on that ten country categories."
   ]
  },
  {
   "cell_type": "code",
   "execution_count": 31,
   "id": "b17e68d9",
   "metadata": {},
   "outputs": [
    {
     "data": {
      "text/plain": [
       "[Text(0, 0, 'Spain'),\n",
       " Text(1, 0, 'Italy'),\n",
       " Text(2, 0, 'France'),\n",
       " Text(3, 0, 'Germany'),\n",
       " Text(4, 0, 'Argentina'),\n",
       " Text(5, 0, 'Chile'),\n",
       " Text(6, 0, 'Austria'),\n",
       " Text(7, 0, 'Israel'),\n",
       " Text(8, 0, 'Romania'),\n",
       " Text(9, 0, 'Canada')]"
      ]
     },
     "execution_count": 31,
     "metadata": {},
     "output_type": "execute_result"
    },
    {
     "data": {
      "image/png": "[encoded data removed]",
      "text/plain": [
       "<Figure size 720x360 with 1 Axes>"
      ]
     },
     "metadata": {},
     "output_type": "display_data"
    }
   ],
   "source": [
    "df_country_len = df_country.country.value_counts()\n",
    "df_country_len = pd.DataFrame(df_country_len).reset_index()\n",
    "df_country_len.columns = ['country', 'num_of_reviews']\n",
    "\n",
    "df_country_count_rand = df_country_len.sample(n=10)\n",
    "df_country_list = df_country_count_rand.country.tolist()\n",
    "df_country = df_country.loc[df_country.country.isin(df_country_list)]\n",
    "plt.figure(figsize=(10,5))\n",
    "chart = sns.boxplot(\n",
    "    data=df_country,\n",
    "    x='country',\n",
    "    y=\"points\",\n",
    ")\n",
    "chart.set_xticklabels(chart.get_xticklabels(), rotation=45)"
   ]
  },
  {
   "cell_type": "markdown",
   "id": "5117a702",
   "metadata": {},
   "source": [
    "Because a lot of overlaping of target points variable distributions between different countries we can say that country feature is not highly corelated with points variable, but before we can decide to drop country feature we will calculate mutual information between country and points variables. Look at section **Mutual information**."
   ]
  },
  {
   "cell_type": "markdown",
   "id": "3af94a9d",
   "metadata": {},
   "source": [
    "#### Winery\n",
    "\n",
    "Let's see wineries with most reviews."
   ]
  },
  {
   "cell_type": "code",
   "execution_count": 32,
   "id": "3920c1d4",
   "metadata": {},
   "outputs": [
    {
     "data": {
      "text/html": [
       "<div>\n",
       "<style scoped>\n",
       "    .dataframe tbody tr th:only-of-type {\n",
       "        vertical-align: middle;\n",
       "    }\n",
       "\n",
       "    .dataframe tbody tr th {\n",
       "        vertical-align: top;\n",
       "    }\n",
       "\n",
       "    .dataframe thead th {\n",
       "        text-align: right;\n",
       "    }\n",
       "</style>\n",
       "<table border=\"1\" class=\"dataframe\">\n",
       "  <thead>\n",
       "    <tr style=\"text-align: right;\">\n",
       "      <th></th>\n",
       "      <th>winery</th>\n",
       "      <th>num_of_reviews</th>\n",
       "    </tr>\n",
       "  </thead>\n",
       "  <tbody>\n",
       "    <tr>\n",
       "      <th>14188</th>\n",
       "      <td>Testarossa</td>\n",
       "      <td>217</td>\n",
       "    </tr>\n",
       "    <tr>\n",
       "      <th>15575</th>\n",
       "      <td>Williams Selyem</td>\n",
       "      <td>211</td>\n",
       "    </tr>\n",
       "    <tr>\n",
       "      <th>5017</th>\n",
       "      <td>DFJ Vinhos</td>\n",
       "      <td>209</td>\n",
       "    </tr>\n",
       "    <tr>\n",
       "      <th>15622</th>\n",
       "      <td>Wines &amp; Winemakers</td>\n",
       "      <td>209</td>\n",
       "    </tr>\n",
       "    <tr>\n",
       "      <th>2737</th>\n",
       "      <td>Chateau Ste. Michelle</td>\n",
       "      <td>193</td>\n",
       "    </tr>\n",
       "    <tr>\n",
       "      <th>...</th>\n",
       "      <td>...</td>\n",
       "      <td>...</td>\n",
       "    </tr>\n",
       "    <tr>\n",
       "      <th>3441</th>\n",
       "      <td>Château Lauzade</td>\n",
       "      <td>1</td>\n",
       "    </tr>\n",
       "    <tr>\n",
       "      <th>12758</th>\n",
       "      <td>Ryzin</td>\n",
       "      <td>1</td>\n",
       "    </tr>\n",
       "    <tr>\n",
       "      <th>12759</th>\n",
       "      <td>Régis Jouan</td>\n",
       "      <td>1</td>\n",
       "    </tr>\n",
       "    <tr>\n",
       "      <th>3436</th>\n",
       "      <td>Château Laujac</td>\n",
       "      <td>1</td>\n",
       "    </tr>\n",
       "    <tr>\n",
       "      <th>8321</th>\n",
       "      <td>Jacques Bourguignon</td>\n",
       "      <td>1</td>\n",
       "    </tr>\n",
       "  </tbody>\n",
       "</table>\n",
       "<p>15850 rows × 2 columns</p>\n",
       "</div>"
      ],
      "text/plain": [
       "                      winery  num_of_reviews\n",
       "14188             Testarossa             217\n",
       "15575        Williams Selyem             211\n",
       "5017              DFJ Vinhos             209\n",
       "15622     Wines & Winemakers             209\n",
       "2737   Chateau Ste. Michelle             193\n",
       "...                      ...             ...\n",
       "3441         Château Lauzade               1\n",
       "12758                  Ryzin               1\n",
       "12759            Régis Jouan               1\n",
       "3436          Château Laujac               1\n",
       "8321     Jacques Bourguignon               1\n",
       "\n",
       "[15850 rows x 2 columns]"
      ]
     },
     "execution_count": 32,
     "metadata": {},
     "output_type": "execute_result"
    }
   ],
   "source": [
    "df_winery_count = df.groupby('winery').apply(lambda df: len(df))\n",
    "df_winery_count = df_winery_count.reset_index()\n",
    "df_winery_count.columns = ['winery', 'num_of_reviews']\n",
    "df_winery_count = df_winery_count.sort_values(by=['num_of_reviews'], ascending=False)\n",
    "df_winery_count"
   ]
  },
  {
   "cell_type": "code",
   "execution_count": 33,
   "id": "1a56a428",
   "metadata": {},
   "outputs": [
    {
     "data": {
      "text/plain": [
       "Testarossa               217\n",
       "Williams Selyem          211\n",
       "Wines & Winemakers       209\n",
       "DFJ Vinhos               209\n",
       "Chateau Ste. Michelle    193\n",
       "                        ... \n",
       "Guasti Clemente            1\n",
       "Red Stich                  1\n",
       "Morgan Simpson             1\n",
       "Château La Fortine         1\n",
       "Patritti                   1\n",
       "Name: winery, Length: 15850, dtype: int64"
      ]
     },
     "execution_count": 33,
     "metadata": {},
     "output_type": "execute_result"
    }
   ],
   "source": [
    "df.winery.value_counts()"
   ]
  },
  {
   "cell_type": "markdown",
   "id": "b497db54",
   "metadata": {},
   "source": [
    "**First insight**\n",
    "\n",
    "Like we can see winery feature have more than 15000 unique wineries which is more than 10% of length of samples.\n",
    "Because it is nominal variable we have few options for encoding: a)create new numerical feature in relation with points target variable (MeanEncoder, and related encoders see docs: https://feature-engine.readthedocs.io/en/1.0.x/encoding/index.html)     b) label encoding c) one-hot encoding\n",
    "\n",
    "Problem with statistical and label encoders is that we need to have relevant amount of data for each category inside feature.\n",
    "10% of unique values is definetly to much. Still if we want to use this feature in input data decision tree based algorithms will be more appropriate than neural networks if label encoder will be used. For neural nets prefered way is to use on-hot encoding. In this case matrices will be very sparse which lead to a lot more new features and computational time will increase. The main effect will be that we will need more complex model which need to be properly regulized to not overfit. But still there can be solution in creating new feature from that one-hot encoded feature. From one-hot encoded feature we get 2D sparse matrix which can be multiplied with numerical feature to get new vector numerical feature. In this case we drop price feature because of low correlation with target wariable so this option is excluded. But for final decision we will calculate mutual information."
   ]
  },
  {
   "cell_type": "code",
   "execution_count": 34,
   "id": "8b24164c",
   "metadata": {},
   "outputs": [
    {
     "data": {
      "text/plain": [
       "Testarossa               217\n",
       "Williams Selyem          211\n",
       "DFJ Vinhos               209\n",
       "Wines & Winemakers       209\n",
       "Chateau Ste. Michelle    193\n",
       "Louis Latour             168\n",
       "Concha y Toro            162\n",
       "Columbia Crest           158\n",
       "Kendall-Jackson          130\n",
       "Siduri                   126\n",
       "Gary Farrell             125\n",
       "Georges Duboeuf          120\n",
       "Lynmar                   118\n",
       "Montes                   117\n",
       "Undurraga                112\n",
       "Robert Mondavi           112\n",
       "Trapiche                 112\n",
       "Santa Ema                111\n",
       "Fess Parker              108\n",
       "V. Sattui                107\n",
       "Iron Horse               106\n",
       "Foxen                    105\n",
       "Maryhill                 102\n",
       "Chehalem                 102\n",
       "Kunde                    101\n",
       "Name: winery, dtype: int64"
      ]
     },
     "execution_count": 34,
     "metadata": {},
     "output_type": "execute_result"
    }
   ],
   "source": [
    "df_winery = df.groupby('winery').filter(lambda df: len(df.winery) > 100)\n",
    "df_winery.winery.value_counts()"
   ]
  },
  {
   "cell_type": "code",
   "execution_count": 35,
   "id": "f616bafe",
   "metadata": {},
   "outputs": [
    {
     "data": {
      "text/plain": [
       "[Text(0, 0, 'Louis Latour'),\n",
       " Text(1, 0, 'Undurraga'),\n",
       " Text(2, 0, 'Chehalem'),\n",
       " Text(3, 0, 'Kendall-Jackson'),\n",
       " Text(4, 0, 'Williams Selyem'),\n",
       " Text(5, 0, 'Concha y Toro'),\n",
       " Text(6, 0, 'Trapiche'),\n",
       " Text(7, 0, 'DFJ Vinhos'),\n",
       " Text(8, 0, 'Montes'),\n",
       " Text(9, 0, 'Gary Farrell')]"
      ]
     },
     "execution_count": 35,
     "metadata": {},
     "output_type": "execute_result"
    },
    {
     "data": {
      "image/png": "[encoded data removed]",
      "text/plain": [
       "<Figure size 720x360 with 1 Axes>"
      ]
     },
     "metadata": {},
     "output_type": "display_data"
    }
   ],
   "source": [
    "df_winery_len = df_winery.winery.value_counts()\n",
    "df_winery_len = pd.DataFrame(df_winery_len).reset_index()\n",
    "df_winery_len.columns = ['winery', 'num_of_reviews']\n",
    "\n",
    "df_winery_count_rand = df_winery_len.sample(n=10)\n",
    "df_winery_list = df_winery_count_rand.winery.tolist()\n",
    "df_winery = df_winery.loc[df_winery.winery.isin(df_winery_list)]\n",
    "\n",
    "plt.figure(figsize=(10,5))\n",
    "chart = sns.boxplot(\n",
    "    data=df_winery,\n",
    "    x='winery',\n",
    "    y=\"points\",\n",
    ")\n",
    "chart.set_xticklabels(chart.get_xticklabels(), rotation=45)"
   ]
  },
  {
   "cell_type": "markdown",
   "id": "93b4e41c",
   "metadata": {},
   "source": [
    "Based on the ploted distributions we can see less overlap and higher difference of median values for different categories. The difference is higher because of less data assigned to each category (we need to be cautious). "
   ]
  },
  {
   "cell_type": "markdown",
   "id": "18d52f11",
   "metadata": {},
   "source": [
    "#### Province\n",
    "\n",
    "Let's see provinces with most reviews."
   ]
  },
  {
   "cell_type": "code",
   "execution_count": 36,
   "id": "6ce8ed13",
   "metadata": {},
   "outputs": [
    {
     "data": {
      "text/html": [
       "<div>\n",
       "<style scoped>\n",
       "    .dataframe tbody tr th:only-of-type {\n",
       "        vertical-align: middle;\n",
       "    }\n",
       "\n",
       "    .dataframe tbody tr th {\n",
       "        vertical-align: top;\n",
       "    }\n",
       "\n",
       "    .dataframe thead th {\n",
       "        text-align: right;\n",
       "    }\n",
       "</style>\n",
       "<table border=\"1\" class=\"dataframe\">\n",
       "  <thead>\n",
       "    <tr style=\"text-align: right;\">\n",
       "      <th></th>\n",
       "      <th>province</th>\n",
       "      <th>num_of_reviews</th>\n",
       "    </tr>\n",
       "  </thead>\n",
       "  <tbody>\n",
       "    <tr>\n",
       "      <th>51</th>\n",
       "      <td>California</td>\n",
       "      <td>36099</td>\n",
       "    </tr>\n",
       "    <tr>\n",
       "      <th>408</th>\n",
       "      <td>Washington</td>\n",
       "      <td>8583</td>\n",
       "    </tr>\n",
       "    <tr>\n",
       "      <th>266</th>\n",
       "      <td>Oregon</td>\n",
       "      <td>5359</td>\n",
       "    </tr>\n",
       "    <tr>\n",
       "      <th>371</th>\n",
       "      <td>Tuscany</td>\n",
       "      <td>5121</td>\n",
       "    </tr>\n",
       "    <tr>\n",
       "      <th>36</th>\n",
       "      <td>Bordeaux</td>\n",
       "      <td>3978</td>\n",
       "    </tr>\n",
       "    <tr>\n",
       "      <th>...</th>\n",
       "      <td>...</td>\n",
       "      <td>...</td>\n",
       "    </tr>\n",
       "    <tr>\n",
       "      <th>198</th>\n",
       "      <td>Lutzville Valley</td>\n",
       "      <td>1</td>\n",
       "    </tr>\n",
       "    <tr>\n",
       "      <th>102</th>\n",
       "      <td>Dealurile Hușilor</td>\n",
       "      <td>1</td>\n",
       "    </tr>\n",
       "    <tr>\n",
       "      <th>269</th>\n",
       "      <td>Paardeberg</td>\n",
       "      <td>1</td>\n",
       "    </tr>\n",
       "    <tr>\n",
       "      <th>351</th>\n",
       "      <td>Table wine</td>\n",
       "      <td>1</td>\n",
       "    </tr>\n",
       "    <tr>\n",
       "      <th>236</th>\n",
       "      <td>Muscat of Kefallonian</td>\n",
       "      <td>1</td>\n",
       "    </tr>\n",
       "  </tbody>\n",
       "</table>\n",
       "<p>422 rows × 2 columns</p>\n",
       "</div>"
      ],
      "text/plain": [
       "                  province  num_of_reviews\n",
       "51              California           36099\n",
       "408             Washington            8583\n",
       "266                 Oregon            5359\n",
       "371                Tuscany            5121\n",
       "36                Bordeaux            3978\n",
       "..                     ...             ...\n",
       "198       Lutzville Valley               1\n",
       "102      Dealurile Hușilor               1\n",
       "269             Paardeberg               1\n",
       "351             Table wine               1\n",
       "236  Muscat of Kefallonian               1\n",
       "\n",
       "[422 rows x 2 columns]"
      ]
     },
     "execution_count": 36,
     "metadata": {},
     "output_type": "execute_result"
    }
   ],
   "source": [
    "df_province_count = df.groupby('province').apply(lambda df: len(df))\n",
    "df_province_count = df_province_count.reset_index()\n",
    "df_province_count.columns = ['province', 'num_of_reviews']\n",
    "df_province_count = df_province_count.sort_values(by=['num_of_reviews'], ascending=False)\n",
    "df_province_count"
   ]
  },
  {
   "cell_type": "code",
   "execution_count": 37,
   "id": "cd734b2d",
   "metadata": {},
   "outputs": [
    {
     "data": {
      "text/plain": [
       "California            36099\n",
       "Washington             8583\n",
       "Oregon                 5359\n",
       "Tuscany                5121\n",
       "Bordeaux               3978\n",
       "Northern Spain         3795\n",
       "Mendoza Province       3226\n",
       "Piedmont               3088\n",
       "Burgundy               3083\n",
       "New York               2676\n",
       "Veneto                 2314\n",
       "Alsace                 2147\n",
       "Northeastern Italy     1986\n",
       "Loire Valley           1597\n",
       "Sicily & Sardinia      1559\n",
       "Champagne              1377\n",
       "Southwest France       1335\n",
       "South Australia        1327\n",
       "Catalonia              1152\n",
       "Provence               1139\n",
       "Douro                  1134\n",
       "Southern Italy         1131\n",
       "Central Italy          1100\n",
       "Rhône Valley           1042\n",
       "Mosel                  1023\n",
       "Name: province, dtype: int64"
      ]
     },
     "execution_count": 37,
     "metadata": {},
     "output_type": "execute_result"
    }
   ],
   "source": [
    "df_province = df.groupby('province').filter(lambda df: len(df.province) > 1000)\n",
    "df_province.province.value_counts()"
   ]
  },
  {
   "cell_type": "code",
   "execution_count": 38,
   "id": "2784718c",
   "metadata": {},
   "outputs": [
    {
     "data": {
      "text/plain": [
       "[Text(0, 0, 'Alsace'),\n",
       " Text(1, 0, 'Southern Italy'),\n",
       " Text(2, 0, 'Bordeaux'),\n",
       " Text(3, 0, 'Champagne'),\n",
       " Text(4, 0, 'Burgundy'),\n",
       " Text(5, 0, 'South Australia'),\n",
       " Text(6, 0, 'Piedmont'),\n",
       " Text(7, 0, 'Northeastern Italy'),\n",
       " Text(8, 0, 'Rhône Valley'),\n",
       " Text(9, 0, 'Loire Valley')]"
      ]
     },
     "execution_count": 38,
     "metadata": {},
     "output_type": "execute_result"
    },
    {
     "data": {
      "image/png": "[encoded data removed]",
      "text/plain": [
       "<Figure size 720x360 with 1 Axes>"
      ]
     },
     "metadata": {},
     "output_type": "display_data"
    }
   ],
   "source": [
    "df_province_len = df_province.province.value_counts()\n",
    "df_province_len = pd.DataFrame(df_province_len).reset_index()\n",
    "df_province_len.columns = ['province', 'num_of_reviews']\n",
    "\n",
    "df_province_count_rand = df_province_len.sample(n=10)\n",
    "df_province_list = df_province_count_rand.province.tolist()\n",
    "df_province = df_province.loc[df_province.province.isin(df_province_list)]\n",
    "\n",
    "plt.figure(figsize=(10,5))\n",
    "chart = sns.boxplot(\n",
    "    data=df_province,\n",
    "    x='province',\n",
    "    y=\"points\",\n",
    ")\n",
    "chart.set_xticklabels(chart.get_xticklabels(), rotation=45)"
   ]
  },
  {
   "cell_type": "markdown",
   "id": "d56890bc",
   "metadata": {},
   "source": [
    "Because a lot of overlaping of target points variable distributions between different provinces we can say that province feature is not highly corelated with points variable, but before we can decide to drop province feature we will calculate mutual information between province and points variables. Look at section **Mutual information**."
   ]
  },
  {
   "cell_type": "markdown",
   "id": "94a6a7c1",
   "metadata": {},
   "source": [
    "#### Region_1\n",
    "\n",
    "Let's see regions with most reviews."
   ]
  },
  {
   "cell_type": "code",
   "execution_count": 39,
   "id": "650fddb0",
   "metadata": {},
   "outputs": [
    {
     "data": {
      "text/html": [
       "<div>\n",
       "<style scoped>\n",
       "    .dataframe tbody tr th:only-of-type {\n",
       "        vertical-align: middle;\n",
       "    }\n",
       "\n",
       "    .dataframe tbody tr th {\n",
       "        vertical-align: top;\n",
       "    }\n",
       "\n",
       "    .dataframe thead th {\n",
       "        text-align: right;\n",
       "    }\n",
       "</style>\n",
       "<table border=\"1\" class=\"dataframe\">\n",
       "  <thead>\n",
       "    <tr style=\"text-align: right;\">\n",
       "      <th></th>\n",
       "      <th>region_1</th>\n",
       "      <th>num_of_reviews</th>\n",
       "    </tr>\n",
       "  </thead>\n",
       "  <tbody>\n",
       "    <tr>\n",
       "      <th>727</th>\n",
       "      <td>Napa Valley</td>\n",
       "      <td>4472</td>\n",
       "    </tr>\n",
       "    <tr>\n",
       "      <th>277</th>\n",
       "      <td>Columbia Valley (WA)</td>\n",
       "      <td>4109</td>\n",
       "    </tr>\n",
       "    <tr>\n",
       "      <th>889</th>\n",
       "      <td>Russian River Valley</td>\n",
       "      <td>3090</td>\n",
       "    </tr>\n",
       "    <tr>\n",
       "      <th>152</th>\n",
       "      <td>California</td>\n",
       "      <td>2627</td>\n",
       "    </tr>\n",
       "    <tr>\n",
       "      <th>778</th>\n",
       "      <td>Paso Robles</td>\n",
       "      <td>2326</td>\n",
       "    </tr>\n",
       "    <tr>\n",
       "      <th>...</th>\n",
       "      <td>...</td>\n",
       "      <td>...</td>\n",
       "    </tr>\n",
       "    <tr>\n",
       "      <th>1046</th>\n",
       "      <td>Texoma</td>\n",
       "      <td>1</td>\n",
       "    </tr>\n",
       "    <tr>\n",
       "      <th>464</th>\n",
       "      <td>Geographe</td>\n",
       "      <td>1</td>\n",
       "    </tr>\n",
       "    <tr>\n",
       "      <th>463</th>\n",
       "      <td>Geelong</td>\n",
       "      <td>1</td>\n",
       "    </tr>\n",
       "    <tr>\n",
       "      <th>878</th>\n",
       "      <td>Rosso di Cerignola</td>\n",
       "      <td>1</td>\n",
       "    </tr>\n",
       "    <tr>\n",
       "      <th>601</th>\n",
       "      <td>Martina</td>\n",
       "      <td>1</td>\n",
       "    </tr>\n",
       "  </tbody>\n",
       "</table>\n",
       "<p>1202 rows × 2 columns</p>\n",
       "</div>"
      ],
      "text/plain": [
       "                  region_1  num_of_reviews\n",
       "727            Napa Valley            4472\n",
       "277   Columbia Valley (WA)            4109\n",
       "889   Russian River Valley            3090\n",
       "152             California            2627\n",
       "778            Paso Robles            2326\n",
       "...                    ...             ...\n",
       "1046                Texoma               1\n",
       "464              Geographe               1\n",
       "463                Geelong               1\n",
       "878     Rosso di Cerignola               1\n",
       "601                Martina               1\n",
       "\n",
       "[1202 rows x 2 columns]"
      ]
     },
     "execution_count": 39,
     "metadata": {},
     "output_type": "execute_result"
    }
   ],
   "source": [
    "df_region_1_count = df.groupby('region_1').apply(lambda df: len(df))\n",
    "df_region_1_count = df_region_1_count.reset_index()\n",
    "df_region_1_count.columns = ['region_1', 'num_of_reviews']\n",
    "df_region_1_count = df_region_1_count.sort_values(by=['num_of_reviews'], ascending=False)\n",
    "df_region_1_count"
   ]
  },
  {
   "cell_type": "code",
   "execution_count": 40,
   "id": "75d4ca2f",
   "metadata": {},
   "outputs": [
    {
     "data": {
      "text/plain": [
       "Napa Valley                4472\n",
       "Columbia Valley (WA)       4109\n",
       "Russian River Valley       3090\n",
       "California                 2627\n",
       "Paso Robles                2326\n",
       "Willamette Valley          2296\n",
       "Mendoza                    2275\n",
       "Alsace                     1897\n",
       "Finger Lakes               1556\n",
       "Sonoma Coast               1467\n",
       "Rioja                      1453\n",
       "Champagne                  1377\n",
       "Barolo                     1359\n",
       "Sonoma County              1245\n",
       "Brunello di Montalcino     1206\n",
       "Toscana                    1077\n",
       "Walla Walla Valley (WA)    1061\n",
       "Name: region_1, dtype: int64"
      ]
     },
     "execution_count": 40,
     "metadata": {},
     "output_type": "execute_result"
    }
   ],
   "source": [
    "df_region_1 = df.groupby('region_1').filter(lambda df: len(df.region_1) > 1000)\n",
    "df_region_1.region_1.value_counts()"
   ]
  },
  {
   "cell_type": "code",
   "execution_count": 41,
   "id": "c3905c85",
   "metadata": {},
   "outputs": [
    {
     "data": {
      "text/plain": [
       "[Text(0, 0, 'Alsace'),\n",
       " Text(1, 0, 'Napa Valley'),\n",
       " Text(2, 0, 'Mendoza'),\n",
       " Text(3, 0, 'Paso Robles'),\n",
       " Text(4, 0, 'Sonoma Coast'),\n",
       " Text(5, 0, 'Columbia Valley (WA)'),\n",
       " Text(6, 0, 'Champagne'),\n",
       " Text(7, 0, 'Toscana'),\n",
       " Text(8, 0, 'Sonoma County'),\n",
       " Text(9, 0, 'Brunello di Montalcino')]"
      ]
     },
     "execution_count": 41,
     "metadata": {},
     "output_type": "execute_result"
    },
    {
     "data": {
      "image/png": "[encoded data removed]",
      "text/plain": [
       "<Figure size 720x360 with 1 Axes>"
      ]
     },
     "metadata": {},
     "output_type": "display_data"
    }
   ],
   "source": [
    "df_region_1_len = df_region_1.region_1.value_counts()\n",
    "df_region_1_len = pd.DataFrame(df_region_1_len).reset_index()\n",
    "df_region_1_len.columns = ['region_1', 'num_of_reviews']\n",
    "\n",
    "df_region_1_count_rand = df_region_1_len.sample(n=10)\n",
    "df_region_1_list = df_region_1_count_rand.region_1.tolist()\n",
    "df_region_1 = df_region_1.loc[df_region_1.region_1.isin(df_region_1_list)]\n",
    "\n",
    "plt.figure(figsize=(10,5))\n",
    "chart = sns.boxplot(\n",
    "    data=df_region_1,\n",
    "    x='region_1',\n",
    "    y=\"points\",\n",
    ")\n",
    "chart.set_xticklabels(chart.get_xticklabels(), rotation=45)"
   ]
  },
  {
   "cell_type": "markdown",
   "id": "7d7515c3",
   "metadata": {},
   "source": [
    "Because a lot of overlaping of target points variable distributions between different regions we can say that region_1 feature is not highly corelated with points variable, but before we can decide to drop region_1 feature we will calculate mutual information between region_1 and points variables. Look at section **Mutual information**."
   ]
  },
  {
   "cell_type": "markdown",
   "id": "0899a347",
   "metadata": {},
   "source": [
    "#### Taster name\n",
    "\n",
    "Let's see tasters with most given reviews."
   ]
  },
  {
   "cell_type": "code",
   "execution_count": 42,
   "id": "21af23f9",
   "metadata": {},
   "outputs": [
    {
     "data": {
      "text/html": [
       "<div>\n",
       "<style scoped>\n",
       "    .dataframe tbody tr th:only-of-type {\n",
       "        vertical-align: middle;\n",
       "    }\n",
       "\n",
       "    .dataframe tbody tr th {\n",
       "        vertical-align: top;\n",
       "    }\n",
       "\n",
       "    .dataframe thead th {\n",
       "        text-align: right;\n",
       "    }\n",
       "</style>\n",
       "<table border=\"1\" class=\"dataframe\">\n",
       "  <thead>\n",
       "    <tr style=\"text-align: right;\">\n",
       "      <th></th>\n",
       "      <th>country</th>\n",
       "      <th>description</th>\n",
       "      <th>points</th>\n",
       "      <th>province</th>\n",
       "      <th>region_1</th>\n",
       "      <th>taster_name</th>\n",
       "      <th>title</th>\n",
       "      <th>variety</th>\n",
       "      <th>winery</th>\n",
       "    </tr>\n",
       "  </thead>\n",
       "  <tbody>\n",
       "    <tr>\n",
       "      <th>1</th>\n",
       "      <td>Portugal</td>\n",
       "      <td>This is ripe and fruity, a wine that is smooth...</td>\n",
       "      <td>87</td>\n",
       "      <td>Douro</td>\n",
       "      <td>NaN</td>\n",
       "      <td>Roger Voss</td>\n",
       "      <td>Quinta dos Avidagos 2011 Avidagos Red (Douro)</td>\n",
       "      <td>Portuguese Red</td>\n",
       "      <td>Quinta dos Avidagos</td>\n",
       "    </tr>\n",
       "    <tr>\n",
       "      <th>2</th>\n",
       "      <td>US</td>\n",
       "      <td>Tart and snappy, the flavors of lime flesh and...</td>\n",
       "      <td>87</td>\n",
       "      <td>Oregon</td>\n",
       "      <td>Willamette Valley</td>\n",
       "      <td>Paul Gregutt</td>\n",
       "      <td>Rainstorm 2013 Pinot Gris (Willamette Valley)</td>\n",
       "      <td>Pinot Gris</td>\n",
       "      <td>Rainstorm</td>\n",
       "    </tr>\n",
       "    <tr>\n",
       "      <th>3</th>\n",
       "      <td>US</td>\n",
       "      <td>Pineapple rind, lemon pith and orange blossom ...</td>\n",
       "      <td>87</td>\n",
       "      <td>Michigan</td>\n",
       "      <td>Lake Michigan Shore</td>\n",
       "      <td>Alexander Peartree</td>\n",
       "      <td>St. Julian 2013 Reserve Late Harvest Riesling ...</td>\n",
       "      <td>Riesling</td>\n",
       "      <td>St. Julian</td>\n",
       "    </tr>\n",
       "    <tr>\n",
       "      <th>4</th>\n",
       "      <td>US</td>\n",
       "      <td>Much like the regular bottling from 2012, this...</td>\n",
       "      <td>87</td>\n",
       "      <td>Oregon</td>\n",
       "      <td>Willamette Valley</td>\n",
       "      <td>Paul Gregutt</td>\n",
       "      <td>Sweet Cheeks 2012 Vintner's Reserve Wild Child...</td>\n",
       "      <td>Pinot Noir</td>\n",
       "      <td>Sweet Cheeks</td>\n",
       "    </tr>\n",
       "    <tr>\n",
       "      <th>5</th>\n",
       "      <td>Spain</td>\n",
       "      <td>Blackberry and raspberry aromas show a typical...</td>\n",
       "      <td>87</td>\n",
       "      <td>Northern Spain</td>\n",
       "      <td>Navarra</td>\n",
       "      <td>Michael Schachner</td>\n",
       "      <td>Tandem 2011 Ars In Vitro Tempranillo-Merlot (N...</td>\n",
       "      <td>Tempranillo-Merlot</td>\n",
       "      <td>Tandem</td>\n",
       "    </tr>\n",
       "  </tbody>\n",
       "</table>\n",
       "</div>"
      ],
      "text/plain": [
       "    country                                        description  points  \\\n",
       "1  Portugal  This is ripe and fruity, a wine that is smooth...      87   \n",
       "2        US  Tart and snappy, the flavors of lime flesh and...      87   \n",
       "3        US  Pineapple rind, lemon pith and orange blossom ...      87   \n",
       "4        US  Much like the regular bottling from 2012, this...      87   \n",
       "5     Spain  Blackberry and raspberry aromas show a typical...      87   \n",
       "\n",
       "         province             region_1         taster_name  \\\n",
       "1           Douro                  NaN          Roger Voss   \n",
       "2          Oregon    Willamette Valley        Paul Gregutt   \n",
       "3        Michigan  Lake Michigan Shore  Alexander Peartree   \n",
       "4          Oregon    Willamette Valley        Paul Gregutt   \n",
       "5  Northern Spain              Navarra   Michael Schachner   \n",
       "\n",
       "                                               title             variety  \\\n",
       "1      Quinta dos Avidagos 2011 Avidagos Red (Douro)      Portuguese Red   \n",
       "2      Rainstorm 2013 Pinot Gris (Willamette Valley)          Pinot Gris   \n",
       "3  St. Julian 2013 Reserve Late Harvest Riesling ...            Riesling   \n",
       "4  Sweet Cheeks 2012 Vintner's Reserve Wild Child...          Pinot Noir   \n",
       "5  Tandem 2011 Ars In Vitro Tempranillo-Merlot (N...  Tempranillo-Merlot   \n",
       "\n",
       "                winery  \n",
       "1  Quinta dos Avidagos  \n",
       "2            Rainstorm  \n",
       "3           St. Julian  \n",
       "4         Sweet Cheeks  \n",
       "5               Tandem  "
      ]
     },
     "execution_count": 42,
     "metadata": {},
     "output_type": "execute_result"
    }
   ],
   "source": [
    "df.head()"
   ]
  },
  {
   "cell_type": "code",
   "execution_count": 43,
   "id": "896dd647",
   "metadata": {},
   "outputs": [
    {
     "data": {
      "text/html": [
       "<div>\n",
       "<style scoped>\n",
       "    .dataframe tbody tr th:only-of-type {\n",
       "        vertical-align: middle;\n",
       "    }\n",
       "\n",
       "    .dataframe tbody tr th {\n",
       "        vertical-align: top;\n",
       "    }\n",
       "\n",
       "    .dataframe thead th {\n",
       "        text-align: right;\n",
       "    }\n",
       "</style>\n",
       "<table border=\"1\" class=\"dataframe\">\n",
       "  <thead>\n",
       "    <tr style=\"text-align: right;\">\n",
       "      <th></th>\n",
       "      <th>taster_name</th>\n",
       "      <th>num_of_reviews</th>\n",
       "    </tr>\n",
       "  </thead>\n",
       "  <tbody>\n",
       "    <tr>\n",
       "      <th>15</th>\n",
       "      <td>Roger Voss</td>\n",
       "      <td>20111</td>\n",
       "    </tr>\n",
       "    <tr>\n",
       "      <th>12</th>\n",
       "      <td>Michael Schachner</td>\n",
       "      <td>14948</td>\n",
       "    </tr>\n",
       "    <tr>\n",
       "      <th>9</th>\n",
       "      <td>Kerin O’Keefe</td>\n",
       "      <td>9867</td>\n",
       "    </tr>\n",
       "    <tr>\n",
       "      <th>18</th>\n",
       "      <td>Virginie Boone</td>\n",
       "      <td>9506</td>\n",
       "    </tr>\n",
       "    <tr>\n",
       "      <th>14</th>\n",
       "      <td>Paul Gregutt</td>\n",
       "      <td>9498</td>\n",
       "    </tr>\n",
       "    <tr>\n",
       "      <th>11</th>\n",
       "      <td>Matt Kettmann</td>\n",
       "      <td>6235</td>\n",
       "    </tr>\n",
       "    <tr>\n",
       "      <th>8</th>\n",
       "      <td>Joe Czerwinski</td>\n",
       "      <td>5007</td>\n",
       "    </tr>\n",
       "    <tr>\n",
       "      <th>16</th>\n",
       "      <td>Sean P. Sullivan</td>\n",
       "      <td>4925</td>\n",
       "    </tr>\n",
       "    <tr>\n",
       "      <th>1</th>\n",
       "      <td>Anna Lee C. Iijima</td>\n",
       "      <td>4362</td>\n",
       "    </tr>\n",
       "    <tr>\n",
       "      <th>7</th>\n",
       "      <td>Jim Gordon</td>\n",
       "      <td>4171</td>\n",
       "    </tr>\n",
       "    <tr>\n",
       "      <th>2</th>\n",
       "      <td>Anne Krebiehl MW</td>\n",
       "      <td>3397</td>\n",
       "    </tr>\n",
       "    <tr>\n",
       "      <th>10</th>\n",
       "      <td>Lauren Buzzeo</td>\n",
       "      <td>1713</td>\n",
       "    </tr>\n",
       "    <tr>\n",
       "      <th>17</th>\n",
       "      <td>Susan Kostrzewa</td>\n",
       "      <td>1073</td>\n",
       "    </tr>\n",
       "    <tr>\n",
       "      <th>13</th>\n",
       "      <td>Mike DeSimone</td>\n",
       "      <td>504</td>\n",
       "    </tr>\n",
       "    <tr>\n",
       "      <th>6</th>\n",
       "      <td>Jeff Jenssen</td>\n",
       "      <td>491</td>\n",
       "    </tr>\n",
       "    <tr>\n",
       "      <th>0</th>\n",
       "      <td>Alexander Peartree</td>\n",
       "      <td>413</td>\n",
       "    </tr>\n",
       "    <tr>\n",
       "      <th>3</th>\n",
       "      <td>Carrie Dykes</td>\n",
       "      <td>138</td>\n",
       "    </tr>\n",
       "    <tr>\n",
       "      <th>5</th>\n",
       "      <td>Fiona Adams</td>\n",
       "      <td>27</td>\n",
       "    </tr>\n",
       "    <tr>\n",
       "      <th>4</th>\n",
       "      <td>Christina Pickard</td>\n",
       "      <td>6</td>\n",
       "    </tr>\n",
       "  </tbody>\n",
       "</table>\n",
       "</div>"
      ],
      "text/plain": [
       "           taster_name  num_of_reviews\n",
       "15          Roger Voss           20111\n",
       "12   Michael Schachner           14948\n",
       "9        Kerin O’Keefe            9867\n",
       "18      Virginie Boone            9506\n",
       "14        Paul Gregutt            9498\n",
       "11       Matt Kettmann            6235\n",
       "8       Joe Czerwinski            5007\n",
       "16    Sean P. Sullivan            4925\n",
       "1   Anna Lee C. Iijima            4362\n",
       "7           Jim Gordon            4171\n",
       "2     Anne Krebiehl MW            3397\n",
       "10       Lauren Buzzeo            1713\n",
       "17     Susan Kostrzewa            1073\n",
       "13       Mike DeSimone             504\n",
       "6         Jeff Jenssen             491\n",
       "0   Alexander Peartree             413\n",
       "3         Carrie Dykes             138\n",
       "5          Fiona Adams              27\n",
       "4    Christina Pickard               6"
      ]
     },
     "execution_count": 43,
     "metadata": {},
     "output_type": "execute_result"
    }
   ],
   "source": [
    "df_taster_count = df.groupby('taster_name').apply(lambda df: len(df))\n",
    "df_taster_count = df_taster_count.reset_index()\n",
    "df_taster_count.columns = ['taster_name', 'num_of_reviews']\n",
    "df_taster_count = df_taster_count.sort_values(by=['num_of_reviews'], ascending=False)\n",
    "df_taster_count"
   ]
  },
  {
   "cell_type": "code",
   "execution_count": 44,
   "id": "b7ddfe41",
   "metadata": {},
   "outputs": [
    {
     "data": {
      "text/plain": [
       "Roger Voss            20111\n",
       "Michael Schachner     14948\n",
       "Kerin O’Keefe          9867\n",
       "Virginie Boone         9506\n",
       "Paul Gregutt           9498\n",
       "Matt Kettmann          6235\n",
       "Joe Czerwinski         5007\n",
       "Sean P. Sullivan       4925\n",
       "Anna Lee C. Iijima     4362\n",
       "Jim Gordon             4171\n",
       "Anne Krebiehl MW       3397\n",
       "Lauren Buzzeo          1713\n",
       "Susan Kostrzewa        1073\n",
       "Name: taster_name, dtype: int64"
      ]
     },
     "execution_count": 44,
     "metadata": {},
     "output_type": "execute_result"
    }
   ],
   "source": [
    "df_taster_name = df.groupby('taster_name').filter(lambda df: len(df.taster_name) > 1000)\n",
    "df_taster_name.taster_name.value_counts()"
   ]
  },
  {
   "cell_type": "code",
   "execution_count": 45,
   "id": "010210d8",
   "metadata": {},
   "outputs": [
    {
     "data": {
      "text/plain": [
       "[Text(0, 0, 'Roger Voss'),\n",
       " Text(1, 0, 'Michael Schachner'),\n",
       " Text(2, 0, 'Kerin O’Keefe'),\n",
       " Text(3, 0, 'Virginie Boone'),\n",
       " Text(4, 0, 'Matt Kettmann'),\n",
       " Text(5, 0, 'Sean P. Sullivan'),\n",
       " Text(6, 0, 'Jim Gordon'),\n",
       " Text(7, 0, 'Joe Czerwinski'),\n",
       " Text(8, 0, 'Anne Krebiehl\\xa0MW'),\n",
       " Text(9, 0, 'Susan Kostrzewa')]"
      ]
     },
     "execution_count": 45,
     "metadata": {},
     "output_type": "execute_result"
    },
    {
     "data": {
      "image/png": "[encoded data removed]",
      "text/plain": [
       "<Figure size 720x360 with 1 Axes>"
      ]
     },
     "metadata": {},
     "output_type": "display_data"
    }
   ],
   "source": [
    "df_taster_len = df_taster_name.taster_name.value_counts()\n",
    "df_taster_len = pd.DataFrame(df_taster_len).reset_index()\n",
    "df_taster_len.columns = ['taster_name', 'num_of_reviews']\n",
    "\n",
    "df_taster_name_count_rand = df_taster_len.sample(n=10)\n",
    "df_taster_name_list = df_taster_name_count_rand.taster_name.tolist()\n",
    "df_taster_name = df_taster_name.loc[df_taster_name.taster_name.isin(df_taster_name_list)]\n",
    "\n",
    "plt.figure(figsize=(10,5))\n",
    "chart = sns.boxplot(\n",
    "    data=df_taster_name,\n",
    "    x='taster_name',\n",
    "    y=\"points\",\n",
    ")\n",
    "chart.set_xticklabels(chart.get_xticklabels(), rotation=45)"
   ]
  },
  {
   "cell_type": "markdown",
   "id": "8a8ca6b0",
   "metadata": {},
   "source": [
    "Because a lot of overlaping of target points variable distributions between given tasters we can say that taster_name feature is not highly corelated with points variable, but before we can decide to drop taster_name feature we will calculate mutual information between taster_name and points variables. Look at section **Mutual information**."
   ]
  },
  {
   "cell_type": "markdown",
   "id": "610f2022",
   "metadata": {},
   "source": [
    "### Mutual information\n",
    "Docs: https://scikit-learn.org/stable/modules/generated/sklearn.feature_selection.mutual_info_regression.html"
   ]
  },
  {
   "cell_type": "markdown",
   "id": "2067932d",
   "metadata": {},
   "source": [
    "Before calculating mutual information between features and target variable all feature need to be encoded and missing values need to be filled. Just for mutual information analysis we will fill continuus variables with zero and categorical variables with new category 'Missing'."
   ]
  },
  {
   "cell_type": "code",
   "execution_count": 46,
   "id": "04367277",
   "metadata": {},
   "outputs": [
    {
     "data": {
      "text/plain": [
       "country        object\n",
       "description    object\n",
       "points          int64\n",
       "province       object\n",
       "region_1       object\n",
       "taster_name    object\n",
       "title          object\n",
       "variety        object\n",
       "winery         object\n",
       "dtype: object"
      ]
     },
     "execution_count": 46,
     "metadata": {},
     "output_type": "execute_result"
    }
   ],
   "source": [
    "df.dtypes"
   ]
  },
  {
   "cell_type": "code",
   "execution_count": 47,
   "id": "83d71773",
   "metadata": {},
   "outputs": [],
   "source": [
    "def impute(df):\n",
    "    \"\"\"\n",
    "    Fill continuus variables with zero and categorical variables with new category 'Missing'.\n",
    "    param df:           input pandas dataframe\n",
    "    return df_not_none: pandas dataframe with filled missing values for both continuus and categorical variables\n",
    "    \"\"\"\n",
    "    df_not_none = df.copy()\n",
    "    for name in df.select_dtypes(\"int64\"):\n",
    "        df_not_none[name] = df[name].fillna(0)\n",
    "    for name in df.select_dtypes(\"object\"):\n",
    "        df_not_none[name] = df[name].fillna(\"Missing\")\n",
    "        \n",
    "    return df_not_none"
   ]
  },
  {
   "cell_type": "code",
   "execution_count": 48,
   "id": "3eaed8ce",
   "metadata": {},
   "outputs": [],
   "source": [
    "def make_mi_scores(X, y):\n",
    "    \"\"\"\n",
    "    Calculate mutual information scores for all categorical variables in relation to continuus target variable.\n",
    "    param x:           input pandas dataframe with excluded target variable\n",
    "    param y:           input pandas series of target variable\n",
    "    return mi_scores:  pandas series, mutual info scores\n",
    "    \"\"\"\n",
    "    X = X.copy()\n",
    "    for colname in X.select_dtypes([\"object\", \"category\"]):\n",
    "        X[colname], _ = X[colname].factorize()\n",
    "    # All discrete features should now have integer dtypes\n",
    "    discrete_features = [pd.api.types.is_integer_dtype(t) for t in X.dtypes]\n",
    "    mi_scores = mutual_info_regression(X, y, discrete_features=discrete_features, random_state=0)\n",
    "    mi_scores = pd.Series(mi_scores, name=\"MI Scores\", index=X.columns)\n",
    "    mi_scores = mi_scores.sort_values(ascending=False)\n",
    "    return mi_scores\n",
    "\n",
    "\n",
    "def plot_mi_scores(scores):\n",
    "    scores = scores.sort_values(ascending=True)\n",
    "    width = np.arange(len(scores))\n",
    "    ticks = list(scores.index)\n",
    "    plt.barh(width, scores)\n",
    "    plt.yticks(width, ticks)\n",
    "    plt.title(\"Mutual Information Scores\")"
   ]
  },
  {
   "cell_type": "code",
   "execution_count": 49,
   "id": "bc551da2",
   "metadata": {},
   "outputs": [],
   "source": [
    "df_mut_info = impute(df)\n",
    "df.head()\n",
    "x = df_mut_info.drop(['description', 'title', 'points'], axis=1)\n",
    "y = df['points']\n",
    "mi_scores = make_mi_scores(x, y)"
   ]
  },
  {
   "cell_type": "code",
   "execution_count": 50,
   "id": "8ea82fdf",
   "metadata": {},
   "outputs": [
    {
     "data": {
      "text/plain": [
       "winery         0.547425\n",
       "region_1       0.178422\n",
       "province       0.096312\n",
       "variety        0.082500\n",
       "taster_name    0.073617\n",
       "country        0.042427\n",
       "Name: MI Scores, dtype: float64"
      ]
     },
     "execution_count": 50,
     "metadata": {},
     "output_type": "execute_result"
    }
   ],
   "source": [
    "mi_scores"
   ]
  },
  {
   "cell_type": "code",
   "execution_count": 51,
   "id": "cd374ccd",
   "metadata": {},
   "outputs": [
    {
     "data": {
      "image/png": "[encoded data removed]",
      "text/plain": [
       "<Figure size 432x288 with 1 Axes>"
      ]
     },
     "metadata": {},
     "output_type": "display_data"
    }
   ],
   "source": [
    "plot_mi_scores(mi_scores)"
   ]
  },
  {
   "cell_type": "markdown",
   "id": "4d9dff02",
   "metadata": {},
   "source": [
    "Like we can see from above diagram winery is the most relevant variable so further investigation is needed."
   ]
  },
  {
   "cell_type": "markdown",
   "id": "31d85c35",
   "metadata": {},
   "source": [
    "### Calculate Spearman correlation coefficient\n",
    "Spearman's correlation determines the strength and direction of the monotonic relationship between two variables rather than the strength and direction of the linear relationship between two variables.\n",
    "\n",
    "To be able to calculate spearman coefficient firstly we need to encode nominal variables to numerical ones with further encoders:\n",
    "   - The **CountFrequencyEncoder()** replaces categories by either the count or the percentage of observations per category.For example in the variable colour, if 10 observations are blue, blue will be replaced by 10. Alternatively, if 10% of the observations are blue, blue will be replaced by 0.1.\n",
    "   - The **MeanEncoder()** replaces categories by the mean value of the target for each category. For example in the variable colour, if the mean of the target for blue, red and grey is 0.5, 0.8 and 0.1 respectively, blue is replaced by 0.5, red by 0.8 and grey by 0.1.\n",
    "   - The **DecisionTreeEncoder()** encodes categorical variables with predictions of a decision tree model. Each categorical feature is recoded by training a decision tree, typically of limited depth (2, 3 or 4) using that feature alone, and let the tree directly predict the target. The probabilistic predictions of this decision tree are used as the new values of the original categorical feature, that now is linearly (or at least monotonically) correlated with the target."
   ]
  },
  {
   "cell_type": "code",
   "execution_count": 52,
   "id": "d104fb7e",
   "metadata": {},
   "outputs": [],
   "source": [
    "from feature_engine.encoding import MeanEncoder, CountFrequencyEncoder, DecisionTreeEncoder\n",
    "from feature_engine import transformation as vt\n",
    "import scipy.stats\n",
    "\n",
    "encoders = [\n",
    "            'MeanEncoder',\n",
    "            'CountFrequencyEncoder',\n",
    "            'DecisionTreeEncoder'\n",
    "            ]\n",
    "\n",
    "feature_cols = ['country', 'variety', 'winery', 'province']\n",
    "\n",
    "def calculate_statistics(df):\n",
    "    \"\"\"\n",
    "    Calculate spearman's coefficient for different types of encoders.\n",
    "    param df: pandas dataframe with filled missing values\n",
    "    return: stats dict\n",
    "    \"\"\"\n",
    "    features = df.loc[:, feature_cols]\n",
    "    target = df[\"points\"]\n",
    "    \n",
    "    encoder_dict = {}\n",
    "    \n",
    "    for en in encoders:\n",
    "        if en == 'CountFrequencyEncoder':\n",
    "            encoder = CountFrequencyEncoder(encoding_method='frequency', variables=feature_cols)\n",
    "        \n",
    "        elif en == 'MeanEncoder':\n",
    "            encoder = MeanEncoder(variables=feature_cols)\n",
    "        \n",
    "        elif en == 'DecisionTreeEncoder':\n",
    "            encoder = DecisionTreeEncoder(variables=feature_cols, random_state=0)\n",
    "        \n",
    "        else:\n",
    "            raise ValueError(\"{} encoder not recognised.\".format(en))\n",
    "        \n",
    "        # fit the encoder\n",
    "        encoder.fit(features, target)\n",
    "\n",
    "        # transform the data\n",
    "        features_not_null_encoded = encoder.transform(features).reset_index()\n",
    "        target = target.reset_index().drop('index', axis=1)\n",
    "        features_not_null_encoded = features_not_null_encoded.drop('index', axis=1)\n",
    "        \n",
    "        # calculate statistics\n",
    "        stats_list = {key:[] for key in feature_cols}\n",
    "        \n",
    "        for col in feature_cols:\n",
    "            # spearman's coefficient\n",
    "            stats_list[col].append(scipy.stats.spearmanr(features_not_null_encoded[col], target)[0])\n",
    "            # p-value\n",
    "            stats_list[col].append(scipy.stats.spearmanr(features_not_null_encoded[col], target)[1])\n",
    "        \n",
    "        encoder_dict[en] = stats_list\n",
    "        \n",
    "    return encoder_dict"
   ]
  },
  {
   "cell_type": "code",
   "execution_count": 53,
   "id": "883f3bbf",
   "metadata": {},
   "outputs": [
    {
     "data": {
      "text/plain": [
       "{'MeanEncoder': {'country': [0.16654219907534573, 0.0],\n",
       "  'variety': [0.29995800196808714, 0.0],\n",
       "  'winery': [0.7063345688298959, 0.0],\n",
       "  'province': [0.3126706961740582, 0.0]},\n",
       " 'CountFrequencyEncoder': {'country': [0.06591098084695025,\n",
       "   1.8208062661434385e-116],\n",
       "  'variety': [0.09646270751237906, 9.647503472527121e-248],\n",
       "  'winery': [0.15229393500762345, 0.0],\n",
       "  'province': [0.09125739494420261, 7.683870064054998e-222]},\n",
       " 'DecisionTreeEncoder': {'country': [0.15961457077402244, 0.0],\n",
       "  'variety': [0.20084799542246104, 0.0],\n",
       "  'winery': [0.14078121653375755, 0.0],\n",
       "  'province': [0.18911317850502826, 0.0]}}"
      ]
     },
     "execution_count": 53,
     "metadata": {},
     "output_type": "execute_result"
    }
   ],
   "source": [
    "stats = calculate_statistics(df_mut_info)\n",
    "stats"
   ]
  },
  {
   "cell_type": "markdown",
   "id": "ebf93cf3",
   "metadata": {},
   "source": [
    "Like we see in visual inspection **winery** feature shows the bigest correlation with points target variable.\n",
    "And it's highly correlated with points only for **MeanEncoder**."
   ]
  },
  {
   "cell_type": "markdown",
   "id": "cfa5402d",
   "metadata": {},
   "source": [
    "### Textual features\n",
    "\n",
    "Description and title are textual features which we need to investgate. Firstly, we need to create base ML model based on most relevant (in this case description) feature. Than add new features like title and winery and check perfomance in relation to base model. Before feed our model with input data, features need to encoded. Textual features can be encoded in **bag of words and word embedings representation**. For comparison we will use bag of words feature representation and Random Forest decision tree based ensemble algorithm."
   ]
  },
  {
   "cell_type": "code",
   "execution_count": 72,
   "id": "163c907e",
   "metadata": {},
   "outputs": [],
   "source": [
    "from sklearn.feature_extraction.text import CountVectorizer\n",
    "from sklearn.feature_extraction.text import TfidfTransformer\n",
    "from sklearn.ensemble import RandomForestRegressor\n",
    "from sklearn.model_selection import RandomizedSearchCV\n",
    "from sklearn.model_selection import train_test_split\n",
    "from sklearn.model_selection import cross_val_score"
   ]
  },
  {
   "cell_type": "markdown",
   "id": "8be1c23a",
   "metadata": {},
   "source": [
    "To preserve test dataset independent from train before encoding features we need to split dataset on train and test sets.\n",
    "But in this case we are only interested on cross validation score which will be calculated based on different metrics and hyper parameters. For this purpose we will use RandomizedSearchCV.\n",
    "\n",
    "Function for using RandomizedSearchCV is defined below but not used because of high computation time.\n",
    "Just cross validation is used for 5 folds. Mean squared error 'mse' is used for evaluation metric.\n",
    "\n",
    "Docs: https://scikit-learn.org/stable/modules/generated/sklearn.model_selection.RandomizedSearchCV.html\n",
    "\n",
    "Metrics: https://scikit-learn.org/stable/modules/model_evaluation.html#scoring-parameter"
   ]
  },
  {
   "cell_type": "markdown",
   "id": "dc77a732",
   "metadata": {},
   "source": [
    "Text preprocessing, tokenizing and filtering of stopwords are all included in CountVectorizer, which builds a dictionary of features and transforms documents to feature vectors.\n",
    "\n",
    "Docs: https://scikit-learn.org/stable/modules/generated/sklearn.feature_extraction.text.CountVectorizer.html\n",
    "\n",
    "We will specify max features used based on relevance.\n"
   ]
  },
  {
   "cell_type": "code",
   "execution_count": 55,
   "id": "9b752f33",
   "metadata": {},
   "outputs": [
    {
     "data": {
      "text/plain": [
       "(120883, 100)"
      ]
     },
     "execution_count": 55,
     "metadata": {},
     "output_type": "execute_result"
    }
   ],
   "source": [
    "count_vect = CountVectorizer(max_features=100, stop_words='english')\n",
    "df_count = count_vect.fit_transform(df_mut_info.description)\n",
    "df_count.shape"
   ]
  },
  {
   "cell_type": "markdown",
   "id": "da424c6a",
   "metadata": {},
   "source": [
    "Occurrence count is a good start but there is an issue: longer documents will have higher average count values than shorter documents, even though they might talk about the same topics.\n",
    "\n",
    "To avoid these potential discrepancies it suffices to divide the number of occurrences of each word in a document by the total number of words in the document: these new features are called tf for Term Frequencies.\n",
    "\n",
    "Another refinement on top of tf is to downscale weights for words that occur in many documents in the corpus and are therefore less informative than those that occur only in a smaller portion of the corpus.\n",
    "\n",
    "This downscaling is called tf–idf for “Term Frequency times Inverse Document Frequency”."
   ]
  },
  {
   "cell_type": "code",
   "execution_count": 56,
   "id": "b94382a1",
   "metadata": {},
   "outputs": [
    {
     "data": {
      "text/plain": [
       "(120883, 100)"
      ]
     },
     "execution_count": 56,
     "metadata": {},
     "output_type": "execute_result"
    }
   ],
   "source": [
    "tf_transformer = TfidfTransformer(use_idf=True).fit(df_count)\n",
    "df_encode = tf_transformer.transform(df_count)\n",
    "df_encode.shape"
   ]
  },
  {
   "cell_type": "code",
   "execution_count": 57,
   "id": "94171d28",
   "metadata": {},
   "outputs": [],
   "source": [
    "def get_cross_val_scores(models, tuned_parameters, scores, X_train, Y_train):\n",
    "    \"\"\"\n",
    "    Calculate cross validation score for different set of hyper parameters.\n",
    "    param models:            regression models dict\n",
    "    param tuned_parameters:  dict of tuning parameters for specified ML models\n",
    "    param scores:            list of metrics\n",
    "    param X_train:           input features, pandas dataframe\n",
    "    param Y_train:           target continuus variable, pandas series\n",
    "    \"\"\"\n",
    "    \n",
    "    for model in models.keys():\n",
    "        for score in scores:\n",
    "            print(\"# Tuning hyper-parameters for %s\" % score)\n",
    "            print()\n",
    "\n",
    "            clf = RandomizedSearchCV(estimator = models[model], param_distributions = tuned_parameters[model], cv = 3, n_jobs = -1)\n",
    "            clf.fit(X_train, Y_train)\n",
    "\n",
    "            print(\"Best parameters set found on development set:\")\n",
    "            print()\n",
    "            print(clf.best_params_)\n",
    "            print()\n",
    "            print(\"Grid scores on development set:\")\n",
    "            print()\n",
    "            means = clf.cv_results_['mean_test_score']\n",
    "            stds = clf.cv_results_['std_test_score']\n",
    "            for mean, std, params in zip(means, stds, clf.cv_results_['params']):\n",
    "                print(\"%0.3f (+/-%0.03f) for %r\"\n",
    "                      % (mean, std * 2, params))\n",
    "            print()\n"
   ]
  },
  {
   "cell_type": "markdown",
   "id": "6071c126",
   "metadata": {},
   "source": [
    "Define model, hyperparameters, metrics and input data."
   ]
  },
  {
   "cell_type": "code",
   "execution_count": 69,
   "id": "c612db4f",
   "metadata": {},
   "outputs": [],
   "source": [
    "tuned_parameters = {}\n",
    "\n",
    "models = {\n",
    "    'rf': RandomForestRegressor()\n",
    "}\n",
    "\n",
    "# Number of trees in random forest\n",
    "n_estimators = [int(x) for x in np.linspace(start = 200, stop = 2000, num = 10)]\n",
    "# Number of features to consider at every split\n",
    "max_features = ['auto', 'sqrt']\n",
    "# Maximum number of levels in tree\n",
    "max_depth = [int(x) for x in np.linspace(10, 110, num = 11)]\n",
    "max_depth.append(None)\n",
    "# Minimum number of samples required to split a node\n",
    "min_samples_split = [2, 5, 10]\n",
    "# Minimum number of samples required at each leaf node\n",
    "min_samples_leaf = [1, 2, 4]\n",
    "# Method of selecting samples for training each tree\n",
    "bootstrap = [True, False]\n",
    "# Create the random grid\n",
    "rf_param = {   \n",
    "               'n_estimators': n_estimators,\n",
    "               'max_features': max_features,\n",
    "               'max_depth': max_depth,\n",
    "               'min_samples_split': min_samples_split,\n",
    "               'min_samples_leaf': min_samples_leaf,\n",
    "               'bootstrap': bootstrap\n",
    "           }\n",
    "\n",
    "tuned_parameters = {\n",
    "    'rf': rf_param\n",
    "}\n",
    "\n",
    "scores = ['neg_mean_squared_error', 'neg_mean_absolute_error', 'neg_root_mean_squared_error']\n",
    "\n",
    "X_train, Y_train = df_encode, df_mut_info['points']\n"
   ]
  },
  {
   "cell_type": "code",
   "execution_count": null,
   "id": "4ed37398",
   "metadata": {},
   "outputs": [],
   "source": [
    "#get_cross_val_scores(models, tuned_parameters, scores, X_train, Y_train)"
   ]
  },
  {
   "cell_type": "code",
   "execution_count": 70,
   "id": "fb2db3f0",
   "metadata": {},
   "outputs": [
    {
     "name": "stdout",
     "output_type": "stream",
     "text": [
      "Number of input rows of X_train is: 120883 \n",
      "Number of input rows of Y_train is: 120883 \n"
     ]
    }
   ],
   "source": [
    "X_train, Y_train = df_encode, df_mut_info['points']\n",
    "X_train = pd.DataFrame(X_train.toarray())\n",
    "print(\"Number of input rows of X_train is: {} \".format(X_train.shape[0]))\n",
    "print(\"Number of input rows of Y_train is: {} \".format(Y_train.shape[0]))"
   ]
  },
  {
   "cell_type": "code",
   "execution_count": 113,
   "id": "0bf713ff",
   "metadata": {},
   "outputs": [],
   "source": [
    "rf = RandomForestRegressor(n_jobs=-1)"
   ]
  },
  {
   "cell_type": "code",
   "execution_count": 73,
   "id": "dec7928f",
   "metadata": {},
   "outputs": [
    {
     "name": "stdout",
     "output_type": "stream",
     "text": [
      "[0.37386277 0.37352113 0.35033252 0.37531068 0.37960103]\n"
     ]
    }
   ],
   "source": [
    "print(cross_val_score(rf, X_train, Y_train, cv=5))"
   ]
  },
  {
   "cell_type": "markdown",
   "id": "e7149431",
   "metadata": {},
   "source": [
    "#### Title"
   ]
  },
  {
   "cell_type": "code",
   "execution_count": 78,
   "id": "430ba575",
   "metadata": {},
   "outputs": [
    {
     "data": {
      "text/plain": [
       "1        Quinta dos Avidagos 2011 Avidagos Red (Douro)\n",
       "2        Rainstorm 2013 Pinot Gris (Willamette Valley)\n",
       "3    St. Julian 2013 Reserve Late Harvest Riesling ...\n",
       "4    Sweet Cheeks 2012 Vintner's Reserve Wild Child...\n",
       "5    Tandem 2011 Ars In Vitro Tempranillo-Merlot (N...\n",
       "Name: title, dtype: object"
      ]
     },
     "execution_count": 78,
     "metadata": {},
     "output_type": "execute_result"
    }
   ],
   "source": [
    "df_mut_info['title'].head()"
   ]
  },
  {
   "cell_type": "markdown",
   "id": "d4c6626f",
   "metadata": {},
   "source": [
    "Like we can see title feature contains year for every wine sample. This year can be extracted and new feature can be created."
   ]
  },
  {
   "cell_type": "code",
   "execution_count": 80,
   "id": "01fcf642",
   "metadata": {},
   "outputs": [
    {
     "data": {
      "text/plain": [
       "1         2011\n",
       "2         2013\n",
       "3         2013\n",
       "4         2012\n",
       "5         2011\n",
       "          ... \n",
       "129965    2013\n",
       "129966    2004\n",
       "129967    2013\n",
       "129968    2012\n",
       "129969    2012\n",
       "Name: year, Length: 120883, dtype: object"
      ]
     },
     "execution_count": 80,
     "metadata": {},
     "output_type": "execute_result"
    }
   ],
   "source": [
    "df_mut_info['year'] = df_mut_info.title.str.extract('(\\d+)')\n",
    "df_mut_info['year']"
   ]
  },
  {
   "cell_type": "code",
   "execution_count": 81,
   "id": "aa12a7e0",
   "metadata": {},
   "outputs": [
    {
     "data": {
      "text/plain": [
       "3840"
      ]
     },
     "execution_count": 81,
     "metadata": {},
     "output_type": "execute_result"
    }
   ],
   "source": [
    "df_mut_info['year'].isnull().sum()"
   ]
  },
  {
   "cell_type": "markdown",
   "id": "f5f78961",
   "metadata": {},
   "source": [
    "We need to convert year object type to integer and fill missing values with median value because if we will use mean value results will be like 2014.75 which is not what we want. We want round years."
   ]
  },
  {
   "cell_type": "code",
   "execution_count": 89,
   "id": "01b649f8",
   "metadata": {},
   "outputs": [
    {
     "data": {
      "text/plain": [
       "2011    15180\n",
       "2013    15049\n",
       "2014    14736\n",
       "2012    14617\n",
       "2010    11011\n",
       "        ...  \n",
       "1957        1\n",
       "360         1\n",
       "1961        1\n",
       "428         1\n",
       "128         1\n",
       "Name: year, Length: 180, dtype: int64"
      ]
     },
     "execution_count": 89,
     "metadata": {},
     "output_type": "execute_result"
    }
   ],
   "source": [
    "df_year_not_null = df_mut_info['year'].dropna()\n",
    "df_year_not_null = df_year_not_null.astype('int')\n",
    "year_median = df_year_not_null.median()\n",
    "df_mut_info['year'] = df_mut_info['year'].fillna(year_median).astype('int')\n",
    "df_mut_info['year'].value_counts()"
   ]
  },
  {
   "cell_type": "markdown",
   "id": "2a7d8d6a",
   "metadata": {},
   "source": [
    "#### Check correlation between year and points target variable"
   ]
  },
  {
   "cell_type": "markdown",
   "id": "12ec38a5",
   "metadata": {},
   "source": [
    "Some years are wrong specified for example 428 and we need to remove them.\n",
    "Get number of reviews with year < 1900."
   ]
  },
  {
   "cell_type": "code",
   "execution_count": 92,
   "id": "e8108654",
   "metadata": {},
   "outputs": [
    {
     "data": {
      "text/plain": [
       "0.9906190283166367"
      ]
     },
     "execution_count": 92,
     "metadata": {},
     "output_type": "execute_result"
    }
   ],
   "source": [
    "wine_years = df_mut_info.loc[df_mut_info['year'] > 1900]\n",
    "wine_years.shape[0] / df_mut_info.shape[0]"
   ]
  },
  {
   "cell_type": "markdown",
   "id": "8105aeda",
   "metadata": {},
   "source": [
    "#### Calculate spearmans correlation factor"
   ]
  },
  {
   "cell_type": "code",
   "execution_count": 93,
   "id": "52d2b96f",
   "metadata": {},
   "outputs": [
    {
     "data": {
      "text/plain": [
       "0.07671341007851808"
      ]
     },
     "execution_count": 93,
     "metadata": {},
     "output_type": "execute_result"
    }
   ],
   "source": [
    "scipy.stats.spearmanr(wine_years['year'], wine_years['points'])[0]"
   ]
  },
  {
   "cell_type": "markdown",
   "id": "11bad10c",
   "metadata": {},
   "source": [
    "Based on calculated statistics we can conclude that given points and wine year are not correlated. So years will be removed from title text. Furthermore title will be concatenated with description feature and encodings will be defined on new input data."
   ]
  },
  {
   "cell_type": "code",
   "execution_count": 97,
   "id": "a53493c1",
   "metadata": {},
   "outputs": [],
   "source": [
    "df_mut_info = df_mut_info.drop('year', axis=1)"
   ]
  },
  {
   "cell_type": "code",
   "execution_count": 100,
   "id": "844b55cd",
   "metadata": {},
   "outputs": [
    {
     "data": {
      "text/plain": [
       "1                 Quinta dos Avidagos  Avidagos Red (Douro)\n",
       "2                 Rainstorm  Pinot Gris (Willamette Valley)\n",
       "3         St. Julian  Reserve Late Harvest Riesling (Lak...\n",
       "4         Sweet Cheeks  Vintner's Reserve Wild Child Blo...\n",
       "5         Tandem  Ars In Vitro Tempranillo-Merlot (Navarra)\n",
       "                                ...                        \n",
       "129965    Dr. H. Thanisch (Erben Müller-Burggraef)  Brau...\n",
       "129966                        Citation  Pinot Noir (Oregon)\n",
       "129967       Domaine Gresser  Kritt Gewurztraminer (Alsace)\n",
       "129968            Domaine Marcel Deiss  Pinot Gris (Alsace)\n",
       "129969    Domaine Schoffit  Lieu-dit Harth Cuvée Carolin...\n",
       "Name: title, Length: 120883, dtype: object"
      ]
     },
     "execution_count": 100,
     "metadata": {},
     "output_type": "execute_result"
    }
   ],
   "source": [
    "df_title = df_mut_info.title.str.replace('\\d+', '')\n",
    "df_title"
   ]
  },
  {
   "cell_type": "code",
   "execution_count": 110,
   "id": "5553ba07",
   "metadata": {},
   "outputs": [
    {
     "data": {
      "text/plain": [
       "1         This is ripe and fruity, a wine that is smooth...\n",
       "2         Tart and snappy, the flavors of lime flesh and...\n",
       "3         Pineapple rind, lemon pith and orange blossom ...\n",
       "4         Much like the regular bottling from , this com...\n",
       "5         Blackberry and raspberry aromas show a typical...\n",
       "                                ...                        \n",
       "129965    Notes of honeysuckle and cantaloupe sweeten th...\n",
       "129966    Citation is given as much as a decade of bottl...\n",
       "129967    Well-drained gravel soil gives this wine its c...\n",
       "129968    A dry style of Pinot Gris, this is crisp with ...\n",
       "129969    Big, rich and off-dry, this is powered by inte...\n",
       "Name: desc_title, Length: 120883, dtype: object"
      ]
     },
     "execution_count": 110,
     "metadata": {},
     "output_type": "execute_result"
    }
   ],
   "source": [
    "df_mut_info['title'] = df_mut_info['title'].str.replace('\\d+', '')\n",
    "df_mut_info['description'] = df_mut_info['description'].str.replace('\\d+', '')\n",
    "df_mut_info['desc_title'] = df_mut_info['description'] + df_mut_info['title']\n",
    "df_mut_info['desc_title']"
   ]
  },
  {
   "cell_type": "code",
   "execution_count": 111,
   "id": "9b042084",
   "metadata": {},
   "outputs": [
    {
     "data": {
      "text/plain": [
       "(120883, 100)"
      ]
     },
     "execution_count": 111,
     "metadata": {},
     "output_type": "execute_result"
    }
   ],
   "source": [
    "df_count = count_vect.fit_transform(df_mut_info.desc_title)\n",
    "df_count.shape"
   ]
  },
  {
   "cell_type": "code",
   "execution_count": 112,
   "id": "9fbb16e9",
   "metadata": {},
   "outputs": [
    {
     "data": {
      "text/plain": [
       "(120883, 100)"
      ]
     },
     "execution_count": 112,
     "metadata": {},
     "output_type": "execute_result"
    }
   ],
   "source": [
    "df_encode = tf_transformer.transform(df_count)\n",
    "df_encode.shape"
   ]
  },
  {
   "cell_type": "code",
   "execution_count": 114,
   "id": "77e52268",
   "metadata": {},
   "outputs": [
    {
     "name": "stdout",
     "output_type": "stream",
     "text": [
      "Number of input rows of X_train is: 120883 \n",
      "Number of input rows of Y_train is: 120883 \n"
     ]
    }
   ],
   "source": [
    "X_train, Y_train = df_encode, df_mut_info['points']\n",
    "X_train = pd.DataFrame(X_train.toarray())\n",
    "print(\"Number of input rows of X_train is: {} \".format(X_train.shape[0]))\n",
    "print(\"Number of input rows of Y_train is: {} \".format(Y_train.shape[0]))"
   ]
  },
  {
   "cell_type": "code",
   "execution_count": 115,
   "id": "9736c40b",
   "metadata": {},
   "outputs": [
    {
     "name": "stdout",
     "output_type": "stream",
     "text": [
      "[0.39320281 0.3895833  0.37614697 0.39679387 0.40705417]\n"
     ]
    }
   ],
   "source": [
    "print(cross_val_score(rf, X_train, Y_train, cv=5))"
   ]
  },
  {
   "cell_type": "markdown",
   "id": "bafab316",
   "metadata": {},
   "source": [
    "**Note**\n",
    "\n",
    "After adding title to input data we get worser results based on 'mse' evaluation metric, so we will drop"
   ]
  },
  {
   "cell_type": "markdown",
   "id": "e1307748",
   "metadata": {},
   "source": [
    "## Conclusion"
   ]
  },
  {
   "cell_type": "markdown",
   "id": "3947069b",
   "metadata": {},
   "source": [
    "Description feature has directly impact on points, it's actually reason for points score given by tasters.\n",
    "\n",
    "Title contains some informations from other features and could be potentionally relevant.\n",
    "\n",
    "In the **next notebook** we will do feature engineering with **winery, title and description features**."
   ]
  },
  {
   "cell_type": "code",
   "execution_count": null,
   "id": "728b0bef",
   "metadata": {},
   "outputs": [],
   "source": []
  },
  {
   "cell_type": "code",
   "execution_count": null,
   "id": "d49308c4",
   "metadata": {},
   "outputs": [],
   "source": []
  },
  {
   "cell_type": "code",
   "execution_count": null,
   "id": "48a436db",
   "metadata": {},
   "outputs": [],
   "source": []
  },
  {
   "cell_type": "code",
   "execution_count": null,
   "id": "6a2fbf91",
   "metadata": {},
   "outputs": [],
   "source": []
  },
  {
   "cell_type": "code",
   "execution_count": null,
   "id": "c7857f69",
   "metadata": {},
   "outputs": [],
   "source": []
  },
  {
   "cell_type": "code",
   "execution_count": null,
   "id": "40964957",
   "metadata": {},
   "outputs": [],
   "source": []
  },
  {
   "cell_type": "code",
   "execution_count": null,
   "id": "7a0a2a95",
   "metadata": {},
   "outputs": [],
   "source": []
  },
  {
   "cell_type": "code",
   "execution_count": null,
   "id": "966813bc",
   "metadata": {},
   "outputs": [],
   "source": []
  }
 ],
 "metadata": {
  "kernelspec": {
   "display_name": "env",
   "language": "python",
   "name": "env"
  },
  "language_info": {
   "codemirror_mode": {
    "name": "ipython",
    "version": 3
   },
   "file_extension": ".py",
   "mimetype": "text/x-python",
   "name": "python",
   "nbconvert_exporter": "python",
   "pygments_lexer": "ipython3",
   "version": "3.6.7"
  }
 },
 "nbformat": 4,
 "nbformat_minor": 5
}
