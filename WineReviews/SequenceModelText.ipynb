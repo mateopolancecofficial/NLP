{
  "nbformat": 4,
  "nbformat_minor": 0,
  "metadata": {
    "colab": {
      "name": "SequenceModelText.ipynb",
      "provenance": [],
      "collapsed_sections": [],
      "authorship_tag": "ABX9TyPy9fvYr9Yn6+sSyUH7YssO",
      "include_colab_link": true
    },
    "kernelspec": {
      "name": "python3",
      "display_name": "Python 3"
    },
    "language_info": {
      "name": "python"
    },
    "accelerator": "TPU"
  },
  "cells": [
    {
      "cell_type": "markdown",
      "metadata": {
        "id": "view-in-github",
        "colab_type": "text"
      },
      "source": [
        "<a href=\"https://colab.research.google.com/github/mateopolancecofficial/NLP/blob/main/WineReviews/SequenceModelText.ipynb\" target=\"_parent\"><img src=\"https://colab.research.google.com/assets/colab-badge.svg\" alt=\"Open In Colab\"/></a>"
      ]
    },
    {
      "cell_type": "code",
      "metadata": {
        "id": "HKR3fJyCJsw5"
      },
      "source": [
        "import pandas as pd\n",
        "import numpy as np\n",
        "import os"
      ],
      "execution_count": 1,
      "outputs": []
    },
    {
      "cell_type": "code",
      "metadata": {
        "id": "Ol64Q-SnEp3w"
      },
      "source": [
        "pip install -q -U tensorflow-text"
      ],
      "execution_count": 2,
      "outputs": []
    },
    {
      "cell_type": "code",
      "metadata": {
        "id": "RZ5Yzrf6E9Ca"
      },
      "source": [
        "pip install -q -U tf-models-official"
      ],
      "execution_count": 3,
      "outputs": []
    },
    {
      "cell_type": "code",
      "metadata": {
        "id": "E8wybiWHFAsE"
      },
      "source": [
        "#pip install -U tfds-nightly"
      ],
      "execution_count": 4,
      "outputs": []
    },
    {
      "cell_type": "code",
      "metadata": {
        "colab": {
          "base_uri": "https://localhost:8080/"
        },
        "id": "nMtZQUDVKEgU",
        "outputId": "dfcac19b-7824-4783-aaa3-52b17f6dd17e"
      },
      "source": [
        "!git clone -l -s https://github.com/mateopolancecofficial/NLP.git"
      ],
      "execution_count": 50,
      "outputs": [
        {
          "output_type": "stream",
          "text": [
            "Cloning into 'NLP'...\n",
            "warning: --local is ignored\n",
            "remote: Enumerating objects: 52, done.\u001b[K\n",
            "remote: Counting objects: 100% (52/52), done.\u001b[K\n",
            "remote: Compressing objects: 100% (44/44), done.\u001b[K\n",
            "remote: Total 52 (delta 20), reused 26 (delta 6), pack-reused 0\u001b[K\n",
            "Unpacking objects: 100% (52/52), done.\n"
          ],
          "name": "stdout"
        }
      ]
    },
    {
      "cell_type": "code",
      "metadata": {
        "id": "iNy5NAskFN-y"
      },
      "source": [
        "import os\n",
        "import tensorflow as tf\n",
        "import tensorflow_hub as hub\n",
        "import tensorflow_datasets as tfds\n",
        "import tensorflow_text as text  # A dependency of the preprocessing model\n",
        "import tensorflow_addons as tfa\n",
        "from official.nlp import optimization\n",
        "import numpy as np\n",
        "\n",
        "tf.get_logger().setLevel('ERROR')"
      ],
      "execution_count": 4,
      "outputs": []
    },
    {
      "cell_type": "code",
      "metadata": {
        "id": "pjI2YTntFRmh"
      },
      "source": [
        "os.environ[\"TFHUB_MODEL_LOAD_FORMAT\"]=\"UNCOMPRESSED\""
      ],
      "execution_count": 5,
      "outputs": []
    },
    {
      "cell_type": "code",
      "metadata": {
        "colab": {
          "base_uri": "https://localhost:8080/"
        },
        "id": "gTiSXIgJFR2s",
        "outputId": "97396352-6054-49f9-bfb5-909a50597a76"
      },
      "source": [
        "import os\n",
        "\n",
        "if os.environ['COLAB_TPU_ADDR']:\n",
        "  cluster_resolver = tf.distribute.cluster_resolver.TPUClusterResolver(tpu='')\n",
        "  tf.config.experimental_connect_to_cluster(cluster_resolver)\n",
        "  tf.tpu.experimental.initialize_tpu_system(cluster_resolver)\n",
        "  strategy = tf.distribute.TPUStrategy(cluster_resolver)\n",
        "  print('Using TPU')\n",
        "elif tf.test.is_gpu_available():\n",
        "  strategy = tf.distribute.MirroredStrategy()\n",
        "  print('Using GPU')\n",
        "else:\n",
        "  raise ValueError('Running on CPU is not recommended.')"
      ],
      "execution_count": 6,
      "outputs": [
        {
          "output_type": "stream",
          "text": [
            "Using TPU\n"
          ],
          "name": "stdout"
        }
      ]
    },
    {
      "cell_type": "code",
      "metadata": {
        "colab": {
          "base_uri": "https://localhost:8080/",
          "height": 638
        },
        "id": "grQGwXBQJvdT",
        "outputId": "fe3c36c2-7762-4b27-e106-7b2ca6e132fb"
      },
      "source": [
        "df = pd.read_csv(\"/content/NLP/WineReviews/data/winemag-data-130k-v2.csv\", index_col=0)\n",
        "df.head()"
      ],
      "execution_count": 7,
      "outputs": [
        {
          "output_type": "execute_result",
          "data": {
            "text/html": [
              "<div>\n",
              "<style scoped>\n",
              "    .dataframe tbody tr th:only-of-type {\n",
              "        vertical-align: middle;\n",
              "    }\n",
              "\n",
              "    .dataframe tbody tr th {\n",
              "        vertical-align: top;\n",
              "    }\n",
              "\n",
              "    .dataframe thead th {\n",
              "        text-align: right;\n",
              "    }\n",
              "</style>\n",
              "<table border=\"1\" class=\"dataframe\">\n",
              "  <thead>\n",
              "    <tr style=\"text-align: right;\">\n",
              "      <th></th>\n",
              "      <th>country</th>\n",
              "      <th>description</th>\n",
              "      <th>designation</th>\n",
              "      <th>points</th>\n",
              "      <th>price</th>\n",
              "      <th>province</th>\n",
              "      <th>region_1</th>\n",
              "      <th>region_2</th>\n",
              "      <th>taster_name</th>\n",
              "      <th>taster_twitter_handle</th>\n",
              "      <th>title</th>\n",
              "      <th>variety</th>\n",
              "      <th>winery</th>\n",
              "    </tr>\n",
              "  </thead>\n",
              "  <tbody>\n",
              "    <tr>\n",
              "      <th>0</th>\n",
              "      <td>Italy</td>\n",
              "      <td>Aromas include tropical fruit, broom, brimston...</td>\n",
              "      <td>Vulkà Bianco</td>\n",
              "      <td>87</td>\n",
              "      <td>NaN</td>\n",
              "      <td>Sicily &amp; Sardinia</td>\n",
              "      <td>Etna</td>\n",
              "      <td>NaN</td>\n",
              "      <td>Kerin O’Keefe</td>\n",
              "      <td>@kerinokeefe</td>\n",
              "      <td>Nicosia 2013 Vulkà Bianco  (Etna)</td>\n",
              "      <td>White Blend</td>\n",
              "      <td>Nicosia</td>\n",
              "    </tr>\n",
              "    <tr>\n",
              "      <th>1</th>\n",
              "      <td>Portugal</td>\n",
              "      <td>This is ripe and fruity, a wine that is smooth...</td>\n",
              "      <td>Avidagos</td>\n",
              "      <td>87</td>\n",
              "      <td>15.0</td>\n",
              "      <td>Douro</td>\n",
              "      <td>NaN</td>\n",
              "      <td>NaN</td>\n",
              "      <td>Roger Voss</td>\n",
              "      <td>@vossroger</td>\n",
              "      <td>Quinta dos Avidagos 2011 Avidagos Red (Douro)</td>\n",
              "      <td>Portuguese Red</td>\n",
              "      <td>Quinta dos Avidagos</td>\n",
              "    </tr>\n",
              "    <tr>\n",
              "      <th>2</th>\n",
              "      <td>US</td>\n",
              "      <td>Tart and snappy, the flavors of lime flesh and...</td>\n",
              "      <td>NaN</td>\n",
              "      <td>87</td>\n",
              "      <td>14.0</td>\n",
              "      <td>Oregon</td>\n",
              "      <td>Willamette Valley</td>\n",
              "      <td>Willamette Valley</td>\n",
              "      <td>Paul Gregutt</td>\n",
              "      <td>@paulgwine</td>\n",
              "      <td>Rainstorm 2013 Pinot Gris (Willamette Valley)</td>\n",
              "      <td>Pinot Gris</td>\n",
              "      <td>Rainstorm</td>\n",
              "    </tr>\n",
              "    <tr>\n",
              "      <th>3</th>\n",
              "      <td>US</td>\n",
              "      <td>Pineapple rind, lemon pith and orange blossom ...</td>\n",
              "      <td>Reserve Late Harvest</td>\n",
              "      <td>87</td>\n",
              "      <td>13.0</td>\n",
              "      <td>Michigan</td>\n",
              "      <td>Lake Michigan Shore</td>\n",
              "      <td>NaN</td>\n",
              "      <td>Alexander Peartree</td>\n",
              "      <td>NaN</td>\n",
              "      <td>St. Julian 2013 Reserve Late Harvest Riesling ...</td>\n",
              "      <td>Riesling</td>\n",
              "      <td>St. Julian</td>\n",
              "    </tr>\n",
              "    <tr>\n",
              "      <th>4</th>\n",
              "      <td>US</td>\n",
              "      <td>Much like the regular bottling from 2012, this...</td>\n",
              "      <td>Vintner's Reserve Wild Child Block</td>\n",
              "      <td>87</td>\n",
              "      <td>65.0</td>\n",
              "      <td>Oregon</td>\n",
              "      <td>Willamette Valley</td>\n",
              "      <td>Willamette Valley</td>\n",
              "      <td>Paul Gregutt</td>\n",
              "      <td>@paulgwine</td>\n",
              "      <td>Sweet Cheeks 2012 Vintner's Reserve Wild Child...</td>\n",
              "      <td>Pinot Noir</td>\n",
              "      <td>Sweet Cheeks</td>\n",
              "    </tr>\n",
              "  </tbody>\n",
              "</table>\n",
              "</div>"
            ],
            "text/plain": [
              "    country  ...               winery\n",
              "0     Italy  ...              Nicosia\n",
              "1  Portugal  ...  Quinta dos Avidagos\n",
              "2        US  ...            Rainstorm\n",
              "3        US  ...           St. Julian\n",
              "4        US  ...         Sweet Cheeks\n",
              "\n",
              "[5 rows x 13 columns]"
            ]
          },
          "metadata": {
            "tags": []
          },
          "execution_count": 7
        }
      ]
    },
    {
      "cell_type": "code",
      "metadata": {
        "colab": {
          "base_uri": "https://localhost:8080/",
          "height": 202
        },
        "id": "0sYfL_5mJyrr",
        "outputId": "2e900d3d-dc24-40fd-905d-99aca484e432"
      },
      "source": [
        "df = df[['description', 'points']]\n",
        "df.head()"
      ],
      "execution_count": 8,
      "outputs": [
        {
          "output_type": "execute_result",
          "data": {
            "text/html": [
              "<div>\n",
              "<style scoped>\n",
              "    .dataframe tbody tr th:only-of-type {\n",
              "        vertical-align: middle;\n",
              "    }\n",
              "\n",
              "    .dataframe tbody tr th {\n",
              "        vertical-align: top;\n",
              "    }\n",
              "\n",
              "    .dataframe thead th {\n",
              "        text-align: right;\n",
              "    }\n",
              "</style>\n",
              "<table border=\"1\" class=\"dataframe\">\n",
              "  <thead>\n",
              "    <tr style=\"text-align: right;\">\n",
              "      <th></th>\n",
              "      <th>description</th>\n",
              "      <th>points</th>\n",
              "    </tr>\n",
              "  </thead>\n",
              "  <tbody>\n",
              "    <tr>\n",
              "      <th>0</th>\n",
              "      <td>Aromas include tropical fruit, broom, brimston...</td>\n",
              "      <td>87</td>\n",
              "    </tr>\n",
              "    <tr>\n",
              "      <th>1</th>\n",
              "      <td>This is ripe and fruity, a wine that is smooth...</td>\n",
              "      <td>87</td>\n",
              "    </tr>\n",
              "    <tr>\n",
              "      <th>2</th>\n",
              "      <td>Tart and snappy, the flavors of lime flesh and...</td>\n",
              "      <td>87</td>\n",
              "    </tr>\n",
              "    <tr>\n",
              "      <th>3</th>\n",
              "      <td>Pineapple rind, lemon pith and orange blossom ...</td>\n",
              "      <td>87</td>\n",
              "    </tr>\n",
              "    <tr>\n",
              "      <th>4</th>\n",
              "      <td>Much like the regular bottling from 2012, this...</td>\n",
              "      <td>87</td>\n",
              "    </tr>\n",
              "  </tbody>\n",
              "</table>\n",
              "</div>"
            ],
            "text/plain": [
              "                                         description  points\n",
              "0  Aromas include tropical fruit, broom, brimston...      87\n",
              "1  This is ripe and fruity, a wine that is smooth...      87\n",
              "2  Tart and snappy, the flavors of lime flesh and...      87\n",
              "3  Pineapple rind, lemon pith and orange blossom ...      87\n",
              "4  Much like the regular bottling from 2012, this...      87"
            ]
          },
          "metadata": {
            "tags": []
          },
          "execution_count": 8
        }
      ]
    },
    {
      "cell_type": "code",
      "metadata": {
        "colab": {
          "base_uri": "https://localhost:8080/",
          "height": 202
        },
        "id": "cIkg4YINKJyL",
        "outputId": "06ec8943-93da-44e2-85ce-572f51ad287a"
      },
      "source": [
        "df = df.sample(frac = 1)\n",
        "df.head()"
      ],
      "execution_count": 9,
      "outputs": [
        {
          "output_type": "execute_result",
          "data": {
            "text/html": [
              "<div>\n",
              "<style scoped>\n",
              "    .dataframe tbody tr th:only-of-type {\n",
              "        vertical-align: middle;\n",
              "    }\n",
              "\n",
              "    .dataframe tbody tr th {\n",
              "        vertical-align: top;\n",
              "    }\n",
              "\n",
              "    .dataframe thead th {\n",
              "        text-align: right;\n",
              "    }\n",
              "</style>\n",
              "<table border=\"1\" class=\"dataframe\">\n",
              "  <thead>\n",
              "    <tr style=\"text-align: right;\">\n",
              "      <th></th>\n",
              "      <th>description</th>\n",
              "      <th>points</th>\n",
              "    </tr>\n",
              "  </thead>\n",
              "  <tbody>\n",
              "    <tr>\n",
              "      <th>56537</th>\n",
              "      <td>Here's a pleasantly fragrant blend of Negroama...</td>\n",
              "      <td>87</td>\n",
              "    </tr>\n",
              "    <tr>\n",
              "      <th>492</th>\n",
              "      <td>Tart and lively, this medium-bodied Sangiovese...</td>\n",
              "      <td>87</td>\n",
              "    </tr>\n",
              "    <tr>\n",
              "      <th>112903</th>\n",
              "      <td>The latest release from Vallado is a value win...</td>\n",
              "      <td>87</td>\n",
              "    </tr>\n",
              "    <tr>\n",
              "      <th>127846</th>\n",
              "      <td>The wine has good acidity, crisp green and whi...</td>\n",
              "      <td>87</td>\n",
              "    </tr>\n",
              "    <tr>\n",
              "      <th>84888</th>\n",
              "      <td>The wine is dry, although its soft and creamy ...</td>\n",
              "      <td>88</td>\n",
              "    </tr>\n",
              "  </tbody>\n",
              "</table>\n",
              "</div>"
            ],
            "text/plain": [
              "                                              description  points\n",
              "56537   Here's a pleasantly fragrant blend of Negroama...      87\n",
              "492     Tart and lively, this medium-bodied Sangiovese...      87\n",
              "112903  The latest release from Vallado is a value win...      87\n",
              "127846  The wine has good acidity, crisp green and whi...      87\n",
              "84888   The wine is dry, although its soft and creamy ...      88"
            ]
          },
          "metadata": {
            "tags": []
          },
          "execution_count": 9
        }
      ]
    },
    {
      "cell_type": "code",
      "metadata": {
        "id": "ZBXBUTvrKN5D"
      },
      "source": [
        "import tensorflow as tf\n",
        "import tensorflow_hub as hub\n",
        "import tensorflow_datasets as tfds\n",
        "\n",
        "import matplotlib.pyplot as plt\n",
        "\n"
      ],
      "execution_count": 10,
      "outputs": []
    },
    {
      "cell_type": "code",
      "metadata": {
        "id": "H94M906G-9Bt"
      },
      "source": [
        "df.description = df.description.str.replace('\\d+', '')"
      ],
      "execution_count": 11,
      "outputs": []
    },
    {
      "cell_type": "code",
      "metadata": {
        "id": "l4Oru0PHKf_b"
      },
      "source": [
        "from sklearn.model_selection import train_test_split\n",
        "\n",
        "text_train, text_val, y_train, y_val = train_test_split(df.description, df.points,\n",
        "                                                  test_size=0.2,train_size=0.8)"
      ],
      "execution_count": 12,
      "outputs": []
    },
    {
      "cell_type": "code",
      "metadata": {
        "id": "TV9yR_aiLJES"
      },
      "source": [
        "tf.config.run_functions_eagerly(False)\n",
        "\n",
        "def create_model():\n",
        "  hub_model = \"https://tfhub.dev/google/nnlm-en-dim50/2\"\n",
        "  hub_layer = hub.KerasLayer(hub_model, input_shape=[], dtype=tf.string, trainable=True)\n",
        "  model = tf.keras.Sequential()\n",
        "  model.add(hub_layer)\n",
        "  #model.add(tf.keras.layers.Dropout(0.2))\n",
        "  model.add(tf.keras.layers.Dense(8, activation='relu'))\n",
        "  #model.add(tf.keras.layers.Dropout(0.2))\n",
        "  model.add(tf.keras.layers.Dense(1))\n",
        "  return model\n"
      ],
      "execution_count": 42,
      "outputs": []
    },
    {
      "cell_type": "code",
      "metadata": {
        "id": "dGGclvyOLflp"
      },
      "source": [
        "\n",
        "#with strategy.scope():\n",
        "loss = 'mean_absolute_error'\n",
        "metric = 'mean_absolute_error'\n",
        "model = create_model()\n",
        "model.compile(optimizer='adam',\n",
        "              loss=loss,\n",
        "              metrics=[metric])\n",
        "  "
      ],
      "execution_count": 69,
      "outputs": []
    },
    {
      "cell_type": "code",
      "metadata": {
        "id": "i2iQaRK3L2ef"
      },
      "source": [
        "checkpoint_path = \"/content/NLP/WineReviews/checkpoints/cp-{epoch:04d}.ckpt\"\n",
        "checkpoint_dir = os.path.dirname(checkpoint_path)\n",
        "\n",
        "batch_size = 1024\n",
        "\n",
        "AUTOTUNE = tf.data.AUTOTUNE\n",
        "seed = 42\n",
        "\n",
        "# Create a callback that saves the model's weights every 5 epochs\n",
        "cp_callback = tf.keras.callbacks.ModelCheckpoint(\n",
        "    filepath=checkpoint_path, \n",
        "    verbose=1, \n",
        "    save_weights_only=True)\n",
        "\n",
        "es_callback = tf.keras.callbacks.EarlyStopping(monitor='val_loss', patience=4)\n",
        "\n",
        "train_dataset = tf.data.Dataset.from_tensor_slices((text_train, y_train))\n",
        "train_dataset = train_dataset.batch(batch_size)\n",
        "val_dataset = tf.data.Dataset.from_tensor_slices((text_val, y_val))\n",
        "val_dataset = val_dataset.batch(batch_size)\n",
        "\n",
        "train_ds = train_dataset.cache().prefetch(buffer_size=AUTOTUNE)\n",
        "val_ds = val_dataset.cache().prefetch(buffer_size=AUTOTUNE)"
      ],
      "execution_count": 46,
      "outputs": []
    },
    {
      "cell_type": "code",
      "metadata": {
        "colab": {
          "base_uri": "https://localhost:8080/"
        },
        "id": "K1mOnvbSMG_K",
        "outputId": "322744e1-2158-4f40-fa3a-89a5fc5fac24"
      },
      "source": [
        "# Save the weights using the `checkpoint_path` format\n",
        "model.save_weights(checkpoint_path.format(epoch=0))\n",
        "\n",
        "history = model.fit(x=train_ds,\n",
        "                    validation_data=val_ds,\n",
        "                    epochs=1,\n",
        "                    )"
      ],
      "execution_count": 23,
      "outputs": [
        {
          "output_type": "stream",
          "text": [
            "1625/1625 [==============================] - 20s 13ms/step - loss: 58.5678 - mean_squared_error: 58.5678 - val_loss: 42.2012 - val_mean_squared_error: 42.2012\n"
          ],
          "name": "stdout"
        }
      ]
    },
    {
      "cell_type": "code",
      "metadata": {
        "id": "FD-2tm95ivXm"
      },
      "source": [
        "model.save_weights(checkpoint_path.format(epoch=0))"
      ],
      "execution_count": 24,
      "outputs": []
    },
    {
      "cell_type": "code",
      "metadata": {
        "id": "3EfNTXKSK07L"
      },
      "source": [
        "\n",
        "\n",
        "model.save_weights('./saved_weights.h5', overwrite=True)\n",
        "\n",
        "# Load the previously saved weights\n",
        "#model.load_weights(latest)"
      ],
      "execution_count": 26,
      "outputs": []
    },
    {
      "cell_type": "code",
      "metadata": {
        "id": "hFeM8VyTjFMK"
      },
      "source": [
        "model.load_weights(\"./saved_weights.h5\")"
      ],
      "execution_count": 29,
      "outputs": []
    },
    {
      "cell_type": "code",
      "metadata": {
        "colab": {
          "base_uri": "https://localhost:8080/"
        },
        "id": "2BfBXw6jkcTC",
        "outputId": "4e125d00-9f2d-40e4-dcb8-ef3294f9ed33"
      },
      "source": [
        "history = model.fit(x=train_ds,\n",
        "                    validation_data=val_ds,\n",
        "                    epochs=10,\n",
        "                    )\n",
        "\n"
      ],
      "execution_count": 30,
      "outputs": [
        {
          "output_type": "stream",
          "text": [
            "Epoch 1/10\n",
            "1625/1625 [==============================] - 20s 12ms/step - loss: 30.0545 - mean_squared_error: 30.0545 - val_loss: 18.7864 - val_mean_squared_error: 18.7864\n",
            "Epoch 2/10\n",
            "1625/1625 [==============================] - 20s 12ms/step - loss: 12.7159 - mean_squared_error: 12.7159 - val_loss: 8.6578 - val_mean_squared_error: 8.6578\n",
            "Epoch 3/10\n",
            "1625/1625 [==============================] - 21s 13ms/step - loss: 7.5965 - mean_squared_error: 7.5965 - val_loss: 7.0713 - val_mean_squared_error: 7.0713\n",
            "Epoch 4/10\n",
            "1625/1625 [==============================] - 20s 12ms/step - loss: 7.0580 - mean_squared_error: 7.0580 - val_loss: 6.9815 - val_mean_squared_error: 6.9815\n",
            "Epoch 5/10\n",
            "1625/1625 [==============================] - 20s 12ms/step - loss: 7.0333 - mean_squared_error: 7.0333 - val_loss: 6.9779 - val_mean_squared_error: 6.9779\n",
            "Epoch 6/10\n",
            "1625/1625 [==============================] - 20s 12ms/step - loss: 7.0322 - mean_squared_error: 7.0322 - val_loss: 6.9778 - val_mean_squared_error: 6.9778\n",
            "Epoch 7/10\n",
            "1625/1625 [==============================] - 20s 12ms/step - loss: 7.0322 - mean_squared_error: 7.0322 - val_loss: 6.9779 - val_mean_squared_error: 6.9779\n",
            "Epoch 8/10\n",
            "1625/1625 [==============================] - 20s 12ms/step - loss: 7.0321 - mean_squared_error: 7.0321 - val_loss: 6.9779 - val_mean_squared_error: 6.9779\n",
            "Epoch 9/10\n",
            "1625/1625 [==============================] - 20s 12ms/step - loss: 7.0320 - mean_squared_error: 7.0320 - val_loss: 6.9779 - val_mean_squared_error: 6.9779\n",
            "Epoch 10/10\n",
            "1625/1625 [==============================] - 20s 12ms/step - loss: 7.0277 - mean_squared_error: 7.0277 - val_loss: 6.9645 - val_mean_squared_error: 6.9645\n"
          ],
          "name": "stdout"
        }
      ]
    },
    {
      "cell_type": "code",
      "metadata": {
        "id": "m5LrjUcklHZK"
      },
      "source": [
        "model.save_weights('./weights.h5', overwrite=True)"
      ],
      "execution_count": 36,
      "outputs": []
    },
    {
      "cell_type": "code",
      "metadata": {
        "id": "XJpmAmSslz2f"
      },
      "source": [
        "model.load_weights(\"./weights.h5\")"
      ],
      "execution_count": 37,
      "outputs": []
    },
    {
      "cell_type": "code",
      "metadata": {
        "colab": {
          "base_uri": "https://localhost:8080/"
        },
        "id": "jSnbtuv-mvBv",
        "outputId": "61cce269-f17c-4081-b923-cedf4bd94bf7"
      },
      "source": [
        "history = model.fit(x=train_ds,\n",
        "                    validation_data=val_ds,\n",
        "                    epochs=10,\n",
        "                    callbacks=[es_callback]\n",
        "                    )"
      ],
      "execution_count": 38,
      "outputs": [
        {
          "output_type": "stream",
          "text": [
            "Epoch 1/10\n",
            "1625/1625 [==============================] - 21s 13ms/step - loss: 7.0171 - mean_squared_error: 7.0171 - val_loss: 6.9526 - val_mean_squared_error: 6.9526\n",
            "Epoch 2/10\n",
            "1625/1625 [==============================] - 21s 13ms/step - loss: 7.0070 - mean_squared_error: 7.0070 - val_loss: 6.9421 - val_mean_squared_error: 6.9421\n",
            "Epoch 3/10\n",
            "1625/1625 [==============================] - 21s 13ms/step - loss: 6.9977 - mean_squared_error: 6.9977 - val_loss: 6.9338 - val_mean_squared_error: 6.9338\n",
            "Epoch 4/10\n",
            "1625/1625 [==============================] - 20s 12ms/step - loss: 6.9901 - mean_squared_error: 6.9901 - val_loss: 6.9266 - val_mean_squared_error: 6.9266\n",
            "Epoch 5/10\n",
            "1625/1625 [==============================] - 21s 13ms/step - loss: 6.9843 - mean_squared_error: 6.9843 - val_loss: 6.9208 - val_mean_squared_error: 6.9208\n",
            "Epoch 6/10\n",
            "1625/1625 [==============================] - 20s 12ms/step - loss: 6.9795 - mean_squared_error: 6.9795 - val_loss: 6.9160 - val_mean_squared_error: 6.9160\n",
            "Epoch 7/10\n",
            "1625/1625 [==============================] - 21s 13ms/step - loss: 6.9758 - mean_squared_error: 6.9758 - val_loss: 6.9130 - val_mean_squared_error: 6.9130\n",
            "Epoch 8/10\n",
            "1625/1625 [==============================] - 21s 13ms/step - loss: 6.9727 - mean_squared_error: 6.9727 - val_loss: 6.9098 - val_mean_squared_error: 6.9098\n",
            "Epoch 9/10\n",
            "1625/1625 [==============================] - 20s 12ms/step - loss: 6.9702 - mean_squared_error: 6.9702 - val_loss: 6.9065 - val_mean_squared_error: 6.9065\n",
            "Epoch 10/10\n",
            "1625/1625 [==============================] - 21s 13ms/step - loss: 6.9682 - mean_squared_error: 6.9682 - val_loss: 6.9039 - val_mean_squared_error: 6.9039\n"
          ],
          "name": "stdout"
        }
      ]
    },
    {
      "cell_type": "code",
      "metadata": {
        "id": "q3MrzpjPmxRQ"
      },
      "source": [
        "model.save_weights('./weights.h5', overwrite=True)"
      ],
      "execution_count": 40,
      "outputs": []
    },
    {
      "cell_type": "code",
      "metadata": {
        "id": "Yjmm504tnnGv"
      },
      "source": [
        "model.load_weights(\"./weights.h5\")"
      ],
      "execution_count": 44,
      "outputs": []
    },
    {
      "cell_type": "code",
      "metadata": {
        "colab": {
          "base_uri": "https://localhost:8080/"
        },
        "id": "TZ4d7OZfnqCf",
        "outputId": "8fd729ab-f486-464d-9843-3b890655d66f"
      },
      "source": [
        "history = model.fit(x=train_ds,\n",
        "                    validation_data=val_ds,\n",
        "                    epochs=10,\n",
        "                    callbacks=[es_callback]\n",
        "                    )"
      ],
      "execution_count": 47,
      "outputs": [
        {
          "output_type": "stream",
          "text": [
            "Epoch 1/10\n",
            "102/102 [==============================] - 18s 174ms/step - loss: 3.2101 - mean_squared_error: 3.2101 - val_loss: 3.2121 - val_mean_squared_error: 3.2121\n",
            "Epoch 2/10\n",
            "102/102 [==============================] - 18s 176ms/step - loss: 2.8417 - mean_squared_error: 2.8417 - val_loss: 3.0564 - val_mean_squared_error: 3.0564\n",
            "Epoch 3/10\n",
            "102/102 [==============================] - 17s 168ms/step - loss: 2.6186 - mean_squared_error: 2.6186 - val_loss: 2.9699 - val_mean_squared_error: 2.9699\n",
            "Epoch 4/10\n",
            "102/102 [==============================] - 17s 170ms/step - loss: 2.4623 - mean_squared_error: 2.4623 - val_loss: 2.9230 - val_mean_squared_error: 2.9230\n",
            "Epoch 5/10\n",
            "102/102 [==============================] - 17s 169ms/step - loss: 2.3472 - mean_squared_error: 2.3472 - val_loss: 2.9006 - val_mean_squared_error: 2.9006\n",
            "Epoch 6/10\n",
            "102/102 [==============================] - 17s 170ms/step - loss: 2.2593 - mean_squared_error: 2.2593 - val_loss: 2.8945 - val_mean_squared_error: 2.8945\n",
            "Epoch 7/10\n",
            "102/102 [==============================] - 17s 167ms/step - loss: 2.1903 - mean_squared_error: 2.1903 - val_loss: 2.8987 - val_mean_squared_error: 2.8987\n",
            "Epoch 8/10\n",
            "102/102 [==============================] - 17s 166ms/step - loss: 2.1348 - mean_squared_error: 2.1348 - val_loss: 2.9091 - val_mean_squared_error: 2.9091\n",
            "Epoch 9/10\n",
            "102/102 [==============================] - 17s 169ms/step - loss: 2.0888 - mean_squared_error: 2.0888 - val_loss: 2.9234 - val_mean_squared_error: 2.9234\n",
            "Epoch 10/10\n",
            "102/102 [==============================] - 17s 168ms/step - loss: 2.0496 - mean_squared_error: 2.0496 - val_loss: 2.9399 - val_mean_squared_error: 2.9399\n"
          ],
          "name": "stdout"
        }
      ]
    },
    {
      "cell_type": "code",
      "metadata": {
        "colab": {
          "base_uri": "https://localhost:8080/"
        },
        "id": "UzuVug4Fny0_",
        "outputId": "22212f05-953a-4eb1-f86f-e85cead3fb90"
      },
      "source": [
        "history = model.fit(x=train_ds,\n",
        "                    validation_data=val_ds,\n",
        "                    epochs=10,\n",
        "                    callbacks=[es_callback]\n",
        "                    )"
      ],
      "execution_count": 48,
      "outputs": [
        {
          "output_type": "stream",
          "text": [
            "Epoch 1/10\n",
            "102/102 [==============================] - 18s 173ms/step - loss: 2.0151 - mean_squared_error: 2.0151 - val_loss: 2.9574 - val_mean_squared_error: 2.9574\n",
            "Epoch 2/10\n",
            "102/102 [==============================] - 18s 172ms/step - loss: 1.9842 - mean_squared_error: 1.9842 - val_loss: 2.9757 - val_mean_squared_error: 2.9757\n",
            "Epoch 3/10\n",
            "102/102 [==============================] - 18s 173ms/step - loss: 1.9561 - mean_squared_error: 1.9561 - val_loss: 2.9934 - val_mean_squared_error: 2.9934\n",
            "Epoch 4/10\n",
            "102/102 [==============================] - 18s 176ms/step - loss: 1.9298 - mean_squared_error: 1.9298 - val_loss: 3.0113 - val_mean_squared_error: 3.0113\n",
            "Epoch 5/10\n",
            "102/102 [==============================] - 18s 176ms/step - loss: 1.9053 - mean_squared_error: 1.9053 - val_loss: 3.0302 - val_mean_squared_error: 3.0302\n"
          ],
          "name": "stdout"
        }
      ]
    },
    {
      "cell_type": "code",
      "metadata": {
        "id": "vAixYGFAsI3p"
      },
      "source": [
        ""
      ],
      "execution_count": null,
      "outputs": []
    },
    {
      "cell_type": "code",
      "metadata": {
        "id": "PUuKDCaEo3SO"
      },
      "source": [
        "df = pd.read_csv(\"/content/NLP/WineReviews/data/winemag-data-130k-v2.csv\", index_col=0)\n",
        "df = df[['description', 'points']]\n",
        "df = df.sample(frac = 1)\n",
        "df.description = df.description.str.replace('\\d+', '')\n",
        "\n",
        "df_1 = pd.read_csv(\"/content/NLP/WineReviews/data/winemag-data_first150k.csv\", index_col=0)\n",
        "df_1 = df_1[['description', 'points']]\n",
        "df_1 = df_1.sample(frac = 1)\n",
        "df_1.description = df_1.description.str.replace('\\d+', '')"
      ],
      "execution_count": 72,
      "outputs": []
    },
    {
      "cell_type": "code",
      "metadata": {
        "id": "tCMYfVSQsiby"
      },
      "source": [
        "df_all = pd.concat([df_1, df])"
      ],
      "execution_count": 73,
      "outputs": []
    },
    {
      "cell_type": "code",
      "metadata": {
        "colab": {
          "base_uri": "https://localhost:8080/"
        },
        "id": "KOJGr9zUt53c",
        "outputId": "1d4aa52b-ceb2-467a-b9dc-60d950acb543"
      },
      "source": [
        "df_all.shape"
      ],
      "execution_count": 74,
      "outputs": [
        {
          "output_type": "execute_result",
          "data": {
            "text/plain": [
              "(280901, 2)"
            ]
          },
          "metadata": {
            "tags": []
          },
          "execution_count": 74
        }
      ]
    },
    {
      "cell_type": "code",
      "metadata": {
        "id": "LmU7SOSfuJdp"
      },
      "source": [
        "# dropping duplicte values\n",
        "df_all.drop_duplicates(subset =\"description\",\n",
        "                       keep = 'first', inplace = True)"
      ],
      "execution_count": 75,
      "outputs": []
    },
    {
      "cell_type": "code",
      "metadata": {
        "colab": {
          "base_uri": "https://localhost:8080/"
        },
        "id": "9CnUJRRCulmx",
        "outputId": "42f080cb-1d20-485c-83c2-644800629ea0"
      },
      "source": [
        "df_all.shape"
      ],
      "execution_count": 76,
      "outputs": [
        {
          "output_type": "execute_result",
          "data": {
            "text/plain": [
              "(169429, 2)"
            ]
          },
          "metadata": {
            "tags": []
          },
          "execution_count": 76
        }
      ]
    },
    {
      "cell_type": "code",
      "metadata": {
        "id": "pdOW3AFUu8uD"
      },
      "source": [
        "text_train, text_val, y_train, y_val = train_test_split(df_all.description, \n",
        "                                                        df_all.points,\n",
        "                                                  test_size=0.2,train_size=0.8)\n",
        "batch_size = 1024\n",
        "\n",
        "AUTOTUNE = tf.data.AUTOTUNE\n",
        "seed = 42\n",
        "\n",
        "train_dataset = tf.data.Dataset.from_tensor_slices((text_train, y_train))\n",
        "train_dataset = train_dataset.batch(batch_size)\n",
        "val_dataset = tf.data.Dataset.from_tensor_slices((text_val, y_val))\n",
        "val_dataset = val_dataset.batch(batch_size)\n",
        "\n",
        "train_ds = train_dataset.cache().prefetch(buffer_size=AUTOTUNE)\n",
        "val_ds = val_dataset.cache().prefetch(buffer_size=AUTOTUNE)"
      ],
      "execution_count": 77,
      "outputs": []
    },
    {
      "cell_type": "code",
      "metadata": {
        "colab": {
          "base_uri": "https://localhost:8080/"
        },
        "id": "iVKPk2deuniA",
        "outputId": "e92338ae-cd8a-4be8-cd87-0bf0273b4f02"
      },
      "source": [
        "history = model.fit(x=train_ds,\n",
        "                    validation_data=val_ds,\n",
        "                    epochs=10,\n",
        "                    callbacks=[es_callback]\n",
        "                    )"
      ],
      "execution_count": 62,
      "outputs": [
        {
          "output_type": "stream",
          "text": [
            "Epoch 1/10\n",
            "77/77 [==============================] - 15s 197ms/step - loss: 2.8965 - mean_squared_error: 2.8965 - val_loss: 2.7847 - val_mean_squared_error: 2.7847\n",
            "Epoch 2/10\n",
            "77/77 [==============================] - 15s 192ms/step - loss: 2.4508 - mean_squared_error: 2.4508 - val_loss: 2.8000 - val_mean_squared_error: 2.8000\n",
            "Epoch 3/10\n",
            "77/77 [==============================] - 15s 189ms/step - loss: 2.2784 - mean_squared_error: 2.2784 - val_loss: 2.8444 - val_mean_squared_error: 2.8444\n",
            "Epoch 4/10\n",
            "77/77 [==============================] - 15s 191ms/step - loss: 2.1705 - mean_squared_error: 2.1705 - val_loss: 2.8939 - val_mean_squared_error: 2.8939\n",
            "Epoch 5/10\n",
            "77/77 [==============================] - 15s 194ms/step - loss: 2.0913 - mean_squared_error: 2.0913 - val_loss: 2.9431 - val_mean_squared_error: 2.9431\n"
          ],
          "name": "stdout"
        }
      ]
    },
    {
      "cell_type": "code",
      "metadata": {
        "colab": {
          "base_uri": "https://localhost:8080/"
        },
        "id": "LoPyq7Qju4ex",
        "outputId": "d2a4f1b2-3d4d-4fe1-ef28-64e6c0d09985"
      },
      "source": [
        "history = model.fit(x=train_ds,\n",
        "                    validation_data=val_ds,\n",
        "                    epochs=10,\n",
        "                    callbacks=[es_callback]\n",
        "                    )"
      ],
      "execution_count": 63,
      "outputs": [
        {
          "output_type": "stream",
          "text": [
            "Epoch 1/10\n",
            "77/77 [==============================] - 14s 173ms/step - loss: 2.0286 - mean_squared_error: 2.0286 - val_loss: 2.9920 - val_mean_squared_error: 2.9920\n",
            "Epoch 2/10\n",
            "77/77 [==============================] - 13s 173ms/step - loss: 1.9767 - mean_squared_error: 1.9767 - val_loss: 3.0384 - val_mean_squared_error: 3.0384\n",
            "Epoch 3/10\n",
            "77/77 [==============================] - 14s 176ms/step - loss: 1.9321 - mean_squared_error: 1.9321 - val_loss: 3.0846 - val_mean_squared_error: 3.0846\n",
            "Epoch 4/10\n",
            "77/77 [==============================] - 13s 174ms/step - loss: 1.8931 - mean_squared_error: 1.8931 - val_loss: 3.1284 - val_mean_squared_error: 3.1284\n",
            "Epoch 5/10\n",
            "77/77 [==============================] - 13s 175ms/step - loss: 1.8579 - mean_squared_error: 1.8579 - val_loss: 3.1709 - val_mean_squared_error: 3.1709\n"
          ],
          "name": "stdout"
        }
      ]
    },
    {
      "cell_type": "code",
      "metadata": {
        "colab": {
          "base_uri": "https://localhost:8080/"
        },
        "id": "PfiqbDWpvhJ_",
        "outputId": "50dab96c-e1d1-4d38-c344-07a7db6f2490"
      },
      "source": [
        "history = model.fit(x=train_ds,\n",
        "                    validation_data=val_ds,\n",
        "                    epochs=10,\n",
        "                    callbacks=[es_callback]\n",
        "                    )"
      ],
      "execution_count": 67,
      "outputs": [
        {
          "output_type": "stream",
          "text": [
            "Epoch 1/10\n",
            "77/77 [==============================] - 14s 178ms/step - loss: 7508.3454 - mean_absolute_error: 86.5792 - val_loss: 6260.2783 - val_mean_absolute_error: 79.0686\n",
            "Epoch 2/10\n",
            "77/77 [==============================] - 14s 186ms/step - loss: 5342.7893 - mean_absolute_error: 72.7148 - val_loss: 2028.3466 - val_mean_absolute_error: 44.7291\n",
            "Epoch 3/10\n",
            "77/77 [==============================] - 15s 189ms/step - loss: 1229.1385 - mean_absolute_error: 32.9244 - val_loss: 129.4379 - val_mean_absolute_error: 8.9864\n",
            "Epoch 4/10\n",
            "77/77 [==============================] - 14s 180ms/step - loss: 117.7783 - mean_absolute_error: 8.5160 - val_loss: 106.4393 - val_mean_absolute_error: 8.1043\n",
            "Epoch 5/10\n",
            "77/77 [==============================] - 14s 184ms/step - loss: 104.1191 - mean_absolute_error: 7.9779 - val_loss: 98.5340 - val_mean_absolute_error: 7.7890\n",
            "Epoch 6/10\n",
            "77/77 [==============================] - 14s 185ms/step - loss: 95.8042 - mean_absolute_error: 7.6456 - val_loss: 91.8382 - val_mean_absolute_error: 7.5119\n",
            "Epoch 7/10\n",
            "77/77 [==============================] - 14s 184ms/step - loss: 88.7189 - mean_absolute_error: 7.3504 - val_loss: 86.3149 - val_mean_absolute_error: 7.2751\n",
            "Epoch 8/10\n",
            "77/77 [==============================] - 13s 172ms/step - loss: 82.7969 - mean_absolute_error: 7.0946 - val_loss: 81.8301 - val_mean_absolute_error: 7.0750\n",
            "Epoch 9/10\n",
            "77/77 [==============================] - 14s 176ms/step - loss: 77.8898 - mean_absolute_error: 6.8760 - val_loss: 78.2169 - val_mean_absolute_error: 6.9091\n",
            "Epoch 10/10\n",
            "77/77 [==============================] - 13s 174ms/step - loss: 73.8258 - mean_absolute_error: 6.6913 - val_loss: 75.3105 - val_mean_absolute_error: 6.7731\n"
          ],
          "name": "stdout"
        }
      ]
    },
    {
      "cell_type": "code",
      "metadata": {
        "colab": {
          "base_uri": "https://localhost:8080/"
        },
        "id": "AgwSuwu9wg1O",
        "outputId": "58a9dfff-8a3d-4d87-e728-28fb2ec99e39"
      },
      "source": [
        "history = model.fit(x=train_ds,\n",
        "                    validation_data=val_ds,\n",
        "                    epochs=30,\n",
        "                    callbacks=[es_callback]\n",
        "                    )"
      ],
      "execution_count": null,
      "outputs": [
        {
          "output_type": "stream",
          "text": [
            "Epoch 1/30\n",
            "133/133 [==============================] - 24s 175ms/step - loss: 5.4349 - mean_absolute_error: 5.4349 - val_loss: 5.3952 - val_mean_absolute_error: 5.3952\n",
            "Epoch 2/30\n",
            "133/133 [==============================] - 24s 177ms/step - loss: 5.2990 - mean_absolute_error: 5.2990 - val_loss: 5.3929 - val_mean_absolute_error: 5.3929\n",
            "Epoch 3/30\n",
            " 29/133 [=====>........................] - ETA: 18s - loss: 5.2012 - mean_absolute_error: 5.2012"
          ],
          "name": "stdout"
        }
      ]
    },
    {
      "cell_type": "code",
      "metadata": {
        "colab": {
          "base_uri": "https://localhost:8080/"
        },
        "id": "7VZN4EG1wKvx",
        "outputId": "a9ea427c-3761-4e9f-bfad-cc8c7b2cd514"
      },
      "source": [
        "history = model.fit(x=train_ds,\n",
        "                    validation_data=val_ds,\n",
        "                    epochs=30,\n",
        "                    callbacks=[es_callback]\n",
        "                    )"
      ],
      "execution_count": 70,
      "outputs": [
        {
          "output_type": "stream",
          "text": [
            "Epoch 1/30\n",
            "77/77 [==============================] - 15s 183ms/step - loss: 86.6885 - mean_absolute_error: 86.6885 - val_loss: 78.8260 - val_mean_absolute_error: 78.8260\n",
            "Epoch 2/30\n",
            "77/77 [==============================] - 14s 177ms/step - loss: 71.4318 - mean_absolute_error: 71.4318 - val_loss: 34.8206 - val_mean_absolute_error: 34.8206\n",
            "Epoch 3/30\n",
            "77/77 [==============================] - 14s 177ms/step - loss: 20.1168 - mean_absolute_error: 20.1168 - val_loss: 8.0042 - val_mean_absolute_error: 8.0042\n",
            "Epoch 4/30\n",
            "77/77 [==============================] - 14s 182ms/step - loss: 7.7263 - mean_absolute_error: 7.7263 - val_loss: 7.2378 - val_mean_absolute_error: 7.2378\n",
            "Epoch 5/30\n",
            "77/77 [==============================] - 14s 179ms/step - loss: 6.9805 - mean_absolute_error: 6.9805 - val_loss: 6.8146 - val_mean_absolute_error: 6.8146\n",
            "Epoch 6/30\n",
            "77/77 [==============================] - 14s 181ms/step - loss: 6.5381 - mean_absolute_error: 6.5381 - val_loss: 6.5701 - val_mean_absolute_error: 6.5701\n",
            "Epoch 7/30\n",
            "77/77 [==============================] - 14s 180ms/step - loss: 6.2555 - mean_absolute_error: 6.2555 - val_loss: 6.4259 - val_mean_absolute_error: 6.4259\n",
            "Epoch 8/30\n",
            "77/77 [==============================] - 14s 178ms/step - loss: 6.0601 - mean_absolute_error: 6.0601 - val_loss: 6.3328 - val_mean_absolute_error: 6.3328\n",
            "Epoch 9/30\n",
            "77/77 [==============================] - 13s 174ms/step - loss: 5.9115 - mean_absolute_error: 5.9115 - val_loss: 6.2704 - val_mean_absolute_error: 6.2704\n",
            "Epoch 10/30\n",
            "77/77 [==============================] - 14s 176ms/step - loss: 5.7909 - mean_absolute_error: 5.7909 - val_loss: 6.2273 - val_mean_absolute_error: 6.2273\n",
            "Epoch 11/30\n",
            "77/77 [==============================] - 13s 171ms/step - loss: 5.6905 - mean_absolute_error: 5.6905 - val_loss: 6.1941 - val_mean_absolute_error: 6.1941\n",
            "Epoch 12/30\n",
            "77/77 [==============================] - 13s 170ms/step - loss: 5.6045 - mean_absolute_error: 5.6045 - val_loss: 6.1698 - val_mean_absolute_error: 6.1698\n",
            "Epoch 13/30\n",
            "77/77 [==============================] - 13s 172ms/step - loss: 5.5278 - mean_absolute_error: 5.5278 - val_loss: 6.1492 - val_mean_absolute_error: 6.1492\n",
            "Epoch 14/30\n",
            "77/77 [==============================] - 13s 173ms/step - loss: 5.4596 - mean_absolute_error: 5.4596 - val_loss: 6.1354 - val_mean_absolute_error: 6.1354\n",
            "Epoch 15/30\n",
            "77/77 [==============================] - 13s 172ms/step - loss: 5.3984 - mean_absolute_error: 5.3984 - val_loss: 6.1220 - val_mean_absolute_error: 6.1220\n",
            "Epoch 16/30\n",
            "77/77 [==============================] - 13s 173ms/step - loss: 5.3411 - mean_absolute_error: 5.3411 - val_loss: 6.1093 - val_mean_absolute_error: 6.1093\n",
            "Epoch 17/30\n",
            "77/77 [==============================] - 13s 175ms/step - loss: 5.2894 - mean_absolute_error: 5.2894 - val_loss: 6.0941 - val_mean_absolute_error: 6.0941\n",
            "Epoch 18/30\n",
            "77/77 [==============================] - 13s 171ms/step - loss: 5.2412 - mean_absolute_error: 5.2412 - val_loss: 6.0835 - val_mean_absolute_error: 6.0835\n",
            "Epoch 19/30\n",
            "77/77 [==============================] - 13s 174ms/step - loss: 5.1993 - mean_absolute_error: 5.1993 - val_loss: 6.0743 - val_mean_absolute_error: 6.0743\n",
            "Epoch 20/30\n",
            "77/77 [==============================] - 13s 172ms/step - loss: 5.1664 - mean_absolute_error: 5.1664 - val_loss: 6.0732 - val_mean_absolute_error: 6.0732\n",
            "Epoch 21/30\n",
            "77/77 [==============================] - 14s 176ms/step - loss: 5.1297 - mean_absolute_error: 5.1297 - val_loss: 6.0632 - val_mean_absolute_error: 6.0632\n",
            "Epoch 22/30\n",
            "77/77 [==============================] - 13s 171ms/step - loss: 5.0890 - mean_absolute_error: 5.0890 - val_loss: 6.0655 - val_mean_absolute_error: 6.0655\n",
            "Epoch 23/30\n",
            "77/77 [==============================] - 13s 171ms/step - loss: 5.0469 - mean_absolute_error: 5.0469 - val_loss: 6.0647 - val_mean_absolute_error: 6.0647\n",
            "Epoch 24/30\n",
            "77/77 [==============================] - 13s 171ms/step - loss: 5.0231 - mean_absolute_error: 5.0231 - val_loss: 6.0474 - val_mean_absolute_error: 6.0474\n",
            "Epoch 25/30\n",
            "77/77 [==============================] - 13s 171ms/step - loss: 4.9992 - mean_absolute_error: 4.9992 - val_loss: 6.0522 - val_mean_absolute_error: 6.0522\n",
            "Epoch 26/30\n",
            "77/77 [==============================] - 13s 171ms/step - loss: 4.9681 - mean_absolute_error: 4.9681 - val_loss: 6.0607 - val_mean_absolute_error: 6.0607\n",
            "Epoch 27/30\n",
            "77/77 [==============================] - 13s 173ms/step - loss: 4.9371 - mean_absolute_error: 4.9371 - val_loss: 6.0394 - val_mean_absolute_error: 6.0394\n",
            "Epoch 28/30\n",
            "77/77 [==============================] - 13s 172ms/step - loss: 4.8933 - mean_absolute_error: 4.8933 - val_loss: 6.0345 - val_mean_absolute_error: 6.0345\n",
            "Epoch 29/30\n",
            "77/77 [==============================] - 13s 174ms/step - loss: 4.8543 - mean_absolute_error: 4.8543 - val_loss: 6.0808 - val_mean_absolute_error: 6.0808\n",
            "Epoch 30/30\n",
            "77/77 [==============================] - 13s 172ms/step - loss: 4.8360 - mean_absolute_error: 4.8360 - val_loss: 6.1223 - val_mean_absolute_error: 6.1223\n"
          ],
          "name": "stdout"
        }
      ]
    },
    {
      "cell_type": "code",
      "metadata": {
        "colab": {
          "base_uri": "https://localhost:8080/"
        },
        "id": "N5PYGIm1yBnb",
        "outputId": "023183a1-9c9a-477d-c3e2-10e796f664cf"
      },
      "source": [
        ""
      ],
      "execution_count": 71,
      "outputs": [
        {
          "output_type": "execute_result",
          "data": {
            "text/plain": [
              "From the Colli Fiorentini zone of Chianti, this beautiful vin santo spent five years maturing in small oak barrels. It shows flavors of candied fruit, honey, resin, pine nut and toasted almond.                                                                                         1\n",
              "This is the winery's first Petit Verdot, and it's a beauty. Firm and muscular, it has plenty of blackberry and black cherry flavors hanging on its tannic bones. The finish shows a smack of dark chocolate, and the overall structure suggests that this will age for  years or more.    1\n",
              "With an opulent texture, this is ripe and packed with yellow fruits. There is just a hint of the wood aging along with great acidity and citrus flavors. Although full-bodied, the wine finishes crisply fresh.                                                                           1\n",
              "As always, a nice, easy-drinking Chard with plenty of Central Coast character. The cool, long hangtime has given very ripe fruit, while preserving vital acidity. The winemaker brings a deft touch of oak.                                                                               1\n",
              "Defines Paso Robles Petite Sirah with its soft, luxurious texture and wonderfully ripe fruit. Blackberry and cherry-pie filling, cola, beef jerky and sandalwood flavors flood the mouth, and are perfectly dry and moderate in alcohol. Drink now for sheer lusciousness.                1\n",
              "                                                                                                                                                                                                                                                                                         ..\n",
              "Well-rendered oak tones gained during  month of tonneaux aging deliver layers of toast, vanilla and leather over the wine's natural aromas of cherry fruit and dried herbs. Red fruit flavors shine through in the mouth and the wine boasts very good structure and length.              1\n",
              "Juicy and ripe, this Bordeaux blend is an elegant young wine with earthy flavors of blackberries, cherries and new smoky oak. Notable for its exceptional balance, it should hold well through .                                                                                          1\n",
              "Despite plenty of honeyed sweetness, this wine's slate-driven minerality and zesty acids and slight touch of CO keep it nicely balanced. It's light in body, with crisp lime flavors, making it a great candidate for sipping during the dog days of summer.                              1\n",
              "Sweet oak-driven notes of cinnamon, vanilla and dark chocolate appear at first, leaving only a sliver of room for the natural berry and cherry fruit to come forward. The mouthfeel is silky and smooth with a touch of bright acidity on the close.                                      1\n",
              "With its rich, ripe blackberry-jam flavor and soft tannins, this is an immediately accessible, fruity wine. The tannins provide structure that accompanies the ripeness, although this is not a wine to age for many years.                                                               1\n",
              "Name: description, Length: 97820, dtype: int64"
            ]
          },
          "metadata": {
            "tags": []
          },
          "execution_count": 71
        }
      ]
    },
    {
      "cell_type": "code",
      "metadata": {
        "id": "wZ-2riWczD8J"
      },
      "source": [
        ""
      ],
      "execution_count": null,
      "outputs": []
    }
  ]
}