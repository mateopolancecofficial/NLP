{
  "nbformat": 4,
  "nbformat_minor": 0,
  "metadata": {
    "colab": {
      "name": "SequenceTextModelWithPretrainedEmbeddings.ipynb",
      "provenance": [],
      "authorship_tag": "ABX9TyOLQpCzu1d846soj5SOBqzx",
      "include_colab_link": true
    },
    "kernelspec": {
      "name": "python3",
      "display_name": "Python 3"
    },
    "language_info": {
      "name": "python"
    },
    "accelerator": "GPU"
  },
  "cells": [
    {
      "cell_type": "markdown",
      "metadata": {
        "id": "view-in-github",
        "colab_type": "text"
      },
      "source": [
        "<a href=\"https://colab.research.google.com/github/mateopolancecofficial/NLP/blob/main/WineReviews/SequenceTextModelWithPretrainedEmbeddings.ipynb\" target=\"_parent\"><img src=\"https://colab.research.google.com/assets/colab-badge.svg\" alt=\"Open In Colab\"/></a>"
      ]
    },
    {
      "cell_type": "code",
      "metadata": {
        "colab": {
          "base_uri": "https://localhost:8080/"
        },
        "id": "2qqLyv17_rWZ",
        "outputId": "7e6e5678-c3d7-4280-a637-5e360540d444"
      },
      "source": [
        "pip install -q -U tensorflow-text"
      ],
      "execution_count": 1,
      "outputs": [
        {
          "output_type": "stream",
          "text": [
            "\u001b[?25l\r\u001b[K     |                                | 10kB 23.6MB/s eta 0:00:01\r\u001b[K     |▏                               | 20kB 21.4MB/s eta 0:00:01\r\u001b[K     |▎                               | 30kB 16.5MB/s eta 0:00:01\r\u001b[K     |▍                               | 40kB 14.3MB/s eta 0:00:01\r\u001b[K     |▌                               | 51kB 8.5MB/s eta 0:00:01\r\u001b[K     |▋                               | 61kB 9.2MB/s eta 0:00:01\r\u001b[K     |▊                               | 71kB 9.3MB/s eta 0:00:01\r\u001b[K     |▉                               | 81kB 10.4MB/s eta 0:00:01\r\u001b[K     |▉                               | 92kB 9.7MB/s eta 0:00:01\r\u001b[K     |█                               | 102kB 8.1MB/s eta 0:00:01\r\u001b[K     |█                               | 112kB 8.1MB/s eta 0:00:01\r\u001b[K     |█▏                              | 122kB 8.1MB/s eta 0:00:01\r\u001b[K     |█▎                              | 133kB 8.1MB/s eta 0:00:01\r\u001b[K     |█▍                              | 143kB 8.1MB/s eta 0:00:01\r\u001b[K     |█▌                              | 153kB 8.1MB/s eta 0:00:01\r\u001b[K     |█▋                              | 163kB 8.1MB/s eta 0:00:01\r\u001b[K     |█▋                              | 174kB 8.1MB/s eta 0:00:01\r\u001b[K     |█▊                              | 184kB 8.1MB/s eta 0:00:01\r\u001b[K     |█▉                              | 194kB 8.1MB/s eta 0:00:01\r\u001b[K     |██                              | 204kB 8.1MB/s eta 0:00:01\r\u001b[K     |██                              | 215kB 8.1MB/s eta 0:00:01\r\u001b[K     |██▏                             | 225kB 8.1MB/s eta 0:00:01\r\u001b[K     |██▎                             | 235kB 8.1MB/s eta 0:00:01\r\u001b[K     |██▍                             | 245kB 8.1MB/s eta 0:00:01\r\u001b[K     |██▍                             | 256kB 8.1MB/s eta 0:00:01\r\u001b[K     |██▌                             | 266kB 8.1MB/s eta 0:00:01\r\u001b[K     |██▋                             | 276kB 8.1MB/s eta 0:00:01\r\u001b[K     |██▊                             | 286kB 8.1MB/s eta 0:00:01\r\u001b[K     |██▉                             | 296kB 8.1MB/s eta 0:00:01\r\u001b[K     |███                             | 307kB 8.1MB/s eta 0:00:01\r\u001b[K     |███                             | 317kB 8.1MB/s eta 0:00:01\r\u001b[K     |███▏                            | 327kB 8.1MB/s eta 0:00:01\r\u001b[K     |███▏                            | 337kB 8.1MB/s eta 0:00:01\r\u001b[K     |███▎                            | 348kB 8.1MB/s eta 0:00:01\r\u001b[K     |███▍                            | 358kB 8.1MB/s eta 0:00:01\r\u001b[K     |███▌                            | 368kB 8.1MB/s eta 0:00:01\r\u001b[K     |███▋                            | 378kB 8.1MB/s eta 0:00:01\r\u001b[K     |███▊                            | 389kB 8.1MB/s eta 0:00:01\r\u001b[K     |███▉                            | 399kB 8.1MB/s eta 0:00:01\r\u001b[K     |████                            | 409kB 8.1MB/s eta 0:00:01\r\u001b[K     |████                            | 419kB 8.1MB/s eta 0:00:01\r\u001b[K     |████                            | 430kB 8.1MB/s eta 0:00:01\r\u001b[K     |████▏                           | 440kB 8.1MB/s eta 0:00:01\r\u001b[K     |████▎                           | 450kB 8.1MB/s eta 0:00:01\r\u001b[K     |████▍                           | 460kB 8.1MB/s eta 0:00:01\r\u001b[K     |████▌                           | 471kB 8.1MB/s eta 0:00:01\r\u001b[K     |████▋                           | 481kB 8.1MB/s eta 0:00:01\r\u001b[K     |████▊                           | 491kB 8.1MB/s eta 0:00:01\r\u001b[K     |████▊                           | 501kB 8.1MB/s eta 0:00:01\r\u001b[K     |████▉                           | 512kB 8.1MB/s eta 0:00:01\r\u001b[K     |█████                           | 522kB 8.1MB/s eta 0:00:01\r\u001b[K     |█████                           | 532kB 8.1MB/s eta 0:00:01\r\u001b[K     |█████▏                          | 542kB 8.1MB/s eta 0:00:01\r\u001b[K     |█████▎                          | 552kB 8.1MB/s eta 0:00:01\r\u001b[K     |█████▍                          | 563kB 8.1MB/s eta 0:00:01\r\u001b[K     |█████▌                          | 573kB 8.1MB/s eta 0:00:01\r\u001b[K     |█████▌                          | 583kB 8.1MB/s eta 0:00:01\r\u001b[K     |█████▋                          | 593kB 8.1MB/s eta 0:00:01\r\u001b[K     |█████▊                          | 604kB 8.1MB/s eta 0:00:01\r\u001b[K     |█████▉                          | 614kB 8.1MB/s eta 0:00:01\r\u001b[K     |██████                          | 624kB 8.1MB/s eta 0:00:01\r\u001b[K     |██████                          | 634kB 8.1MB/s eta 0:00:01\r\u001b[K     |██████▏                         | 645kB 8.1MB/s eta 0:00:01\r\u001b[K     |██████▎                         | 655kB 8.1MB/s eta 0:00:01\r\u001b[K     |██████▎                         | 665kB 8.1MB/s eta 0:00:01\r\u001b[K     |██████▍                         | 675kB 8.1MB/s eta 0:00:01\r\u001b[K     |██████▌                         | 686kB 8.1MB/s eta 0:00:01\r\u001b[K     |██████▋                         | 696kB 8.1MB/s eta 0:00:01\r\u001b[K     |██████▊                         | 706kB 8.1MB/s eta 0:00:01\r\u001b[K     |██████▉                         | 716kB 8.1MB/s eta 0:00:01\r\u001b[K     |███████                         | 727kB 8.1MB/s eta 0:00:01\r\u001b[K     |███████                         | 737kB 8.1MB/s eta 0:00:01\r\u001b[K     |███████                         | 747kB 8.1MB/s eta 0:00:01\r\u001b[K     |███████▏                        | 757kB 8.1MB/s eta 0:00:01\r\u001b[K     |███████▎                        | 768kB 8.1MB/s eta 0:00:01\r\u001b[K     |███████▍                        | 778kB 8.1MB/s eta 0:00:01\r\u001b[K     |███████▌                        | 788kB 8.1MB/s eta 0:00:01\r\u001b[K     |███████▋                        | 798kB 8.1MB/s eta 0:00:01\r\u001b[K     |███████▊                        | 808kB 8.1MB/s eta 0:00:01\r\u001b[K     |███████▉                        | 819kB 8.1MB/s eta 0:00:01\r\u001b[K     |███████▉                        | 829kB 8.1MB/s eta 0:00:01\r\u001b[K     |████████                        | 839kB 8.1MB/s eta 0:00:01\r\u001b[K     |████████                        | 849kB 8.1MB/s eta 0:00:01\r\u001b[K     |████████▏                       | 860kB 8.1MB/s eta 0:00:01\r\u001b[K     |████████▎                       | 870kB 8.1MB/s eta 0:00:01\r\u001b[K     |████████▍                       | 880kB 8.1MB/s eta 0:00:01\r\u001b[K     |████████▌                       | 890kB 8.1MB/s eta 0:00:01\r\u001b[K     |████████▋                       | 901kB 8.1MB/s eta 0:00:01\r\u001b[K     |████████▋                       | 911kB 8.1MB/s eta 0:00:01\r\u001b[K     |████████▊                       | 921kB 8.1MB/s eta 0:00:01\r\u001b[K     |████████▉                       | 931kB 8.1MB/s eta 0:00:01\r\u001b[K     |█████████                       | 942kB 8.1MB/s eta 0:00:01\r\u001b[K     |█████████                       | 952kB 8.1MB/s eta 0:00:01\r\u001b[K     |█████████▏                      | 962kB 8.1MB/s eta 0:00:01\r\u001b[K     |█████████▎                      | 972kB 8.1MB/s eta 0:00:01\r\u001b[K     |█████████▍                      | 983kB 8.1MB/s eta 0:00:01\r\u001b[K     |█████████▌                      | 993kB 8.1MB/s eta 0:00:01\r\u001b[K     |█████████▌                      | 1.0MB 8.1MB/s eta 0:00:01\r\u001b[K     |█████████▋                      | 1.0MB 8.1MB/s eta 0:00:01\r\u001b[K     |█████████▊                      | 1.0MB 8.1MB/s eta 0:00:01\r\u001b[K     |█████████▉                      | 1.0MB 8.1MB/s eta 0:00:01\r\u001b[K     |██████████                      | 1.0MB 8.1MB/s eta 0:00:01\r\u001b[K     |██████████                      | 1.1MB 8.1MB/s eta 0:00:01\r\u001b[K     |██████████▏                     | 1.1MB 8.1MB/s eta 0:00:01\r\u001b[K     |██████████▎                     | 1.1MB 8.1MB/s eta 0:00:01\r\u001b[K     |██████████▎                     | 1.1MB 8.1MB/s eta 0:00:01\r\u001b[K     |██████████▍                     | 1.1MB 8.1MB/s eta 0:00:01\r\u001b[K     |██████████▌                     | 1.1MB 8.1MB/s eta 0:00:01\r\u001b[K     |██████████▋                     | 1.1MB 8.1MB/s eta 0:00:01\r\u001b[K     |██████████▊                     | 1.1MB 8.1MB/s eta 0:00:01\r\u001b[K     |██████████▉                     | 1.1MB 8.1MB/s eta 0:00:01\r\u001b[K     |███████████                     | 1.1MB 8.1MB/s eta 0:00:01\r\u001b[K     |███████████                     | 1.2MB 8.1MB/s eta 0:00:01\r\u001b[K     |███████████                     | 1.2MB 8.1MB/s eta 0:00:01\r\u001b[K     |███████████▏                    | 1.2MB 8.1MB/s eta 0:00:01\r\u001b[K     |███████████▎                    | 1.2MB 8.1MB/s eta 0:00:01\r\u001b[K     |███████████▍                    | 1.2MB 8.1MB/s eta 0:00:01\r\u001b[K     |███████████▌                    | 1.2MB 8.1MB/s eta 0:00:01\r\u001b[K     |███████████▋                    | 1.2MB 8.1MB/s eta 0:00:01\r\u001b[K     |███████████▊                    | 1.2MB 8.1MB/s eta 0:00:01\r\u001b[K     |███████████▉                    | 1.2MB 8.1MB/s eta 0:00:01\r\u001b[K     |███████████▉                    | 1.2MB 8.1MB/s eta 0:00:01\r\u001b[K     |████████████                    | 1.3MB 8.1MB/s eta 0:00:01\r\u001b[K     |████████████                    | 1.3MB 8.1MB/s eta 0:00:01\r\u001b[K     |████████████▏                   | 1.3MB 8.1MB/s eta 0:00:01\r\u001b[K     |████████████▎                   | 1.3MB 8.1MB/s eta 0:00:01\r\u001b[K     |████████████▍                   | 1.3MB 8.1MB/s eta 0:00:01\r\u001b[K     |████████████▌                   | 1.3MB 8.1MB/s eta 0:00:01\r\u001b[K     |████████████▋                   | 1.3MB 8.1MB/s eta 0:00:01\r\u001b[K     |████████████▋                   | 1.3MB 8.1MB/s eta 0:00:01\r\u001b[K     |████████████▊                   | 1.3MB 8.1MB/s eta 0:00:01\r\u001b[K     |████████████▉                   | 1.4MB 8.1MB/s eta 0:00:01\r\u001b[K     |█████████████                   | 1.4MB 8.1MB/s eta 0:00:01\r\u001b[K     |█████████████                   | 1.4MB 8.1MB/s eta 0:00:01\r\u001b[K     |█████████████▏                  | 1.4MB 8.1MB/s eta 0:00:01\r\u001b[K     |█████████████▎                  | 1.4MB 8.1MB/s eta 0:00:01\r\u001b[K     |█████████████▍                  | 1.4MB 8.1MB/s eta 0:00:01\r\u001b[K     |█████████████▍                  | 1.4MB 8.1MB/s eta 0:00:01\r\u001b[K     |█████████████▌                  | 1.4MB 8.1MB/s eta 0:00:01\r\u001b[K     |█████████████▋                  | 1.4MB 8.1MB/s eta 0:00:01\r\u001b[K     |█████████████▊                  | 1.4MB 8.1MB/s eta 0:00:01\r\u001b[K     |█████████████▉                  | 1.5MB 8.1MB/s eta 0:00:01\r\u001b[K     |██████████████                  | 1.5MB 8.1MB/s eta 0:00:01\r\u001b[K     |██████████████                  | 1.5MB 8.1MB/s eta 0:00:01\r\u001b[K     |██████████████▏                 | 1.5MB 8.1MB/s eta 0:00:01\r\u001b[K     |██████████████▏                 | 1.5MB 8.1MB/s eta 0:00:01\r\u001b[K     |██████████████▎                 | 1.5MB 8.1MB/s eta 0:00:01\r\u001b[K     |██████████████▍                 | 1.5MB 8.1MB/s eta 0:00:01\r\u001b[K     |██████████████▌                 | 1.5MB 8.1MB/s eta 0:00:01\r\u001b[K     |██████████████▋                 | 1.5MB 8.1MB/s eta 0:00:01\r\u001b[K     |██████████████▊                 | 1.5MB 8.1MB/s eta 0:00:01\r\u001b[K     |██████████████▉                 | 1.6MB 8.1MB/s eta 0:00:01\r\u001b[K     |███████████████                 | 1.6MB 8.1MB/s eta 0:00:01\r\u001b[K     |███████████████                 | 1.6MB 8.1MB/s eta 0:00:01\r\u001b[K     |███████████████                 | 1.6MB 8.1MB/s eta 0:00:01\r\u001b[K     |███████████████▏                | 1.6MB 8.1MB/s eta 0:00:01\r\u001b[K     |███████████████▎                | 1.6MB 8.1MB/s eta 0:00:01\r\u001b[K     |███████████████▍                | 1.6MB 8.1MB/s eta 0:00:01\r\u001b[K     |███████████████▌                | 1.6MB 8.1MB/s eta 0:00:01\r\u001b[K     |███████████████▋                | 1.6MB 8.1MB/s eta 0:00:01\r\u001b[K     |███████████████▊                | 1.6MB 8.1MB/s eta 0:00:01\r\u001b[K     |███████████████▊                | 1.7MB 8.1MB/s eta 0:00:01\r\u001b[K     |███████████████▉                | 1.7MB 8.1MB/s eta 0:00:01\r\u001b[K     |████████████████                | 1.7MB 8.1MB/s eta 0:00:01\r\u001b[K     |████████████████                | 1.7MB 8.1MB/s eta 0:00:01\r\u001b[K     |████████████████▏               | 1.7MB 8.1MB/s eta 0:00:01\r\u001b[K     |████████████████▎               | 1.7MB 8.1MB/s eta 0:00:01\r\u001b[K     |████████████████▍               | 1.7MB 8.1MB/s eta 0:00:01\r\u001b[K     |████████████████▌               | 1.7MB 8.1MB/s eta 0:00:01\r\u001b[K     |████████████████▌               | 1.7MB 8.1MB/s eta 0:00:01\r\u001b[K     |████████████████▋               | 1.8MB 8.1MB/s eta 0:00:01\r\u001b[K     |████████████████▊               | 1.8MB 8.1MB/s eta 0:00:01\r\u001b[K     |████████████████▉               | 1.8MB 8.1MB/s eta 0:00:01\r\u001b[K     |█████████████████               | 1.8MB 8.1MB/s eta 0:00:01\r\u001b[K     |█████████████████               | 1.8MB 8.1MB/s eta 0:00:01\r\u001b[K     |█████████████████▏              | 1.8MB 8.1MB/s eta 0:00:01\r\u001b[K     |█████████████████▎              | 1.8MB 8.1MB/s eta 0:00:01\r\u001b[K     |█████████████████▎              | 1.8MB 8.1MB/s eta 0:00:01\r\u001b[K     |█████████████████▍              | 1.8MB 8.1MB/s eta 0:00:01\r\u001b[K     |█████████████████▌              | 1.8MB 8.1MB/s eta 0:00:01\r\u001b[K     |█████████████████▋              | 1.9MB 8.1MB/s eta 0:00:01\r\u001b[K     |█████████████████▊              | 1.9MB 8.1MB/s eta 0:00:01\r\u001b[K     |█████████████████▉              | 1.9MB 8.1MB/s eta 0:00:01\r\u001b[K     |██████████████████              | 1.9MB 8.1MB/s eta 0:00:01\r\u001b[K     |██████████████████              | 1.9MB 8.1MB/s eta 0:00:01\r\u001b[K     |██████████████████              | 1.9MB 8.1MB/s eta 0:00:01\r\u001b[K     |██████████████████▏             | 1.9MB 8.1MB/s eta 0:00:01\r\u001b[K     |██████████████████▎             | 1.9MB 8.1MB/s eta 0:00:01\r\u001b[K     |██████████████████▍             | 1.9MB 8.1MB/s eta 0:00:01\r\u001b[K     |██████████████████▌             | 1.9MB 8.1MB/s eta 0:00:01\r\u001b[K     |██████████████████▋             | 2.0MB 8.1MB/s eta 0:00:01\r\u001b[K     |██████████████████▊             | 2.0MB 8.1MB/s eta 0:00:01\r\u001b[K     |██████████████████▉             | 2.0MB 8.1MB/s eta 0:00:01\r\u001b[K     |███████████████████             | 2.0MB 8.1MB/s eta 0:00:01\r\u001b[K     |███████████████████             | 2.0MB 8.1MB/s eta 0:00:01\r\u001b[K     |███████████████████             | 2.0MB 8.1MB/s eta 0:00:01\r\u001b[K     |███████████████████▏            | 2.0MB 8.1MB/s eta 0:00:01\r\u001b[K     |███████████████████▎            | 2.0MB 8.1MB/s eta 0:00:01\r\u001b[K     |███████████████████▍            | 2.0MB 8.1MB/s eta 0:00:01\r\u001b[K     |███████████████████▌            | 2.0MB 8.1MB/s eta 0:00:01\r\u001b[K     |███████████████████▋            | 2.1MB 8.1MB/s eta 0:00:01\r\u001b[K     |███████████████████▊            | 2.1MB 8.1MB/s eta 0:00:01\r\u001b[K     |███████████████████▊            | 2.1MB 8.1MB/s eta 0:00:01\r\u001b[K     |███████████████████▉            | 2.1MB 8.1MB/s eta 0:00:01\r\u001b[K     |████████████████████            | 2.1MB 8.1MB/s eta 0:00:01\r\u001b[K     |████████████████████            | 2.1MB 8.1MB/s eta 0:00:01\r\u001b[K     |████████████████████▏           | 2.1MB 8.1MB/s eta 0:00:01\r\u001b[K     |████████████████████▎           | 2.1MB 8.1MB/s eta 0:00:01\r\u001b[K     |████████████████████▍           | 2.1MB 8.1MB/s eta 0:00:01\r\u001b[K     |████████████████████▌           | 2.2MB 8.1MB/s eta 0:00:01\r\u001b[K     |████████████████████▌           | 2.2MB 8.1MB/s eta 0:00:01\r\u001b[K     |████████████████████▋           | 2.2MB 8.1MB/s eta 0:00:01\r\u001b[K     |████████████████████▊           | 2.2MB 8.1MB/s eta 0:00:01\r\u001b[K     |████████████████████▉           | 2.2MB 8.1MB/s eta 0:00:01\r\u001b[K     |█████████████████████           | 2.2MB 8.1MB/s eta 0:00:01\r\u001b[K     |█████████████████████           | 2.2MB 8.1MB/s eta 0:00:01\r\u001b[K     |█████████████████████▏          | 2.2MB 8.1MB/s eta 0:00:01\r\u001b[K     |█████████████████████▎          | 2.2MB 8.1MB/s eta 0:00:01\r\u001b[K     |█████████████████████▎          | 2.2MB 8.1MB/s eta 0:00:01\r\u001b[K     |█████████████████████▍          | 2.3MB 8.1MB/s eta 0:00:01\r\u001b[K     |█████████████████████▌          | 2.3MB 8.1MB/s eta 0:00:01\r\u001b[K     |█████████████████████▋          | 2.3MB 8.1MB/s eta 0:00:01\r\u001b[K     |█████████████████████▊          | 2.3MB 8.1MB/s eta 0:00:01\r\u001b[K     |█████████████████████▉          | 2.3MB 8.1MB/s eta 0:00:01\r\u001b[K     |██████████████████████          | 2.3MB 8.1MB/s eta 0:00:01\r\u001b[K     |██████████████████████          | 2.3MB 8.1MB/s eta 0:00:01\r\u001b[K     |██████████████████████          | 2.3MB 8.1MB/s eta 0:00:01\r\u001b[K     |██████████████████████▏         | 2.3MB 8.1MB/s eta 0:00:01\r\u001b[K     |██████████████████████▎         | 2.3MB 8.1MB/s eta 0:00:01\r\u001b[K     |██████████████████████▍         | 2.4MB 8.1MB/s eta 0:00:01\r\u001b[K     |██████████████████████▌         | 2.4MB 8.1MB/s eta 0:00:01\r\u001b[K     |██████████████████████▋         | 2.4MB 8.1MB/s eta 0:00:01\r\u001b[K     |██████████████████████▊         | 2.4MB 8.1MB/s eta 0:00:01\r\u001b[K     |██████████████████████▉         | 2.4MB 8.1MB/s eta 0:00:01\r\u001b[K     |██████████████████████▉         | 2.4MB 8.1MB/s eta 0:00:01\r\u001b[K     |███████████████████████         | 2.4MB 8.1MB/s eta 0:00:01\r\u001b[K     |███████████████████████         | 2.4MB 8.1MB/s eta 0:00:01\r\u001b[K     |███████████████████████▏        | 2.4MB 8.1MB/s eta 0:00:01\r\u001b[K     |███████████████████████▎        | 2.4MB 8.1MB/s eta 0:00:01\r\u001b[K     |███████████████████████▍        | 2.5MB 8.1MB/s eta 0:00:01\r\u001b[K     |███████████████████████▌        | 2.5MB 8.1MB/s eta 0:00:01\r\u001b[K     |███████████████████████▋        | 2.5MB 8.1MB/s eta 0:00:01\r\u001b[K     |███████████████████████▋        | 2.5MB 8.1MB/s eta 0:00:01\r\u001b[K     |███████████████████████▊        | 2.5MB 8.1MB/s eta 0:00:01\r\u001b[K     |███████████████████████▉        | 2.5MB 8.1MB/s eta 0:00:01\r\u001b[K     |████████████████████████        | 2.5MB 8.1MB/s eta 0:00:01\r\u001b[K     |████████████████████████        | 2.5MB 8.1MB/s eta 0:00:01\r\u001b[K     |████████████████████████▏       | 2.5MB 8.1MB/s eta 0:00:01\r\u001b[K     |████████████████████████▎       | 2.5MB 8.1MB/s eta 0:00:01\r\u001b[K     |████████████████████████▍       | 2.6MB 8.1MB/s eta 0:00:01\r\u001b[K     |████████████████████████▍       | 2.6MB 8.1MB/s eta 0:00:01\r\u001b[K     |████████████████████████▌       | 2.6MB 8.1MB/s eta 0:00:01\r\u001b[K     |████████████████████████▋       | 2.6MB 8.1MB/s eta 0:00:01\r\u001b[K     |████████████████████████▊       | 2.6MB 8.1MB/s eta 0:00:01\r\u001b[K     |████████████████████████▉       | 2.6MB 8.1MB/s eta 0:00:01\r\u001b[K     |█████████████████████████       | 2.6MB 8.1MB/s eta 0:00:01\r\u001b[K     |█████████████████████████       | 2.6MB 8.1MB/s eta 0:00:01\r\u001b[K     |█████████████████████████▏      | 2.6MB 8.1MB/s eta 0:00:01\r\u001b[K     |█████████████████████████▏      | 2.7MB 8.1MB/s eta 0:00:01\r\u001b[K     |█████████████████████████▎      | 2.7MB 8.1MB/s eta 0:00:01\r\u001b[K     |█████████████████████████▍      | 2.7MB 8.1MB/s eta 0:00:01\r\u001b[K     |█████████████████████████▌      | 2.7MB 8.1MB/s eta 0:00:01\r\u001b[K     |█████████████████████████▋      | 2.7MB 8.1MB/s eta 0:00:01\r\u001b[K     |█████████████████████████▊      | 2.7MB 8.1MB/s eta 0:00:01\r\u001b[K     |█████████████████████████▉      | 2.7MB 8.1MB/s eta 0:00:01\r\u001b[K     |██████████████████████████      | 2.7MB 8.1MB/s eta 0:00:01\r\u001b[K     |██████████████████████████      | 2.7MB 8.1MB/s eta 0:00:01\r\u001b[K     |██████████████████████████      | 2.7MB 8.1MB/s eta 0:00:01\r\u001b[K     |██████████████████████████▏     | 2.8MB 8.1MB/s eta 0:00:01\r\u001b[K     |██████████████████████████▎     | 2.8MB 8.1MB/s eta 0:00:01\r\u001b[K     |██████████████████████████▍     | 2.8MB 8.1MB/s eta 0:00:01\r\u001b[K     |██████████████████████████▌     | 2.8MB 8.1MB/s eta 0:00:01\r\u001b[K     |██████████████████████████▋     | 2.8MB 8.1MB/s eta 0:00:01\r\u001b[K     |██████████████████████████▊     | 2.8MB 8.1MB/s eta 0:00:01\r\u001b[K     |██████████████████████████▊     | 2.8MB 8.1MB/s eta 0:00:01\r\u001b[K     |██████████████████████████▉     | 2.8MB 8.1MB/s eta 0:00:01\r\u001b[K     |███████████████████████████     | 2.8MB 8.1MB/s eta 0:00:01\r\u001b[K     |███████████████████████████     | 2.8MB 8.1MB/s eta 0:00:01\r\u001b[K     |███████████████████████████▏    | 2.9MB 8.1MB/s eta 0:00:01\r\u001b[K     |███████████████████████████▎    | 2.9MB 8.1MB/s eta 0:00:01\r\u001b[K     |███████████████████████████▍    | 2.9MB 8.1MB/s eta 0:00:01\r\u001b[K     |███████████████████████████▌    | 2.9MB 8.1MB/s eta 0:00:01\r\u001b[K     |███████████████████████████▌    | 2.9MB 8.1MB/s eta 0:00:01\r\u001b[K     |███████████████████████████▋    | 2.9MB 8.1MB/s eta 0:00:01\r\u001b[K     |███████████████████████████▊    | 2.9MB 8.1MB/s eta 0:00:01\r\u001b[K     |███████████████████████████▉    | 2.9MB 8.1MB/s eta 0:00:01\r\u001b[K     |████████████████████████████    | 2.9MB 8.1MB/s eta 0:00:01\r\u001b[K     |████████████████████████████    | 2.9MB 8.1MB/s eta 0:00:01\r\u001b[K     |████████████████████████████▏   | 3.0MB 8.1MB/s eta 0:00:01\r\u001b[K     |████████████████████████████▎   | 3.0MB 8.1MB/s eta 0:00:01\r\u001b[K     |████████████████████████████▍   | 3.0MB 8.1MB/s eta 0:00:01\r\u001b[K     |████████████████████████████▍   | 3.0MB 8.1MB/s eta 0:00:01\r\u001b[K     |████████████████████████████▌   | 3.0MB 8.1MB/s eta 0:00:01\r\u001b[K     |████████████████████████████▋   | 3.0MB 8.1MB/s eta 0:00:01\r\u001b[K     |████████████████████████████▊   | 3.0MB 8.1MB/s eta 0:00:01\r\u001b[K     |████████████████████████████▉   | 3.0MB 8.1MB/s eta 0:00:01\r\u001b[K     |█████████████████████████████   | 3.0MB 8.1MB/s eta 0:00:01\r\u001b[K     |█████████████████████████████   | 3.1MB 8.1MB/s eta 0:00:01\r\u001b[K     |█████████████████████████████▏  | 3.1MB 8.1MB/s eta 0:00:01\r\u001b[K     |█████████████████████████████▏  | 3.1MB 8.1MB/s eta 0:00:01\r\u001b[K     |█████████████████████████████▎  | 3.1MB 8.1MB/s eta 0:00:01\r\u001b[K     |█████████████████████████████▍  | 3.1MB 8.1MB/s eta 0:00:01\r\u001b[K     |█████████████████████████████▌  | 3.1MB 8.1MB/s eta 0:00:01\r\u001b[K     |█████████████████████████████▋  | 3.1MB 8.1MB/s eta 0:00:01\r\u001b[K     |█████████████████████████████▊  | 3.1MB 8.1MB/s eta 0:00:01\r\u001b[K     |█████████████████████████████▉  | 3.1MB 8.1MB/s eta 0:00:01\r\u001b[K     |██████████████████████████████  | 3.1MB 8.1MB/s eta 0:00:01\r\u001b[K     |██████████████████████████████  | 3.2MB 8.1MB/s eta 0:00:01\r\u001b[K     |██████████████████████████████  | 3.2MB 8.1MB/s eta 0:00:01\r\u001b[K     |██████████████████████████████▏ | 3.2MB 8.1MB/s eta 0:00:01\r\u001b[K     |██████████████████████████████▎ | 3.2MB 8.1MB/s eta 0:00:01\r\u001b[K     |██████████████████████████████▍ | 3.2MB 8.1MB/s eta 0:00:01\r\u001b[K     |██████████████████████████████▌ | 3.2MB 8.1MB/s eta 0:00:01\r\u001b[K     |██████████████████████████████▋ | 3.2MB 8.1MB/s eta 0:00:01\r\u001b[K     |██████████████████████████████▊ | 3.2MB 8.1MB/s eta 0:00:01\r\u001b[K     |██████████████████████████████▊ | 3.2MB 8.1MB/s eta 0:00:01\r\u001b[K     |██████████████████████████████▉ | 3.2MB 8.1MB/s eta 0:00:01\r\u001b[K     |███████████████████████████████ | 3.3MB 8.1MB/s eta 0:00:01\r\u001b[K     |███████████████████████████████ | 3.3MB 8.1MB/s eta 0:00:01\r\u001b[K     |███████████████████████████████▏| 3.3MB 8.1MB/s eta 0:00:01\r\u001b[K     |███████████████████████████████▎| 3.3MB 8.1MB/s eta 0:00:01\r\u001b[K     |███████████████████████████████▍| 3.3MB 8.1MB/s eta 0:00:01\r\u001b[K     |███████████████████████████████▌| 3.3MB 8.1MB/s eta 0:00:01\r\u001b[K     |███████████████████████████████▌| 3.3MB 8.1MB/s eta 0:00:01\r\u001b[K     |███████████████████████████████▋| 3.3MB 8.1MB/s eta 0:00:01\r\u001b[K     |███████████████████████████████▊| 3.3MB 8.1MB/s eta 0:00:01\r\u001b[K     |███████████████████████████████▉| 3.3MB 8.1MB/s eta 0:00:01\r\u001b[K     |████████████████████████████████| 3.4MB 8.1MB/s eta 0:00:01\r\u001b[K     |████████████████████████████████| 3.4MB 8.1MB/s \n",
            "\u001b[?25h"
          ],
          "name": "stdout"
        }
      ]
    },
    {
      "cell_type": "code",
      "metadata": {
        "colab": {
          "base_uri": "https://localhost:8080/"
        },
        "id": "kGyCqRXl_znV",
        "outputId": "c623c4de-9044-4b54-a7aa-e05a34d0554d"
      },
      "source": [
        "pip install -q -U tf-models-official"
      ],
      "execution_count": 2,
      "outputs": [
        {
          "output_type": "stream",
          "text": [
            "\u001b[K     |████████████████████████████████| 1.1MB 8.7MB/s \n",
            "\u001b[K     |████████████████████████████████| 358kB 33.2MB/s \n",
            "\u001b[K     |████████████████████████████████| 102kB 10.0MB/s \n",
            "\u001b[K     |████████████████████████████████| 37.6MB 74kB/s \n",
            "\u001b[K     |████████████████████████████████| 1.2MB 51.9MB/s \n",
            "\u001b[K     |████████████████████████████████| 174kB 54.4MB/s \n",
            "\u001b[K     |████████████████████████████████| 51kB 8.3MB/s \n",
            "\u001b[K     |████████████████████████████████| 706kB 39.1MB/s \n",
            "\u001b[K     |████████████████████████████████| 645kB 54.6MB/s \n",
            "\u001b[?25h  Building wheel for py-cpuinfo (setup.py) ... \u001b[?25l\u001b[?25hdone\n",
            "  Building wheel for seqeval (setup.py) ... \u001b[?25l\u001b[?25hdone\n"
          ],
          "name": "stdout"
        }
      ]
    },
    {
      "cell_type": "code",
      "metadata": {
        "colab": {
          "base_uri": "https://localhost:8080/"
        },
        "id": "o1KlGeZ6_1f8",
        "outputId": "202ee489-6e89-4318-8120-dcf4ee800a8d"
      },
      "source": [
        "pip install -q -U keras-tuner"
      ],
      "execution_count": 3,
      "outputs": [
        {
          "output_type": "stream",
          "text": [
            "\u001b[?25l\r\u001b[K     |█████▏                          | 10kB 25.4MB/s eta 0:00:01\r\u001b[K     |██████████▍                     | 20kB 19.3MB/s eta 0:00:01\r\u001b[K     |███████████████▋                | 30kB 15.2MB/s eta 0:00:01\r\u001b[K     |████████████████████▉           | 40kB 12.0MB/s eta 0:00:01\r\u001b[K     |██████████████████████████      | 51kB 8.8MB/s eta 0:00:01\r\u001b[K     |███████████████████████████████▎| 61kB 9.0MB/s eta 0:00:01\r\u001b[K     |████████████████████████████████| 71kB 5.5MB/s \n",
            "\u001b[?25h  Building wheel for keras-tuner (setup.py) ... \u001b[?25l\u001b[?25hdone\n",
            "  Building wheel for terminaltables (setup.py) ... \u001b[?25l\u001b[?25hdone\n"
          ],
          "name": "stdout"
        }
      ]
    },
    {
      "cell_type": "code",
      "metadata": {
        "colab": {
          "base_uri": "https://localhost:8080/"
        },
        "id": "8VufuyV__3MN",
        "outputId": "cc3e2142-3788-45fc-ff5e-17833892165f"
      },
      "source": [
        "!git clone -l -s https://github.com/mateopolancecofficial/NLP.git"
      ],
      "execution_count": 4,
      "outputs": [
        {
          "output_type": "stream",
          "text": [
            "Cloning into 'NLP'...\n",
            "warning: --local is ignored\n",
            "remote: Enumerating objects: 64, done.\u001b[K\n",
            "remote: Counting objects: 100% (64/64), done.\u001b[K\n",
            "remote: Compressing objects: 100% (56/56), done.\u001b[K\n",
            "remote: Total 64 (delta 29), reused 25 (delta 6), pack-reused 0\u001b[K\n",
            "Unpacking objects: 100% (64/64), done.\n"
          ],
          "name": "stdout"
        }
      ]
    },
    {
      "cell_type": "code",
      "metadata": {
        "id": "Es4NC3Qd_45U"
      },
      "source": [
        "import os\n",
        "import pandas as pd\n",
        "import numpy as np\n",
        "import tensorflow as tf\n",
        "import tensorflow_hub as hub\n",
        "import tensorflow_datasets as tfds\n",
        "import tensorflow_text as text  # A dependency of the preprocessing model\n",
        "import tensorflow_addons as tfa\n",
        "from tensorflow import keras\n",
        "from tensorflow.keras.layers import (\n",
        "    Dense,\n",
        "    Dropout,\n",
        ")\n",
        "import kerastuner as kt\n",
        "from official.nlp import optimization\n",
        "import matplotlib.pyplot as plt\n",
        "from sklearn.model_selection import train_test_split\n",
        "\n",
        "tf.get_logger().setLevel('ERROR')\n",
        "os.environ[\"TFHUB_MODEL_LOAD_FORMAT\"]=\"UNCOMPRESSED\""
      ],
      "execution_count": 35,
      "outputs": []
    },
    {
      "cell_type": "code",
      "metadata": {
        "colab": {
          "base_uri": "https://localhost:8080/"
        },
        "id": "ANV-9gvm_9Ik",
        "outputId": "c6f642d5-94a3-435d-ac76-caaad25aa9b2"
      },
      "source": [
        "import os\n",
        "\n",
        "if tf.test.is_gpu_available():\n",
        "  strategy = tf.distribute.MirroredStrategy()\n",
        "  print('Using GPU')"
      ],
      "execution_count": 13,
      "outputs": [
        {
          "output_type": "stream",
          "text": [
            "Using GPU\n"
          ],
          "name": "stdout"
        }
      ]
    },
    {
      "cell_type": "code",
      "metadata": {
        "id": "romsx_M7AD1k"
      },
      "source": [
        "# set parameters\n",
        "AUTOTUNE = tf.data.AUTOTUNE\n",
        "path_v1 = \"/content/NLP/WineReviews/data/winemag-data-130k-v2.csv\" \n",
        "path_v2 = \"/content/NLP/WineReviews/data/winemag-data_first150k.csv\"\n",
        "checkpoint_path = \"/content/NLP/WineReviews/checkpoints/cp-{epoch:04d}.ckpt\"\n",
        "batch_size = 1024\n",
        "seed = 42\n",
        "col_idx = 0\n",
        "train_size, test_size, val_size = 0.9, 0.1, 0.1\n",
        "columns = ['description', 'points']"
      ],
      "execution_count": 30,
      "outputs": []
    },
    {
      "cell_type": "code",
      "metadata": {
        "id": "7oaO8T0-AUwd"
      },
      "source": [
        "def load_data(path_v1: str, path_v2: str, columns: list, col_idx: int):\n",
        "  \"\"\"\n",
        "  Load and concatenate two datasets with removing duplicates.\n",
        "  param path_v1: import path of first dataset\n",
        "  param path_v2: import path of second dataset\n",
        "  param columns: list of columns to preserve in dataframe\n",
        "  param col_idx: index of column given in input columns list \n",
        "                 on which look for duplicates in dataframe\n",
        "  return:        pandas dataframe\n",
        "  \"\"\"\n",
        "  \n",
        "  df_v1 = pd.read_csv(path_v1, index_col=0)\n",
        "  df_v1 = df_v1[columns]\n",
        "  # remove numbers form column description from first dataframe\n",
        "  df_v1.description = df_v1.description.str.replace('\\d+', '')\n",
        "\n",
        "  df_v2 = pd.read_csv(path_v2, index_col=0)\n",
        "  df_v2 = df_v2[columns]\n",
        "  # remove numbers form column description from second dataframe\n",
        "  df_v2.description = df_v2.description.str.replace('\\d+', '')\n",
        "\n",
        "  df = pd.concat([df_v1, df_v2])\n",
        "\n",
        "  # dropping duplicte values\n",
        "  df.drop_duplicates(subset = columns[col_idx],\n",
        "                       keep = 'first', inplace = True)\n",
        "  \n",
        "  return df"
      ],
      "execution_count": 15,
      "outputs": []
    },
    {
      "cell_type": "code",
      "metadata": {
        "id": "kcP1H2i-AWsz"
      },
      "source": [
        "def split_data(df: pd.DataFrame, train_size: float, test_size: float, val_size: float):\n",
        "  \"\"\"\n",
        "  Split dataset on train, test and validation subsets.\n",
        "  param df:          input dataframe\n",
        "  param train_size:  fraction of train size\n",
        "  param test_size:   fraction of test size\n",
        "  param val_size:    fraction of validation size\n",
        "  return:            dictionary, keys=names of dataframes, columns=dataframes\n",
        "  \"\"\"\n",
        "  \n",
        "  # shuffle dataset\n",
        "  df = df.sample(frac = 1)\n",
        "  \n",
        "  # split on test and train set\n",
        "  text_train, text_test, y_train, y_test = train_test_split(df.description, df.points,\n",
        "                                           test_size=test_size, train_size=train_size)\n",
        "  \n",
        "  y_train, y_test = y_train.astype('float'), y_test.astype('float')\n",
        "  \n",
        "  # split train set on train and validation subsets\n",
        "  text_train, text_val, y_train, y_val = train_test_split(text_train, y_train,\n",
        "                                                  test_size=val_size, train_size=train_size)\n",
        "  \n",
        "  y_train, y_val = y_train.astype('float'), y_val.astype('float')\n",
        "  \n",
        "\n",
        "  dataset_dict = {\n",
        "      'text_train': text_train,\n",
        "      'y_train': y_train,\n",
        "      'text_val': text_val,\n",
        "      'y_val': y_val,\n",
        "      'text_test': text_test,\n",
        "      'y_test': y_test\n",
        "  }\n",
        "\n",
        "  return dataset_dict"
      ],
      "execution_count": 16,
      "outputs": []
    },
    {
      "cell_type": "code",
      "metadata": {
        "id": "08SxSFqFAYor"
      },
      "source": [
        "def create_input_datasets(df_data: dict):\n",
        "  \"\"\"\n",
        "  Create tensorflow datasets based on input dataframes for train, validation \n",
        "  and test subsets.\n",
        "  param df_data: dictionary, keys=names of dataframes, columns=dataframes\n",
        "  return:        dictionary, keys=names of datasets, columns=datasets\n",
        "  \"\"\"\n",
        "\n",
        "  # create train dataset for input in tensorflow model\n",
        "  train_dataset = tf.data.Dataset.from_tensor_slices((df_data['text_train'], \n",
        "                                                      df_data['y_train']))\n",
        "  train_dataset = train_dataset.batch(batch_size)\n",
        "  train_ds = train_dataset.cache().prefetch(buffer_size=AUTOTUNE)\n",
        "\n",
        "  # create validation dataset for input in tensorflow model\n",
        "  val_dataset = tf.data.Dataset.from_tensor_slices((df_data['text_val'], \n",
        "                                                    df_data['y_val']))\n",
        "  val_dataset = val_dataset.batch(batch_size)\n",
        "  val_ds = val_dataset.cache().prefetch(buffer_size=AUTOTUNE)\n",
        "\n",
        "  # create validation dataset for input in tensorflow model\n",
        "  test_dataset = tf.data.Dataset.from_tensor_slices((df_data['text_test'], \n",
        "                                                     df_data['y_test']))\n",
        "  test_dataset = test_dataset.batch(batch_size)\n",
        "  test_ds = test_dataset.cache().prefetch(buffer_size=AUTOTUNE)\n",
        "\n",
        "  datasets = {\n",
        "      'train_dataset': train_dataset,\n",
        "      'val_dataset': val_dataset,\n",
        "      'test_dataset': test_dataset\n",
        "  } \n",
        "\n",
        "  return datasets"
      ],
      "execution_count": 17,
      "outputs": []
    },
    {
      "cell_type": "code",
      "metadata": {
        "id": "KeSYjKA3Aabq"
      },
      "source": [
        "# define loss functions\n",
        "from tensorflow.keras import backend as K\n",
        "\n",
        "def rmse():\n",
        "  def root_mean_squared_error(y_true, y_pred):\n",
        "        return K.sqrt(K.mean(K.square(y_pred - y_true))) \n",
        "  return root_mean_squared_error\n",
        "\n",
        "def rmsle():\n",
        "  def root_mean_squared_log_error(y_true, y_pred):\n",
        "    return K.sqrt(K.mean(K.square(K.log(1+y_pred) - K.log(1+y_true))))\n",
        "  return root_mean_squared_log_error"
      ],
      "execution_count": 18,
      "outputs": []
    },
    {
      "cell_type": "code",
      "metadata": {
        "id": "r4zPCCXFAcID"
      },
      "source": [
        "# disable eager execution\n",
        "tf.config.run_functions_eagerly(False)\n",
        "\n",
        "def model_builder(hp):\n",
        "  # use pretrained embeddings for input layer\n",
        "  hub_model = \"https://tfhub.dev/google/nnlm-en-dim128-with-normalization/2\"\n",
        "  # 'trainable=True' - boolean controlling whether this layer is trainable\n",
        "  hub_layer = hub.KerasLayer(hub_model, input_shape=[], dtype=tf.string, \n",
        "                             trainable=True)\n",
        "  model = tf.keras.Sequential()\n",
        "  model.add(hub_layer)\n",
        "  hp_units_1 = hp.Int('units_1', min_value=64, max_value=128, step=16)\n",
        "  activation=hp.Choice(\n",
        "        'dense_activation',\n",
        "        values=['relu', 'tanh', 'sigmoid'],\n",
        "        default='relu'\n",
        "    )\n",
        "  model.add(Dense(units=hp_units_1, activation=activation))\n",
        "  model.add(\n",
        "            Dropout(rate=hp.Float(\n",
        "                'dropout_1',\n",
        "                min_value=0.1,\n",
        "                max_value=0.5,\n",
        "                default=0.25,\n",
        "                step=0.1,\n",
        "            ))\n",
        "        )\n",
        "  hp_units_2 = hp.Int('units_2', min_value=8, max_value=64, step=16)\n",
        "  model.add(Dense(units=hp_units_2, activation=activation))\n",
        "  model.add(\n",
        "            Dropout(rate=hp.Float(\n",
        "                'dropout_2',\n",
        "                min_value=0.1,\n",
        "                max_value=0.5,\n",
        "                default=0.25,\n",
        "                step=0.1,\n",
        "            ))\n",
        "        )\n",
        "  model.add(Dense(1))\n",
        "\n",
        "  hp_learning_rate = hp.Choice('learning_rate', values=[1e-2, 1e-3, 1e-4])\n",
        "  \n",
        "  model.compile(optimizer=keras.optimizers.Adam(learning_rate=hp_learning_rate),\n",
        "              loss=rmse(),\n",
        "              metrics=['mean_absolute_error'])\n",
        "\n",
        "  return model\n"
      ],
      "execution_count": 36,
      "outputs": []
    },
    {
      "cell_type": "code",
      "metadata": {
        "id": "kgstlXwRAeVz"
      },
      "source": [
        "# call data transformation functions\n",
        "df = load_data(path_v1, path_v2, columns, col_idx)\n",
        "df_data = split_data(df, train_size, test_size, val_size)\n",
        "datasets = create_input_datasets(df_data)"
      ],
      "execution_count": 20,
      "outputs": []
    },
    {
      "cell_type": "code",
      "metadata": {
        "id": "HijT1DhkAihz"
      },
      "source": [
        "tuner = kt.Hyperband(model_builder,\n",
        "                     objective='mean_absolute_error',\n",
        "                     max_epochs=10,\n",
        "                     directory='SequenceTextPretrained'\n",
        "                    )\n",
        "                    "
      ],
      "execution_count": 37,
      "outputs": []
    },
    {
      "cell_type": "code",
      "metadata": {
        "colab": {
          "base_uri": "https://localhost:8080/"
        },
        "id": "gux06kD6AkgT",
        "outputId": "fb4b8452-3af0-4712-f544-88a3ccd11ae4"
      },
      "source": [
        "stop_early = tf.keras.callbacks.EarlyStopping(monitor='val_loss', patience=5)\n",
        "\n",
        "tuner.search(df_data['text_train'], df_data['y_train'], \n",
        "             validation_data=(df_data['text_val'], df_data['y_val']), \n",
        "             epochs=50, callbacks=[stop_early])\n",
        "\n",
        "# Get the optimal hyperparameters\n",
        "best_hps=tuner.get_best_hyperparameters(num_trials=1)[0]\n",
        "best_hps.get('units')"
      ],
      "execution_count": null,
      "outputs": [
        {
          "output_type": "stream",
          "text": [
            "Trial 5 Complete [00h 10m 34s]\n",
            "mean_absolute_error: 12.956561088562012\n",
            "\n",
            "Best mean_absolute_error So Far: 5.738969326019287\n",
            "Total elapsed time: 00h 52m 45s\n",
            "\n",
            "Search: Running Trial #6\n",
            "\n",
            "Hyperparameter    |Value             |Best Value So Far \n",
            "units             |80                |96                \n",
            "units_1           |80                |112               \n",
            "dense_activation  |sigmoid           |tanh              \n",
            "dropout_1         |0.2               |0.3               \n",
            "units_2           |8                 |24                \n",
            "dropout_2         |0.4               |0.2               \n",
            "learning_rate     |0.01              |0.01              \n",
            "tuner/epochs      |2                 |2                 \n",
            "tuner/initial_e...|0                 |0                 \n",
            "tuner/bracket     |2                 |2                 \n",
            "tuner/round       |0                 |0                 \n",
            "\n",
            "Epoch 1/2\n",
            "4289/4289 [==============================] - 305s 71ms/step - loss: 47.1255 - mean_absolute_error: 44.5239 - val_loss: 6.2081 - val_mean_absolute_error: 5.4621\n",
            "Epoch 2/2\n",
            " 278/4289 [>.............................] - ETA: 4:43 - loss: 18.4942 - mean_absolute_error: 14.7847"
          ],
          "name": "stdout"
        }
      ]
    },
    {
      "cell_type": "code",
      "metadata": {
        "id": "6v1qG3-uJMJA"
      },
      "source": [
        "model = tuner.hypermodel.build(best_hps)"
      ],
      "execution_count": null,
      "outputs": []
    },
    {
      "cell_type": "code",
      "metadata": {
        "id": "yUAnA6yEAoFM"
      },
      "source": [
        "history = model.fit(x=train_ds,\n",
        "                    validation_data=val_ds,\n",
        "                    epochs=50,\n",
        "                    callbacks=[es_callback]\n",
        "                    )"
      ],
      "execution_count": null,
      "outputs": []
    }
  ]
}