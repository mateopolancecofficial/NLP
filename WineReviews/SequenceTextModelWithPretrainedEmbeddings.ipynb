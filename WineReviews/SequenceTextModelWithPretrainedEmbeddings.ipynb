{
  "nbformat": 4,
  "nbformat_minor": 0,
  "metadata": {
    "colab": {
      "name": "SequenceTextModelWithPretrainedEmbeddings.ipynb",
      "provenance": [],
      "include_colab_link": true
    },
    "kernelspec": {
      "name": "python3",
      "display_name": "Python 3"
    },
    "language_info": {
      "name": "python"
    },
    "accelerator": "GPU"
  },
  "cells": [
    {
      "cell_type": "markdown",
      "metadata": {
        "id": "view-in-github",
        "colab_type": "text"
      },
      "source": [
        "<a href=\"https://colab.research.google.com/github/mateopolancecofficial/NLP/blob/main/WineReviews/SequenceTextModelWithPretrainedEmbeddings.ipynb\" target=\"_parent\"><img src=\"https://colab.research.google.com/assets/colab-badge.svg\" alt=\"Open In Colab\"/></a>"
      ]
    },
    {
      "cell_type": "code",
      "metadata": {
        "colab": {
          "base_uri": "https://localhost:8080/"
        },
        "id": "2qqLyv17_rWZ",
        "outputId": "0c750ccf-497f-406d-dc2e-6a95b0eca47d"
      },
      "source": [
        "pip install -q -U tensorflow-text"
      ],
      "execution_count": 1,
      "outputs": [
        {
          "output_type": "stream",
          "text": [
            "\u001b[?25l\r\u001b[K     |                                | 10kB 24.9MB/s eta 0:00:01\r\u001b[K     |▏                               | 20kB 32.2MB/s eta 0:00:01\r\u001b[K     |▎                               | 30kB 22.4MB/s eta 0:00:01\r\u001b[K     |▍                               | 40kB 26.1MB/s eta 0:00:01\r\u001b[K     |▌                               | 51kB 24.4MB/s eta 0:00:01\r\u001b[K     |▋                               | 61kB 20.3MB/s eta 0:00:01\r\u001b[K     |▊                               | 71kB 19.6MB/s eta 0:00:01\r\u001b[K     |▉                               | 81kB 21.1MB/s eta 0:00:01\r\u001b[K     |▉                               | 92kB 22.5MB/s eta 0:00:01\r\u001b[K     |█                               | 102kB 23.7MB/s eta 0:00:01\r\u001b[K     |█                               | 112kB 23.7MB/s eta 0:00:01\r\u001b[K     |█▏                              | 122kB 23.7MB/s eta 0:00:01\r\u001b[K     |█▎                              | 133kB 23.7MB/s eta 0:00:01\r\u001b[K     |█▍                              | 143kB 23.7MB/s eta 0:00:01\r\u001b[K     |█▌                              | 153kB 23.7MB/s eta 0:00:01\r\u001b[K     |█▋                              | 163kB 23.7MB/s eta 0:00:01\r\u001b[K     |█▋                              | 174kB 23.7MB/s eta 0:00:01\r\u001b[K     |█▊                              | 184kB 23.7MB/s eta 0:00:01\r\u001b[K     |█▉                              | 194kB 23.7MB/s eta 0:00:01\r\u001b[K     |██                              | 204kB 23.7MB/s eta 0:00:01\r\u001b[K     |██                              | 215kB 23.7MB/s eta 0:00:01\r\u001b[K     |██▏                             | 225kB 23.7MB/s eta 0:00:01\r\u001b[K     |██▎                             | 235kB 23.7MB/s eta 0:00:01\r\u001b[K     |██▍                             | 245kB 23.7MB/s eta 0:00:01\r\u001b[K     |██▍                             | 256kB 23.7MB/s eta 0:00:01\r\u001b[K     |██▌                             | 266kB 23.7MB/s eta 0:00:01\r\u001b[K     |██▋                             | 276kB 23.7MB/s eta 0:00:01\r\u001b[K     |██▊                             | 286kB 23.7MB/s eta 0:00:01\r\u001b[K     |██▉                             | 296kB 23.7MB/s eta 0:00:01\r\u001b[K     |███                             | 307kB 23.7MB/s eta 0:00:01\r\u001b[K     |███                             | 317kB 23.7MB/s eta 0:00:01\r\u001b[K     |███▏                            | 327kB 23.7MB/s eta 0:00:01\r\u001b[K     |███▏                            | 337kB 23.7MB/s eta 0:00:01\r\u001b[K     |███▎                            | 348kB 23.7MB/s eta 0:00:01\r\u001b[K     |███▍                            | 358kB 23.7MB/s eta 0:00:01\r\u001b[K     |███▌                            | 368kB 23.7MB/s eta 0:00:01\r\u001b[K     |███▋                            | 378kB 23.7MB/s eta 0:00:01\r\u001b[K     |███▊                            | 389kB 23.7MB/s eta 0:00:01\r\u001b[K     |███▉                            | 399kB 23.7MB/s eta 0:00:01\r\u001b[K     |████                            | 409kB 23.7MB/s eta 0:00:01\r\u001b[K     |████                            | 419kB 23.7MB/s eta 0:00:01\r\u001b[K     |████                            | 430kB 23.7MB/s eta 0:00:01\r\u001b[K     |████▏                           | 440kB 23.7MB/s eta 0:00:01\r\u001b[K     |████▎                           | 450kB 23.7MB/s eta 0:00:01\r\u001b[K     |████▍                           | 460kB 23.7MB/s eta 0:00:01\r\u001b[K     |████▌                           | 471kB 23.7MB/s eta 0:00:01\r\u001b[K     |████▋                           | 481kB 23.7MB/s eta 0:00:01\r\u001b[K     |████▊                           | 491kB 23.7MB/s eta 0:00:01\r\u001b[K     |████▊                           | 501kB 23.7MB/s eta 0:00:01\r\u001b[K     |████▉                           | 512kB 23.7MB/s eta 0:00:01\r\u001b[K     |█████                           | 522kB 23.7MB/s eta 0:00:01\r\u001b[K     |█████                           | 532kB 23.7MB/s eta 0:00:01\r\u001b[K     |█████▏                          | 542kB 23.7MB/s eta 0:00:01\r\u001b[K     |█████▎                          | 552kB 23.7MB/s eta 0:00:01\r\u001b[K     |█████▍                          | 563kB 23.7MB/s eta 0:00:01\r\u001b[K     |█████▌                          | 573kB 23.7MB/s eta 0:00:01\r\u001b[K     |█████▌                          | 583kB 23.7MB/s eta 0:00:01\r\u001b[K     |█████▋                          | 593kB 23.7MB/s eta 0:00:01\r\u001b[K     |█████▊                          | 604kB 23.7MB/s eta 0:00:01\r\u001b[K     |█████▉                          | 614kB 23.7MB/s eta 0:00:01\r\u001b[K     |██████                          | 624kB 23.7MB/s eta 0:00:01\r\u001b[K     |██████                          | 634kB 23.7MB/s eta 0:00:01\r\u001b[K     |██████▏                         | 645kB 23.7MB/s eta 0:00:01\r\u001b[K     |██████▎                         | 655kB 23.7MB/s eta 0:00:01\r\u001b[K     |██████▎                         | 665kB 23.7MB/s eta 0:00:01\r\u001b[K     |██████▍                         | 675kB 23.7MB/s eta 0:00:01\r\u001b[K     |██████▌                         | 686kB 23.7MB/s eta 0:00:01\r\u001b[K     |██████▋                         | 696kB 23.7MB/s eta 0:00:01\r\u001b[K     |██████▊                         | 706kB 23.7MB/s eta 0:00:01\r\u001b[K     |██████▉                         | 716kB 23.7MB/s eta 0:00:01\r\u001b[K     |███████                         | 727kB 23.7MB/s eta 0:00:01\r\u001b[K     |███████                         | 737kB 23.7MB/s eta 0:00:01\r\u001b[K     |███████                         | 747kB 23.7MB/s eta 0:00:01\r\u001b[K     |███████▏                        | 757kB 23.7MB/s eta 0:00:01\r\u001b[K     |███████▎                        | 768kB 23.7MB/s eta 0:00:01\r\u001b[K     |███████▍                        | 778kB 23.7MB/s eta 0:00:01\r\u001b[K     |███████▌                        | 788kB 23.7MB/s eta 0:00:01\r\u001b[K     |███████▋                        | 798kB 23.7MB/s eta 0:00:01\r\u001b[K     |███████▊                        | 808kB 23.7MB/s eta 0:00:01\r\u001b[K     |███████▉                        | 819kB 23.7MB/s eta 0:00:01\r\u001b[K     |███████▉                        | 829kB 23.7MB/s eta 0:00:01\r\u001b[K     |████████                        | 839kB 23.7MB/s eta 0:00:01\r\u001b[K     |████████                        | 849kB 23.7MB/s eta 0:00:01\r\u001b[K     |████████▏                       | 860kB 23.7MB/s eta 0:00:01\r\u001b[K     |████████▎                       | 870kB 23.7MB/s eta 0:00:01\r\u001b[K     |████████▍                       | 880kB 23.7MB/s eta 0:00:01\r\u001b[K     |████████▌                       | 890kB 23.7MB/s eta 0:00:01\r\u001b[K     |████████▋                       | 901kB 23.7MB/s eta 0:00:01\r\u001b[K     |████████▋                       | 911kB 23.7MB/s eta 0:00:01\r\u001b[K     |████████▊                       | 921kB 23.7MB/s eta 0:00:01\r\u001b[K     |████████▉                       | 931kB 23.7MB/s eta 0:00:01\r\u001b[K     |█████████                       | 942kB 23.7MB/s eta 0:00:01\r\u001b[K     |█████████                       | 952kB 23.7MB/s eta 0:00:01\r\u001b[K     |█████████▏                      | 962kB 23.7MB/s eta 0:00:01\r\u001b[K     |█████████▎                      | 972kB 23.7MB/s eta 0:00:01\r\u001b[K     |█████████▍                      | 983kB 23.7MB/s eta 0:00:01\r\u001b[K     |█████████▌                      | 993kB 23.7MB/s eta 0:00:01\r\u001b[K     |█████████▌                      | 1.0MB 23.7MB/s eta 0:00:01\r\u001b[K     |█████████▋                      | 1.0MB 23.7MB/s eta 0:00:01\r\u001b[K     |█████████▊                      | 1.0MB 23.7MB/s eta 0:00:01\r\u001b[K     |█████████▉                      | 1.0MB 23.7MB/s eta 0:00:01\r\u001b[K     |██████████                      | 1.0MB 23.7MB/s eta 0:00:01\r\u001b[K     |██████████                      | 1.1MB 23.7MB/s eta 0:00:01\r\u001b[K     |██████████▏                     | 1.1MB 23.7MB/s eta 0:00:01\r\u001b[K     |██████████▎                     | 1.1MB 23.7MB/s eta 0:00:01\r\u001b[K     |██████████▎                     | 1.1MB 23.7MB/s eta 0:00:01\r\u001b[K     |██████████▍                     | 1.1MB 23.7MB/s eta 0:00:01\r\u001b[K     |██████████▌                     | 1.1MB 23.7MB/s eta 0:00:01\r\u001b[K     |██████████▋                     | 1.1MB 23.7MB/s eta 0:00:01\r\u001b[K     |██████████▊                     | 1.1MB 23.7MB/s eta 0:00:01\r\u001b[K     |██████████▉                     | 1.1MB 23.7MB/s eta 0:00:01\r\u001b[K     |███████████                     | 1.1MB 23.7MB/s eta 0:00:01\r\u001b[K     |███████████                     | 1.2MB 23.7MB/s eta 0:00:01\r\u001b[K     |███████████                     | 1.2MB 23.7MB/s eta 0:00:01\r\u001b[K     |███████████▏                    | 1.2MB 23.7MB/s eta 0:00:01\r\u001b[K     |███████████▎                    | 1.2MB 23.7MB/s eta 0:00:01\r\u001b[K     |███████████▍                    | 1.2MB 23.7MB/s eta 0:00:01\r\u001b[K     |███████████▌                    | 1.2MB 23.7MB/s eta 0:00:01\r\u001b[K     |███████████▋                    | 1.2MB 23.7MB/s eta 0:00:01\r\u001b[K     |███████████▊                    | 1.2MB 23.7MB/s eta 0:00:01\r\u001b[K     |███████████▉                    | 1.2MB 23.7MB/s eta 0:00:01\r\u001b[K     |███████████▉                    | 1.2MB 23.7MB/s eta 0:00:01\r\u001b[K     |████████████                    | 1.3MB 23.7MB/s eta 0:00:01\r\u001b[K     |████████████                    | 1.3MB 23.7MB/s eta 0:00:01\r\u001b[K     |████████████▏                   | 1.3MB 23.7MB/s eta 0:00:01\r\u001b[K     |████████████▎                   | 1.3MB 23.7MB/s eta 0:00:01\r\u001b[K     |████████████▍                   | 1.3MB 23.7MB/s eta 0:00:01\r\u001b[K     |████████████▌                   | 1.3MB 23.7MB/s eta 0:00:01\r\u001b[K     |████████████▋                   | 1.3MB 23.7MB/s eta 0:00:01\r\u001b[K     |████████████▋                   | 1.3MB 23.7MB/s eta 0:00:01\r\u001b[K     |████████████▊                   | 1.3MB 23.7MB/s eta 0:00:01\r\u001b[K     |████████████▉                   | 1.4MB 23.7MB/s eta 0:00:01\r\u001b[K     |█████████████                   | 1.4MB 23.7MB/s eta 0:00:01\r\u001b[K     |█████████████                   | 1.4MB 23.7MB/s eta 0:00:01\r\u001b[K     |█████████████▏                  | 1.4MB 23.7MB/s eta 0:00:01\r\u001b[K     |█████████████▎                  | 1.4MB 23.7MB/s eta 0:00:01\r\u001b[K     |█████████████▍                  | 1.4MB 23.7MB/s eta 0:00:01\r\u001b[K     |█████████████▍                  | 1.4MB 23.7MB/s eta 0:00:01\r\u001b[K     |█████████████▌                  | 1.4MB 23.7MB/s eta 0:00:01\r\u001b[K     |█████████████▋                  | 1.4MB 23.7MB/s eta 0:00:01\r\u001b[K     |█████████████▊                  | 1.4MB 23.7MB/s eta 0:00:01\r\u001b[K     |█████████████▉                  | 1.5MB 23.7MB/s eta 0:00:01\r\u001b[K     |██████████████                  | 1.5MB 23.7MB/s eta 0:00:01\r\u001b[K     |██████████████                  | 1.5MB 23.7MB/s eta 0:00:01\r\u001b[K     |██████████████▏                 | 1.5MB 23.7MB/s eta 0:00:01\r\u001b[K     |██████████████▏                 | 1.5MB 23.7MB/s eta 0:00:01\r\u001b[K     |██████████████▎                 | 1.5MB 23.7MB/s eta 0:00:01\r\u001b[K     |██████████████▍                 | 1.5MB 23.7MB/s eta 0:00:01\r\u001b[K     |██████████████▌                 | 1.5MB 23.7MB/s eta 0:00:01\r\u001b[K     |██████████████▋                 | 1.5MB 23.7MB/s eta 0:00:01\r\u001b[K     |██████████████▊                 | 1.5MB 23.7MB/s eta 0:00:01\r\u001b[K     |██████████████▉                 | 1.6MB 23.7MB/s eta 0:00:01\r\u001b[K     |███████████████                 | 1.6MB 23.7MB/s eta 0:00:01\r\u001b[K     |███████████████                 | 1.6MB 23.7MB/s eta 0:00:01\r\u001b[K     |███████████████                 | 1.6MB 23.7MB/s eta 0:00:01\r\u001b[K     |███████████████▏                | 1.6MB 23.7MB/s eta 0:00:01\r\u001b[K     |███████████████▎                | 1.6MB 23.7MB/s eta 0:00:01\r\u001b[K     |███████████████▍                | 1.6MB 23.7MB/s eta 0:00:01\r\u001b[K     |███████████████▌                | 1.6MB 23.7MB/s eta 0:00:01\r\u001b[K     |███████████████▋                | 1.6MB 23.7MB/s eta 0:00:01\r\u001b[K     |███████████████▊                | 1.6MB 23.7MB/s eta 0:00:01\r\u001b[K     |███████████████▊                | 1.7MB 23.7MB/s eta 0:00:01\r\u001b[K     |███████████████▉                | 1.7MB 23.7MB/s eta 0:00:01\r\u001b[K     |████████████████                | 1.7MB 23.7MB/s eta 0:00:01\r\u001b[K     |████████████████                | 1.7MB 23.7MB/s eta 0:00:01\r\u001b[K     |████████████████▏               | 1.7MB 23.7MB/s eta 0:00:01\r\u001b[K     |████████████████▎               | 1.7MB 23.7MB/s eta 0:00:01\r\u001b[K     |████████████████▍               | 1.7MB 23.7MB/s eta 0:00:01\r\u001b[K     |████████████████▌               | 1.7MB 23.7MB/s eta 0:00:01\r\u001b[K     |████████████████▌               | 1.7MB 23.7MB/s eta 0:00:01\r\u001b[K     |████████████████▋               | 1.8MB 23.7MB/s eta 0:00:01\r\u001b[K     |████████████████▊               | 1.8MB 23.7MB/s eta 0:00:01\r\u001b[K     |████████████████▉               | 1.8MB 23.7MB/s eta 0:00:01\r\u001b[K     |█████████████████               | 1.8MB 23.7MB/s eta 0:00:01\r\u001b[K     |█████████████████               | 1.8MB 23.7MB/s eta 0:00:01\r\u001b[K     |█████████████████▏              | 1.8MB 23.7MB/s eta 0:00:01\r\u001b[K     |█████████████████▎              | 1.8MB 23.7MB/s eta 0:00:01\r\u001b[K     |█████████████████▎              | 1.8MB 23.7MB/s eta 0:00:01\r\u001b[K     |█████████████████▍              | 1.8MB 23.7MB/s eta 0:00:01\r\u001b[K     |█████████████████▌              | 1.8MB 23.7MB/s eta 0:00:01\r\u001b[K     |█████████████████▋              | 1.9MB 23.7MB/s eta 0:00:01\r\u001b[K     |█████████████████▊              | 1.9MB 23.7MB/s eta 0:00:01\r\u001b[K     |█████████████████▉              | 1.9MB 23.7MB/s eta 0:00:01\r\u001b[K     |██████████████████              | 1.9MB 23.7MB/s eta 0:00:01\r\u001b[K     |██████████████████              | 1.9MB 23.7MB/s eta 0:00:01\r\u001b[K     |██████████████████              | 1.9MB 23.7MB/s eta 0:00:01\r\u001b[K     |██████████████████▏             | 1.9MB 23.7MB/s eta 0:00:01\r\u001b[K     |██████████████████▎             | 1.9MB 23.7MB/s eta 0:00:01\r\u001b[K     |██████████████████▍             | 1.9MB 23.7MB/s eta 0:00:01\r\u001b[K     |██████████████████▌             | 1.9MB 23.7MB/s eta 0:00:01\r\u001b[K     |██████████████████▋             | 2.0MB 23.7MB/s eta 0:00:01\r\u001b[K     |██████████████████▊             | 2.0MB 23.7MB/s eta 0:00:01\r\u001b[K     |██████████████████▉             | 2.0MB 23.7MB/s eta 0:00:01\r\u001b[K     |███████████████████             | 2.0MB 23.7MB/s eta 0:00:01\r\u001b[K     |███████████████████             | 2.0MB 23.7MB/s eta 0:00:01\r\u001b[K     |███████████████████             | 2.0MB 23.7MB/s eta 0:00:01\r\u001b[K     |███████████████████▏            | 2.0MB 23.7MB/s eta 0:00:01\r\u001b[K     |███████████████████▎            | 2.0MB 23.7MB/s eta 0:00:01\r\u001b[K     |███████████████████▍            | 2.0MB 23.7MB/s eta 0:00:01\r\u001b[K     |███████████████████▌            | 2.0MB 23.7MB/s eta 0:00:01\r\u001b[K     |███████████████████▋            | 2.1MB 23.7MB/s eta 0:00:01\r\u001b[K     |███████████████████▊            | 2.1MB 23.7MB/s eta 0:00:01\r\u001b[K     |███████████████████▊            | 2.1MB 23.7MB/s eta 0:00:01\r\u001b[K     |███████████████████▉            | 2.1MB 23.7MB/s eta 0:00:01\r\u001b[K     |████████████████████            | 2.1MB 23.7MB/s eta 0:00:01\r\u001b[K     |████████████████████            | 2.1MB 23.7MB/s eta 0:00:01\r\u001b[K     |████████████████████▏           | 2.1MB 23.7MB/s eta 0:00:01\r\u001b[K     |████████████████████▎           | 2.1MB 23.7MB/s eta 0:00:01\r\u001b[K     |████████████████████▍           | 2.1MB 23.7MB/s eta 0:00:01\r\u001b[K     |████████████████████▌           | 2.2MB 23.7MB/s eta 0:00:01\r\u001b[K     |████████████████████▌           | 2.2MB 23.7MB/s eta 0:00:01\r\u001b[K     |████████████████████▋           | 2.2MB 23.7MB/s eta 0:00:01\r\u001b[K     |████████████████████▊           | 2.2MB 23.7MB/s eta 0:00:01\r\u001b[K     |████████████████████▉           | 2.2MB 23.7MB/s eta 0:00:01\r\u001b[K     |█████████████████████           | 2.2MB 23.7MB/s eta 0:00:01\r\u001b[K     |█████████████████████           | 2.2MB 23.7MB/s eta 0:00:01\r\u001b[K     |█████████████████████▏          | 2.2MB 23.7MB/s eta 0:00:01\r\u001b[K     |█████████████████████▎          | 2.2MB 23.7MB/s eta 0:00:01\r\u001b[K     |█████████████████████▎          | 2.2MB 23.7MB/s eta 0:00:01\r\u001b[K     |█████████████████████▍          | 2.3MB 23.7MB/s eta 0:00:01\r\u001b[K     |█████████████████████▌          | 2.3MB 23.7MB/s eta 0:00:01\r\u001b[K     |█████████████████████▋          | 2.3MB 23.7MB/s eta 0:00:01\r\u001b[K     |█████████████████████▊          | 2.3MB 23.7MB/s eta 0:00:01\r\u001b[K     |█████████████████████▉          | 2.3MB 23.7MB/s eta 0:00:01\r\u001b[K     |██████████████████████          | 2.3MB 23.7MB/s eta 0:00:01\r\u001b[K     |██████████████████████          | 2.3MB 23.7MB/s eta 0:00:01\r\u001b[K     |██████████████████████          | 2.3MB 23.7MB/s eta 0:00:01\r\u001b[K     |██████████████████████▏         | 2.3MB 23.7MB/s eta 0:00:01\r\u001b[K     |██████████████████████▎         | 2.3MB 23.7MB/s eta 0:00:01\r\u001b[K     |██████████████████████▍         | 2.4MB 23.7MB/s eta 0:00:01\r\u001b[K     |██████████████████████▌         | 2.4MB 23.7MB/s eta 0:00:01\r\u001b[K     |██████████████████████▋         | 2.4MB 23.7MB/s eta 0:00:01\r\u001b[K     |██████████████████████▊         | 2.4MB 23.7MB/s eta 0:00:01\r\u001b[K     |██████████████████████▉         | 2.4MB 23.7MB/s eta 0:00:01\r\u001b[K     |██████████████████████▉         | 2.4MB 23.7MB/s eta 0:00:01\r\u001b[K     |███████████████████████         | 2.4MB 23.7MB/s eta 0:00:01\r\u001b[K     |███████████████████████         | 2.4MB 23.7MB/s eta 0:00:01\r\u001b[K     |███████████████████████▏        | 2.4MB 23.7MB/s eta 0:00:01\r\u001b[K     |███████████████████████▎        | 2.4MB 23.7MB/s eta 0:00:01\r\u001b[K     |███████████████████████▍        | 2.5MB 23.7MB/s eta 0:00:01\r\u001b[K     |███████████████████████▌        | 2.5MB 23.7MB/s eta 0:00:01\r\u001b[K     |███████████████████████▋        | 2.5MB 23.7MB/s eta 0:00:01\r\u001b[K     |███████████████████████▋        | 2.5MB 23.7MB/s eta 0:00:01\r\u001b[K     |███████████████████████▊        | 2.5MB 23.7MB/s eta 0:00:01\r\u001b[K     |███████████████████████▉        | 2.5MB 23.7MB/s eta 0:00:01\r\u001b[K     |████████████████████████        | 2.5MB 23.7MB/s eta 0:00:01\r\u001b[K     |████████████████████████        | 2.5MB 23.7MB/s eta 0:00:01\r\u001b[K     |████████████████████████▏       | 2.5MB 23.7MB/s eta 0:00:01\r\u001b[K     |████████████████████████▎       | 2.5MB 23.7MB/s eta 0:00:01\r\u001b[K     |████████████████████████▍       | 2.6MB 23.7MB/s eta 0:00:01\r\u001b[K     |████████████████████████▍       | 2.6MB 23.7MB/s eta 0:00:01\r\u001b[K     |████████████████████████▌       | 2.6MB 23.7MB/s eta 0:00:01\r\u001b[K     |████████████████████████▋       | 2.6MB 23.7MB/s eta 0:00:01\r\u001b[K     |████████████████████████▊       | 2.6MB 23.7MB/s eta 0:00:01\r\u001b[K     |████████████████████████▉       | 2.6MB 23.7MB/s eta 0:00:01\r\u001b[K     |█████████████████████████       | 2.6MB 23.7MB/s eta 0:00:01\r\u001b[K     |█████████████████████████       | 2.6MB 23.7MB/s eta 0:00:01\r\u001b[K     |█████████████████████████▏      | 2.6MB 23.7MB/s eta 0:00:01\r\u001b[K     |█████████████████████████▏      | 2.7MB 23.7MB/s eta 0:00:01\r\u001b[K     |█████████████████████████▎      | 2.7MB 23.7MB/s eta 0:00:01\r\u001b[K     |█████████████████████████▍      | 2.7MB 23.7MB/s eta 0:00:01\r\u001b[K     |█████████████████████████▌      | 2.7MB 23.7MB/s eta 0:00:01\r\u001b[K     |█████████████████████████▋      | 2.7MB 23.7MB/s eta 0:00:01\r\u001b[K     |█████████████████████████▊      | 2.7MB 23.7MB/s eta 0:00:01\r\u001b[K     |█████████████████████████▉      | 2.7MB 23.7MB/s eta 0:00:01\r\u001b[K     |██████████████████████████      | 2.7MB 23.7MB/s eta 0:00:01\r\u001b[K     |██████████████████████████      | 2.7MB 23.7MB/s eta 0:00:01\r\u001b[K     |██████████████████████████      | 2.7MB 23.7MB/s eta 0:00:01\r\u001b[K     |██████████████████████████▏     | 2.8MB 23.7MB/s eta 0:00:01\r\u001b[K     |██████████████████████████▎     | 2.8MB 23.7MB/s eta 0:00:01\r\u001b[K     |██████████████████████████▍     | 2.8MB 23.7MB/s eta 0:00:01\r\u001b[K     |██████████████████████████▌     | 2.8MB 23.7MB/s eta 0:00:01\r\u001b[K     |██████████████████████████▋     | 2.8MB 23.7MB/s eta 0:00:01\r\u001b[K     |██████████████████████████▊     | 2.8MB 23.7MB/s eta 0:00:01\r\u001b[K     |██████████████████████████▊     | 2.8MB 23.7MB/s eta 0:00:01\r\u001b[K     |██████████████████████████▉     | 2.8MB 23.7MB/s eta 0:00:01\r\u001b[K     |███████████████████████████     | 2.8MB 23.7MB/s eta 0:00:01\r\u001b[K     |███████████████████████████     | 2.8MB 23.7MB/s eta 0:00:01\r\u001b[K     |███████████████████████████▏    | 2.9MB 23.7MB/s eta 0:00:01\r\u001b[K     |███████████████████████████▎    | 2.9MB 23.7MB/s eta 0:00:01\r\u001b[K     |███████████████████████████▍    | 2.9MB 23.7MB/s eta 0:00:01\r\u001b[K     |███████████████████████████▌    | 2.9MB 23.7MB/s eta 0:00:01\r\u001b[K     |███████████████████████████▌    | 2.9MB 23.7MB/s eta 0:00:01\r\u001b[K     |███████████████████████████▋    | 2.9MB 23.7MB/s eta 0:00:01\r\u001b[K     |███████████████████████████▊    | 2.9MB 23.7MB/s eta 0:00:01\r\u001b[K     |███████████████████████████▉    | 2.9MB 23.7MB/s eta 0:00:01\r\u001b[K     |████████████████████████████    | 2.9MB 23.7MB/s eta 0:00:01\r\u001b[K     |████████████████████████████    | 2.9MB 23.7MB/s eta 0:00:01\r\u001b[K     |████████████████████████████▏   | 3.0MB 23.7MB/s eta 0:00:01\r\u001b[K     |████████████████████████████▎   | 3.0MB 23.7MB/s eta 0:00:01\r\u001b[K     |████████████████████████████▍   | 3.0MB 23.7MB/s eta 0:00:01\r\u001b[K     |████████████████████████████▍   | 3.0MB 23.7MB/s eta 0:00:01\r\u001b[K     |████████████████████████████▌   | 3.0MB 23.7MB/s eta 0:00:01\r\u001b[K     |████████████████████████████▋   | 3.0MB 23.7MB/s eta 0:00:01\r\u001b[K     |████████████████████████████▊   | 3.0MB 23.7MB/s eta 0:00:01\r\u001b[K     |████████████████████████████▉   | 3.0MB 23.7MB/s eta 0:00:01\r\u001b[K     |█████████████████████████████   | 3.0MB 23.7MB/s eta 0:00:01\r\u001b[K     |█████████████████████████████   | 3.1MB 23.7MB/s eta 0:00:01\r\u001b[K     |█████████████████████████████▏  | 3.1MB 23.7MB/s eta 0:00:01\r\u001b[K     |█████████████████████████████▏  | 3.1MB 23.7MB/s eta 0:00:01\r\u001b[K     |█████████████████████████████▎  | 3.1MB 23.7MB/s eta 0:00:01\r\u001b[K     |█████████████████████████████▍  | 3.1MB 23.7MB/s eta 0:00:01\r\u001b[K     |█████████████████████████████▌  | 3.1MB 23.7MB/s eta 0:00:01\r\u001b[K     |█████████████████████████████▋  | 3.1MB 23.7MB/s eta 0:00:01\r\u001b[K     |█████████████████████████████▊  | 3.1MB 23.7MB/s eta 0:00:01\r\u001b[K     |█████████████████████████████▉  | 3.1MB 23.7MB/s eta 0:00:01\r\u001b[K     |██████████████████████████████  | 3.1MB 23.7MB/s eta 0:00:01\r\u001b[K     |██████████████████████████████  | 3.2MB 23.7MB/s eta 0:00:01\r\u001b[K     |██████████████████████████████  | 3.2MB 23.7MB/s eta 0:00:01\r\u001b[K     |██████████████████████████████▏ | 3.2MB 23.7MB/s eta 0:00:01\r\u001b[K     |██████████████████████████████▎ | 3.2MB 23.7MB/s eta 0:00:01\r\u001b[K     |██████████████████████████████▍ | 3.2MB 23.7MB/s eta 0:00:01\r\u001b[K     |██████████████████████████████▌ | 3.2MB 23.7MB/s eta 0:00:01\r\u001b[K     |██████████████████████████████▋ | 3.2MB 23.7MB/s eta 0:00:01\r\u001b[K     |██████████████████████████████▊ | 3.2MB 23.7MB/s eta 0:00:01\r\u001b[K     |██████████████████████████████▊ | 3.2MB 23.7MB/s eta 0:00:01\r\u001b[K     |██████████████████████████████▉ | 3.2MB 23.7MB/s eta 0:00:01\r\u001b[K     |███████████████████████████████ | 3.3MB 23.7MB/s eta 0:00:01\r\u001b[K     |███████████████████████████████ | 3.3MB 23.7MB/s eta 0:00:01\r\u001b[K     |███████████████████████████████▏| 3.3MB 23.7MB/s eta 0:00:01\r\u001b[K     |███████████████████████████████▎| 3.3MB 23.7MB/s eta 0:00:01\r\u001b[K     |███████████████████████████████▍| 3.3MB 23.7MB/s eta 0:00:01\r\u001b[K     |███████████████████████████████▌| 3.3MB 23.7MB/s eta 0:00:01\r\u001b[K     |███████████████████████████████▌| 3.3MB 23.7MB/s eta 0:00:01\r\u001b[K     |███████████████████████████████▋| 3.3MB 23.7MB/s eta 0:00:01\r\u001b[K     |███████████████████████████████▊| 3.3MB 23.7MB/s eta 0:00:01\r\u001b[K     |███████████████████████████████▉| 3.3MB 23.7MB/s eta 0:00:01\r\u001b[K     |████████████████████████████████| 3.4MB 23.7MB/s eta 0:00:01\r\u001b[K     |████████████████████████████████| 3.4MB 23.7MB/s \n",
            "\u001b[?25h"
          ],
          "name": "stdout"
        }
      ]
    },
    {
      "cell_type": "code",
      "metadata": {
        "colab": {
          "base_uri": "https://localhost:8080/"
        },
        "id": "kGyCqRXl_znV",
        "outputId": "e6ee1dcc-88e3-48b0-c73b-ba05980d607c"
      },
      "source": [
        "pip install -q -U tf-models-official"
      ],
      "execution_count": 2,
      "outputs": [
        {
          "output_type": "stream",
          "text": [
            "\u001b[K     |████████████████████████████████| 1.1MB 17.8MB/s \n",
            "\u001b[K     |████████████████████████████████| 51kB 7.8MB/s \n",
            "\u001b[K     |████████████████████████████████| 102kB 13.3MB/s \n",
            "\u001b[K     |████████████████████████████████| 706kB 51.0MB/s \n",
            "\u001b[K     |████████████████████████████████| 358kB 55.5MB/s \n",
            "\u001b[K     |████████████████████████████████| 37.6MB 79kB/s \n",
            "\u001b[K     |████████████████████████████████| 1.2MB 56.5MB/s \n",
            "\u001b[K     |████████████████████████████████| 645kB 55.0MB/s \n",
            "\u001b[K     |████████████████████████████████| 174kB 56.6MB/s \n",
            "\u001b[?25h  Building wheel for seqeval (setup.py) ... \u001b[?25l\u001b[?25hdone\n",
            "  Building wheel for py-cpuinfo (setup.py) ... \u001b[?25l\u001b[?25hdone\n"
          ],
          "name": "stdout"
        }
      ]
    },
    {
      "cell_type": "code",
      "metadata": {
        "colab": {
          "base_uri": "https://localhost:8080/"
        },
        "id": "o1KlGeZ6_1f8",
        "outputId": "284b7f7f-4417-41fc-e758-1ecabb48bf30"
      },
      "source": [
        "pip install -q -U keras-tuner"
      ],
      "execution_count": 3,
      "outputs": [
        {
          "output_type": "stream",
          "text": [
            "\u001b[?25l\r\u001b[K     |█████▏                          | 10kB 21.7MB/s eta 0:00:01\r\u001b[K     |██████████▍                     | 20kB 26.3MB/s eta 0:00:01\r\u001b[K     |███████████████▋                | 30kB 25.0MB/s eta 0:00:01\r\u001b[K     |████████████████████▉           | 40kB 22.4MB/s eta 0:00:01\r\u001b[K     |██████████████████████████      | 51kB 22.6MB/s eta 0:00:01\r\u001b[K     |███████████████████████████████▎| 61kB 16.6MB/s eta 0:00:01\r\u001b[K     |████████████████████████████████| 71kB 7.8MB/s \n",
            "\u001b[?25h  Building wheel for keras-tuner (setup.py) ... \u001b[?25l\u001b[?25hdone\n",
            "  Building wheel for terminaltables (setup.py) ... \u001b[?25l\u001b[?25hdone\n"
          ],
          "name": "stdout"
        }
      ]
    },
    {
      "cell_type": "code",
      "metadata": {
        "colab": {
          "base_uri": "https://localhost:8080/"
        },
        "id": "8VufuyV__3MN",
        "outputId": "02e48b7c-213e-4fac-ed41-1862ce401b19"
      },
      "source": [
        "!git clone -l -s https://github.com/mateopolancecofficial/NLP.git"
      ],
      "execution_count": 4,
      "outputs": [
        {
          "output_type": "stream",
          "text": [
            "Cloning into 'NLP'...\n",
            "warning: --local is ignored\n",
            "remote: Enumerating objects: 72, done.\u001b[K\n",
            "remote: Counting objects: 100% (72/72), done.\u001b[K\n",
            "remote: Compressing objects: 100% (64/64), done.\u001b[K\n",
            "remote: Total 72 (delta 34), reused 25 (delta 6), pack-reused 0\u001b[K\n",
            "Unpacking objects: 100% (72/72), done.\n"
          ],
          "name": "stdout"
        }
      ]
    },
    {
      "cell_type": "code",
      "metadata": {
        "id": "Es4NC3Qd_45U"
      },
      "source": [
        "import os\n",
        "import pandas as pd\n",
        "import numpy as np\n",
        "import tensorflow as tf\n",
        "import tensorflow_hub as hub\n",
        "import tensorflow_datasets as tfds\n",
        "import tensorflow_text as text\n",
        "import tensorflow_addons as tfa\n",
        "from tensorflow import keras\n",
        "from tensorflow.keras.layers import (\n",
        "    Dense,\n",
        "    Dropout,\n",
        ")\n",
        "import kerastuner as kt\n",
        "from official.nlp import optimization\n",
        "import matplotlib.pyplot as plt\n",
        "from sklearn.model_selection import train_test_split\n",
        "from sklearn.preprocessing import StandardScaler\n",
        "from sklearn.preprocessing import MinMaxScaler\n",
        "\n",
        "tf.get_logger().setLevel('ERROR')\n",
        "os.environ[\"TFHUB_MODEL_LOAD_FORMAT\"]=\"UNCOMPRESSED\""
      ],
      "execution_count": 12,
      "outputs": []
    },
    {
      "cell_type": "code",
      "metadata": {
        "colab": {
          "base_uri": "https://localhost:8080/"
        },
        "id": "ANV-9gvm_9Ik",
        "outputId": "e284ee99-0bfc-4898-9be3-04550aab3b6b"
      },
      "source": [
        "import os\n",
        "\n",
        "if tf.test.is_gpu_available():\n",
        "  strategy = tf.distribute.MirroredStrategy()\n",
        "  print('Using GPU')"
      ],
      "execution_count": 9,
      "outputs": [
        {
          "output_type": "stream",
          "text": [
            "Using GPU\n"
          ],
          "name": "stdout"
        }
      ]
    },
    {
      "cell_type": "code",
      "metadata": {
        "id": "romsx_M7AD1k",
        "outputId": "fb16f603-8d65-4f61-e994-2d6f91234739",
        "colab": {
          "base_uri": "https://localhost:8080/",
          "height": 218
        }
      },
      "source": [
        "# set parameters\n",
        "AUTOTUNE = tf.data.AUTOTUNE\n",
        "path_v1 = \"/content/NLP/WineReviews/data/winemag-data-130k-v2.csv\" \n",
        "path_v2 = \"/content/NLP/WineReviews/data/winemag-data_first150k.csv\"\n",
        "checkpoint_path = \"/content/NLP/WineReviews/checkpoints/cp-{epoch:04d}.ckpt\"\n",
        "batch_size = 1024\n",
        "seed = 42\n",
        "col_idx = 0\n",
        "train_size, test_size, val_size = 0.8, 0.2, 0.2\n",
        "transform = 'normalize'\n",
        "columns = ['description', 'points']"
      ],
      "execution_count": 45,
      "outputs": [
        {
          "output_type": "error",
          "ename": "NameError",
          "evalue": "ignored",
          "traceback": [
            "\u001b[0;31m---------------------------------------------------------------------------\u001b[0m",
            "\u001b[0;31mNameError\u001b[0m                                 Traceback (most recent call last)",
            "\u001b[0;32m<ipython-input-45-479d1a23d4af>\u001b[0m in \u001b[0;36m<module>\u001b[0;34m()\u001b[0m\n\u001b[1;32m      8\u001b[0m \u001b[0mcol_idx\u001b[0m \u001b[0;34m=\u001b[0m \u001b[0;36m0\u001b[0m\u001b[0;34m\u001b[0m\u001b[0;34m\u001b[0m\u001b[0m\n\u001b[1;32m      9\u001b[0m \u001b[0mtrain_size\u001b[0m\u001b[0;34m,\u001b[0m \u001b[0mtest_size\u001b[0m\u001b[0;34m,\u001b[0m \u001b[0mval_size\u001b[0m \u001b[0;34m=\u001b[0m \u001b[0;36m0.8\u001b[0m\u001b[0;34m,\u001b[0m \u001b[0;36m0.2\u001b[0m\u001b[0;34m,\u001b[0m \u001b[0;36m0.2\u001b[0m\u001b[0;34m\u001b[0m\u001b[0;34m\u001b[0m\u001b[0m\n\u001b[0;32m---> 10\u001b[0;31m \u001b[0mtransform\u001b[0m \u001b[0;34m==\u001b[0m \u001b[0;34m'normalize'\u001b[0m\u001b[0;34m\u001b[0m\u001b[0;34m\u001b[0m\u001b[0m\n\u001b[0m\u001b[1;32m     11\u001b[0m \u001b[0mcolumns\u001b[0m \u001b[0;34m=\u001b[0m \u001b[0;34m[\u001b[0m\u001b[0;34m'description'\u001b[0m\u001b[0;34m,\u001b[0m \u001b[0;34m'points'\u001b[0m\u001b[0;34m]\u001b[0m\u001b[0;34m\u001b[0m\u001b[0;34m\u001b[0m\u001b[0m\n",
            "\u001b[0;31mNameError\u001b[0m: name 'transform' is not defined"
          ]
        }
      ]
    },
    {
      "cell_type": "code",
      "metadata": {
        "id": "7oaO8T0-AUwd"
      },
      "source": [
        "def load_data(path_v1: str, path_v2: str, columns: list, col_idx: int):\n",
        "  \"\"\"\n",
        "  Load and concatenate two datasets with removing duplicates.\n",
        "  param path_v1: import path of first dataset\n",
        "  param path_v2: import path of second dataset\n",
        "  param columns: list of columns to preserve in dataframe\n",
        "  param col_idx: index of column given in input columns list \n",
        "                 on which look for duplicates in dataframe\n",
        "  return:        pandas dataframe\n",
        "  \"\"\"\n",
        "  \n",
        "  df_v1 = pd.read_csv(path_v1, index_col=0)\n",
        "  df_v1 = df_v1[columns]\n",
        "  # remove numbers form column description from first dataframe\n",
        "  df_v1.description = df_v1.description.str.replace('\\d+', '')\n",
        "\n",
        "  df_v2 = pd.read_csv(path_v2, index_col=0)\n",
        "  df_v2 = df_v2[columns]\n",
        "  # remove numbers form column description from second dataframe\n",
        "  df_v2.description = df_v2.description.str.replace('\\d+', '')\n",
        "\n",
        "  df = pd.concat([df_v1, df_v2])\n",
        "\n",
        "  # dropping duplicte values\n",
        "  df.drop_duplicates(subset = columns[col_idx],\n",
        "                       keep = 'first', inplace = True)\n",
        "  \n",
        "  return df"
      ],
      "execution_count": 11,
      "outputs": []
    },
    {
      "cell_type": "code",
      "metadata": {
        "id": "kcP1H2i-AWsz"
      },
      "source": [
        "def split_data(df: pd.DataFrame, train_size: float, test_size: float, \n",
        "               val_size: float):\n",
        "  \"\"\"\n",
        "  Split dataset on train, test and validation subsets.\n",
        "  param df:          input dataframe\n",
        "  param train_size:  fraction of train size\n",
        "  param test_size:   fraction of test size\n",
        "  param val_size:    fraction of validation size\n",
        "  return:            dictionary, keys=names of dataframes, columns=dataframes\n",
        "  \"\"\"\n",
        "  \n",
        "  # shuffle dataset\n",
        "  df = df.sample(frac = 1)\n",
        "  \n",
        "  # split on test and train set\n",
        "  text_train, text_test, y_train, y_test = train_test_split(df.description, df.points,\n",
        "                                           test_size=test_size, train_size=train_size)\n",
        "  \n",
        "  y_train, y_test = y_train.astype('float'), y_test.astype('float')\n",
        "  \n",
        "  # split train set on train and validation subsets\n",
        "  text_train, text_val, y_train, y_val = train_test_split(text_train, y_train,\n",
        "                                                  test_size=val_size, train_size=train_size)\n",
        "  \n",
        "  y_train, y_val = y_train.astype('float'), y_val.astype('float')\n",
        "\n",
        "  y_train = y_train.to_numpy().reshape(-1, 1)\n",
        "  y_val = y_val.to_numpy().reshape(-1, 1)\n",
        "  y_test = y_test.to_numpy().reshape(-1, 1)\n",
        "\n",
        " # apply target variable transformation\n",
        "    if transform == 'normalize':\n",
        "      scaler = MinMaxScaler()\n",
        "      scaler.fit(y_train)\n",
        "      y_train = scaler.transform(y_train)\n",
        "      y_val = scaler.transform(y_val)\n",
        "      y_test = scaler.transform(y_test)\n",
        "    \n",
        "    elif transform == 'standardize':\n",
        "      scaler = StandardScaler()\n",
        "      scaler.fit(y_train)\n",
        "      y_train = scaler.transform(y_train)\n",
        "      y_val = scaler.transform(y_val)\n",
        "      y_test = scaler.transform(y_test)\n",
        "    \n",
        "    else:\n",
        "      scaler = MinMaxScaler()\n",
        "      scaler.fit(y_train)\n",
        "      y_train = scaler.transform(y_train)\n",
        "      y_val = scaler.transform(y_val)\n",
        "      y_test = scaler.transform(y_test)\n",
        "  \n",
        "  y_train, y_val, y_test = y_train.ravel(), y_val.ravel(), y_test.ravel()\n",
        "\n",
        "  dataset_dict = {\n",
        "      'text_train': text_train,\n",
        "      'y_train': y_train,\n",
        "      'text_val': text_val,\n",
        "      'y_val': y_val,\n",
        "      'text_test': text_test,\n",
        "      'y_test': y_test,\n",
        "      'scaler': scaler\n",
        "  }\n",
        "\n",
        "  return dataset_dict"
      ],
      "execution_count": 41,
      "outputs": []
    },
    {
      "cell_type": "code",
      "metadata": {
        "id": "08SxSFqFAYor"
      },
      "source": [
        "def create_input_datasets(df_data: dict):\n",
        "  \"\"\"\n",
        "  Create tensorflow datasets based on input dataframes for train, validation \n",
        "  and test subsets.\n",
        "  param df_data: dictionary, keys=names of dataframes, columns=dataframes\n",
        "  return:        dictionary, keys=names of datasets, columns=datasets\n",
        "  \"\"\"\n",
        "\n",
        "  # create train dataset for input in tensorflow model\n",
        "  train_dataset = tf.data.Dataset.from_tensor_slices((df_data['text_train'], \n",
        "                                                      df_data['y_train']))\n",
        "  train_dataset = train_dataset.batch(batch_size)\n",
        "  train_ds = train_dataset.cache().prefetch(buffer_size=AUTOTUNE)\n",
        "\n",
        "  # create validation dataset for input in tensorflow model\n",
        "  val_dataset = tf.data.Dataset.from_tensor_slices((df_data['text_val'], \n",
        "                                                    df_data['y_val']))\n",
        "  val_dataset = val_dataset.batch(batch_size)\n",
        "  val_ds = val_dataset.cache().prefetch(buffer_size=AUTOTUNE)\n",
        "\n",
        "  # create validation dataset for input in tensorflow model\n",
        "  test_dataset = tf.data.Dataset.from_tensor_slices((df_data['text_test'], \n",
        "                                                     df_data['y_test']))\n",
        "  test_dataset = test_dataset.batch(batch_size)\n",
        "  test_ds = test_dataset.cache().prefetch(buffer_size=AUTOTUNE)\n",
        "\n",
        "  datasets = {\n",
        "      'train_dataset': train_dataset,\n",
        "      'val_dataset': val_dataset,\n",
        "      'test_dataset': test_dataset\n",
        "  } \n",
        "\n",
        "  return datasets"
      ],
      "execution_count": 19,
      "outputs": []
    },
    {
      "cell_type": "code",
      "metadata": {
        "id": "KeSYjKA3Aabq"
      },
      "source": [
        "# define loss functions\n",
        "from tensorflow.keras import backend as K\n",
        "\n",
        "def rmse():\n",
        "  def root_mean_squared_error(y_true, y_pred):\n",
        "        return K.sqrt(K.mean(K.square(y_pred - y_true))) \n",
        "  return root_mean_squared_error\n",
        "\n",
        "def rmsle():\n",
        "  def root_mean_squared_log_error(y_true, y_pred):\n",
        "    return K.sqrt(K.mean(K.square(K.log(1+y_pred) - K.log(1+y_true))))\n",
        "  return root_mean_squared_log_error"
      ],
      "execution_count": 20,
      "outputs": []
    },
    {
      "cell_type": "code",
      "metadata": {
        "id": "r4zPCCXFAcID"
      },
      "source": [
        "# disable eager execution\n",
        "tf.config.run_functions_eagerly(False)\n",
        "\n",
        "def model_builder(hp):\n",
        "  # use pretrained embeddings for input layer\n",
        "  hub_model = \"https://tfhub.dev/google/nnlm-en-dim128-with-normalization/2\"\n",
        "  # 'trainable=True' - boolean controlling whether this layer is trainable\n",
        "  hub_layer = hub.KerasLayer(hub_model, input_shape=[], dtype=tf.string, \n",
        "                             trainable=True)\n",
        "  model = tf.keras.Sequential()\n",
        "  model.add(hub_layer)\n",
        "  hp_units_1 = hp.Int('units_1', min_value=64, max_value=128, step=16)\n",
        "  activation=hp.Choice(\n",
        "        'dense_activation',\n",
        "        values=['relu', 'tanh', 'sigmoid'],\n",
        "        default='relu'\n",
        "    )\n",
        "  model.add(Dense(units=hp_units_1, activation=activation))\n",
        "  model.add(\n",
        "            Dropout(rate=hp.Float(\n",
        "                'dropout_1',\n",
        "                min_value=0.1,\n",
        "                max_value=0.5,\n",
        "                default=0.25,\n",
        "                step=0.1,\n",
        "            ))\n",
        "        )\n",
        "  hp_units_2 = hp.Int('units_2', min_value=8, max_value=64, step=16)\n",
        "  model.add(Dense(units=hp_units_2, activation=activation))\n",
        "  model.add(\n",
        "            Dropout(rate=hp.Float(\n",
        "                'dropout_2',\n",
        "                min_value=0.1,\n",
        "                max_value=0.5,\n",
        "                default=0.25,\n",
        "                step=0.1,\n",
        "            ))\n",
        "        )\n",
        "  model.add(Dense(1))\n",
        "\n",
        "  hp_learning_rate = hp.Choice('learning_rate', values=[1e-2, 1e-3, 1e-4])\n",
        "  \n",
        "  model.compile(optimizer=keras.optimizers.Adam(learning_rate=hp_learning_rate),\n",
        "              loss=rmse(),\n",
        "              metrics=['mean_absolute_error'])\n",
        "\n",
        "  return model\n"
      ],
      "execution_count": 21,
      "outputs": []
    },
    {
      "cell_type": "code",
      "metadata": {
        "id": "kgstlXwRAeVz"
      },
      "source": [
        "# call data transformation functions\n",
        "df = load_data(path_v1, path_v2, columns, col_idx)\n",
        "df_data = split_data(df, train_size, test_size, val_size)\n"
      ],
      "execution_count": 22,
      "outputs": []
    },
    {
      "cell_type": "code",
      "metadata": {
        "id": "TfBz-YOAJPlV"
      },
      "source": [
        "datasets = create_input_datasets(df_data)"
      ],
      "execution_count": 26,
      "outputs": []
    },
    {
      "cell_type": "code",
      "metadata": {
        "id": "HijT1DhkAihz"
      },
      "source": [
        "tuner = kt.Hyperband(model_builder,\n",
        "                     objective='mean_absolute_error',\n",
        "                     max_epochs=5,\n",
        "                     directory='SequenceTextPretrained'\n",
        "                    )\n",
        "                    "
      ],
      "execution_count": 30,
      "outputs": []
    },
    {
      "cell_type": "code",
      "metadata": {
        "id": "bhpfx28e1Gbo"
      },
      "source": [
        "stop_early = tf.keras.callbacks.EarlyStopping(monitor='val_loss', patience=15)"
      ],
      "execution_count": 38,
      "outputs": []
    },
    {
      "cell_type": "code",
      "metadata": {
        "colab": {
          "base_uri": "https://localhost:8080/"
        },
        "id": "gux06kD6AkgT",
        "outputId": "972d995f-be42-4f7b-9e8e-9c33d8d763d4"
      },
      "source": [
        "\n",
        "tuner.search(df_data['text_train'], df_data['y_train'], \n",
        "             validation_data=(df_data['text_val'], df_data['y_val']), \n",
        "             epochs=5, callbacks=[stop_early])\n",
        "\n",
        "# Get the optimal hyperparameters\n",
        "best_hps=tuner.get_best_hyperparameters(num_trials=1)[0]\n"
      ],
      "execution_count": 31,
      "outputs": [
        {
          "output_type": "stream",
          "text": [
            "Trial 10 Complete [00h 25m 54s]\n",
            "mean_absolute_error: 0.3790609538555145\n",
            "\n",
            "Best mean_absolute_error So Far: 0.3703858256340027\n",
            "Total elapsed time: 02h 40m 27s\n"
          ],
          "name": "stdout"
        }
      ]
    },
    {
      "cell_type": "code",
      "metadata": {
        "id": "6v1qG3-uJMJA"
      },
      "source": [
        "model = tuner.hypermodel.build(best_hps)"
      ],
      "execution_count": 32,
      "outputs": []
    },
    {
      "cell_type": "code",
      "metadata": {
        "id": "yUAnA6yEAoFM",
        "outputId": "e9821cb1-f1dd-4a3f-de94-7b803efbdc12",
        "colab": {
          "base_uri": "https://localhost:8080/"
        }
      },
      "source": [
        "# checkpoints callback is not defined because a lack of disk space on Google Colab\n",
        "history = model.fit(datasets['train_dataset'],\n",
        "                    validation_data=datasets['val_dataset'],\n",
        "                    epochs=100,\n",
        "                    callbacks=[stop_early]\n",
        "                    )"
      ],
      "execution_count": 39,
      "outputs": [
        {
          "output_type": "stream",
          "text": [
            "Epoch 1/100\n",
            "135/135 [==============================] - 11s 81ms/step - loss: 0.3587 - mean_absolute_error: 0.2776 - val_loss: 0.5575 - val_mean_absolute_error: 0.4355\n",
            "Epoch 2/100\n",
            "135/135 [==============================] - 11s 82ms/step - loss: 0.3546 - mean_absolute_error: 0.2743 - val_loss: 0.5460 - val_mean_absolute_error: 0.4282\n",
            "Epoch 3/100\n",
            "135/135 [==============================] - 11s 83ms/step - loss: 0.3549 - mean_absolute_error: 0.2758 - val_loss: 0.5520 - val_mean_absolute_error: 0.4322\n",
            "Epoch 4/100\n",
            "135/135 [==============================] - 11s 82ms/step - loss: 0.3388 - mean_absolute_error: 0.2617 - val_loss: 0.5523 - val_mean_absolute_error: 0.4318\n",
            "Epoch 5/100\n",
            "135/135 [==============================] - 11s 82ms/step - loss: 0.3261 - mean_absolute_error: 0.2512 - val_loss: 0.5534 - val_mean_absolute_error: 0.4325\n",
            "Epoch 6/100\n",
            "135/135 [==============================] - 11s 81ms/step - loss: 0.3219 - mean_absolute_error: 0.2483 - val_loss: 0.5651 - val_mean_absolute_error: 0.4436\n",
            "Epoch 7/100\n",
            "135/135 [==============================] - 11s 81ms/step - loss: 0.3250 - mean_absolute_error: 0.2512 - val_loss: 0.5539 - val_mean_absolute_error: 0.4347\n",
            "Epoch 8/100\n",
            "135/135 [==============================] - 11s 82ms/step - loss: 0.3233 - mean_absolute_error: 0.2507 - val_loss: 0.5775 - val_mean_absolute_error: 0.4515\n",
            "Epoch 9/100\n",
            "135/135 [==============================] - 11s 82ms/step - loss: 0.3139 - mean_absolute_error: 0.2426 - val_loss: 0.5666 - val_mean_absolute_error: 0.4424\n",
            "Epoch 10/100\n",
            "135/135 [==============================] - 11s 81ms/step - loss: 0.3009 - mean_absolute_error: 0.2315 - val_loss: 0.5588 - val_mean_absolute_error: 0.4372\n",
            "Epoch 11/100\n",
            "135/135 [==============================] - 11s 83ms/step - loss: 0.2914 - mean_absolute_error: 0.2231 - val_loss: 0.5717 - val_mean_absolute_error: 0.4489\n",
            "Epoch 12/100\n",
            "135/135 [==============================] - 11s 82ms/step - loss: 0.2901 - mean_absolute_error: 0.2227 - val_loss: 0.5643 - val_mean_absolute_error: 0.4434\n",
            "Epoch 13/100\n",
            "135/135 [==============================] - 11s 82ms/step - loss: 0.2866 - mean_absolute_error: 0.2200 - val_loss: 0.5674 - val_mean_absolute_error: 0.4439\n",
            "Epoch 14/100\n",
            "135/135 [==============================] - 11s 82ms/step - loss: 0.2836 - mean_absolute_error: 0.2172 - val_loss: 0.5819 - val_mean_absolute_error: 0.4545\n",
            "Epoch 15/100\n",
            "135/135 [==============================] - 11s 82ms/step - loss: 0.2800 - mean_absolute_error: 0.2143 - val_loss: 0.5701 - val_mean_absolute_error: 0.4454\n",
            "Epoch 16/100\n",
            "135/135 [==============================] - 11s 82ms/step - loss: 0.2800 - mean_absolute_error: 0.2146 - val_loss: 0.5638 - val_mean_absolute_error: 0.4414\n",
            "Epoch 17/100\n",
            "135/135 [==============================] - 11s 82ms/step - loss: 0.2778 - mean_absolute_error: 0.2124 - val_loss: 0.5777 - val_mean_absolute_error: 0.4524\n"
          ],
          "name": "stdout"
        }
      ]
    },
    {
      "cell_type": "code",
      "metadata": {
        "id": "jgc5mCNMz4EA"
      },
      "source": [
        "df_data = split_data(df, train_size, test_size, val_size)\n",
        "datasets = create_input_datasets(df_data)"
      ],
      "execution_count": 43,
      "outputs": []
    },
    {
      "cell_type": "code",
      "metadata": {
        "id": "wZObpenZ2Akj",
        "outputId": "c464ead6-677f-4294-b9f2-8249d5fb0402",
        "colab": {
          "base_uri": "https://localhost:8080/"
        }
      },
      "source": [
        "history = model.fit(datasets['train_dataset'],\n",
        "                    validation_data=datasets['val_dataset'],\n",
        "                    epochs=100,\n",
        "                    callbacks=[stop_early]\n",
        "                    )"
      ],
      "execution_count": 44,
      "outputs": [
        {
          "output_type": "stream",
          "text": [
            "Epoch 1/100\n",
            "106/106 [==============================] - 9s 84ms/step - loss: 0.1776 - mean_absolute_error: 0.1420 - val_loss: 0.0749 - val_mean_absolute_error: 0.0588\n",
            "Epoch 2/100\n",
            "106/106 [==============================] - 9s 84ms/step - loss: 0.0940 - mean_absolute_error: 0.0734 - val_loss: 0.0689 - val_mean_absolute_error: 0.0536\n",
            "Epoch 3/100\n",
            "106/106 [==============================] - 9s 83ms/step - loss: 0.0838 - mean_absolute_error: 0.0652 - val_loss: 0.0663 - val_mean_absolute_error: 0.0510\n",
            "Epoch 4/100\n",
            "106/106 [==============================] - 9s 84ms/step - loss: 0.0773 - mean_absolute_error: 0.0599 - val_loss: 0.0632 - val_mean_absolute_error: 0.0482\n",
            "Epoch 5/100\n",
            "106/106 [==============================] - 9s 83ms/step - loss: 0.0718 - mean_absolute_error: 0.0553 - val_loss: 0.0611 - val_mean_absolute_error: 0.0463\n",
            "Epoch 6/100\n",
            "106/106 [==============================] - 9s 83ms/step - loss: 0.0672 - mean_absolute_error: 0.0515 - val_loss: 0.0597 - val_mean_absolute_error: 0.0449\n",
            "Epoch 7/100\n",
            "106/106 [==============================] - 9s 84ms/step - loss: 0.0634 - mean_absolute_error: 0.0483 - val_loss: 0.0585 - val_mean_absolute_error: 0.0438\n",
            "Epoch 8/100\n",
            "106/106 [==============================] - 9s 83ms/step - loss: 0.0605 - mean_absolute_error: 0.0460 - val_loss: 0.0575 - val_mean_absolute_error: 0.0429\n",
            "Epoch 9/100\n",
            "106/106 [==============================] - 9s 84ms/step - loss: 0.0579 - mean_absolute_error: 0.0438 - val_loss: 0.0569 - val_mean_absolute_error: 0.0423\n",
            "Epoch 10/100\n",
            "106/106 [==============================] - 9s 84ms/step - loss: 0.0554 - mean_absolute_error: 0.0420 - val_loss: 0.0563 - val_mean_absolute_error: 0.0416\n",
            "Epoch 11/100\n",
            "106/106 [==============================] - 9s 84ms/step - loss: 0.0536 - mean_absolute_error: 0.0403 - val_loss: 0.0562 - val_mean_absolute_error: 0.0414\n",
            "Epoch 12/100\n",
            "106/106 [==============================] - 9s 84ms/step - loss: 0.0520 - mean_absolute_error: 0.0391 - val_loss: 0.0561 - val_mean_absolute_error: 0.0412\n",
            "Epoch 13/100\n",
            "106/106 [==============================] - 9s 84ms/step - loss: 0.0510 - mean_absolute_error: 0.0382 - val_loss: 0.0561 - val_mean_absolute_error: 0.0412\n",
            "Epoch 14/100\n",
            "106/106 [==============================] - 9s 83ms/step - loss: 0.0496 - mean_absolute_error: 0.0372 - val_loss: 0.0562 - val_mean_absolute_error: 0.0413\n",
            "Epoch 15/100\n",
            "106/106 [==============================] - 9s 83ms/step - loss: 0.0488 - mean_absolute_error: 0.0366 - val_loss: 0.0560 - val_mean_absolute_error: 0.0412\n",
            "Epoch 16/100\n",
            "106/106 [==============================] - 9s 83ms/step - loss: 0.0478 - mean_absolute_error: 0.0358 - val_loss: 0.0564 - val_mean_absolute_error: 0.0414\n",
            "Epoch 17/100\n",
            "106/106 [==============================] - 9s 84ms/step - loss: 0.0472 - mean_absolute_error: 0.0352 - val_loss: 0.0563 - val_mean_absolute_error: 0.0414\n",
            "Epoch 18/100\n",
            "106/106 [==============================] - 9s 84ms/step - loss: 0.0462 - mean_absolute_error: 0.0345 - val_loss: 0.0563 - val_mean_absolute_error: 0.0414\n",
            "Epoch 19/100\n",
            "106/106 [==============================] - 9s 84ms/step - loss: 0.0455 - mean_absolute_error: 0.0340 - val_loss: 0.0566 - val_mean_absolute_error: 0.0417\n",
            "Epoch 20/100\n",
            "106/106 [==============================] - 9s 83ms/step - loss: 0.0448 - mean_absolute_error: 0.0335 - val_loss: 0.0567 - val_mean_absolute_error: 0.0417\n",
            "Epoch 21/100\n",
            "106/106 [==============================] - 9s 84ms/step - loss: 0.0446 - mean_absolute_error: 0.0333 - val_loss: 0.0567 - val_mean_absolute_error: 0.0417\n",
            "Epoch 22/100\n",
            "106/106 [==============================] - 9s 83ms/step - loss: 0.0441 - mean_absolute_error: 0.0329 - val_loss: 0.0570 - val_mean_absolute_error: 0.0421\n",
            "Epoch 23/100\n",
            "106/106 [==============================] - 9s 83ms/step - loss: 0.0435 - mean_absolute_error: 0.0324 - val_loss: 0.0570 - val_mean_absolute_error: 0.0420\n",
            "Epoch 24/100\n",
            "106/106 [==============================] - 9s 84ms/step - loss: 0.0434 - mean_absolute_error: 0.0323 - val_loss: 0.0573 - val_mean_absolute_error: 0.0424\n",
            "Epoch 25/100\n",
            "106/106 [==============================] - 9s 83ms/step - loss: 0.0429 - mean_absolute_error: 0.0320 - val_loss: 0.0577 - val_mean_absolute_error: 0.0427\n",
            "Epoch 26/100\n",
            "106/106 [==============================] - 9s 84ms/step - loss: 0.0425 - mean_absolute_error: 0.0316 - val_loss: 0.0578 - val_mean_absolute_error: 0.0429\n",
            "Epoch 27/100\n",
            "106/106 [==============================] - 9s 83ms/step - loss: 0.0427 - mean_absolute_error: 0.0318 - val_loss: 0.0579 - val_mean_absolute_error: 0.0429\n",
            "Epoch 28/100\n",
            "106/106 [==============================] - 9s 82ms/step - loss: 0.0422 - mean_absolute_error: 0.0313 - val_loss: 0.0582 - val_mean_absolute_error: 0.0432\n",
            "Epoch 29/100\n",
            "106/106 [==============================] - 9s 84ms/step - loss: 0.0420 - mean_absolute_error: 0.0312 - val_loss: 0.0594 - val_mean_absolute_error: 0.0443\n",
            "Epoch 30/100\n",
            "106/106 [==============================] - 9s 84ms/step - loss: 0.0417 - mean_absolute_error: 0.0311 - val_loss: 0.0593 - val_mean_absolute_error: 0.0442\n"
          ],
          "name": "stdout"
        }
      ]
    },
    {
      "cell_type": "code",
      "metadata": {
        "id": "xHh23Ev92jI3",
        "outputId": "fbc90a52-c8ff-413e-936a-ec8f4fbe8eab",
        "colab": {
          "base_uri": "https://localhost:8080/"
        }
      },
      "source": [
        "eval_result = model.predict(df_data['text_test'])\n",
        "len(eval_result)"
      ],
      "execution_count": 58,
      "outputs": [
        {
          "output_type": "execute_result",
          "data": {
            "text/plain": [
              "33886"
            ]
          },
          "metadata": {
            "tags": []
          },
          "execution_count": 58
        }
      ]
    },
    {
      "cell_type": "code",
      "metadata": {
        "id": "xMmoG3Xr4FdH",
        "outputId": "0e9dac1b-acc6-4961-8271-62475c128308",
        "colab": {
          "base_uri": "https://localhost:8080/"
        }
      },
      "source": [
        "df_data['y_test'].shape"
      ],
      "execution_count": 55,
      "outputs": [
        {
          "output_type": "execute_result",
          "data": {
            "text/plain": [
              "(33886,)"
            ]
          },
          "metadata": {
            "tags": []
          },
          "execution_count": 55
        }
      ]
    },
    {
      "cell_type": "code",
      "metadata": {
        "id": "r5yYABfe44Mw",
        "outputId": "cfdbcf6e-1af6-40b3-ae23-7e7311c8fade",
        "colab": {
          "base_uri": "https://localhost:8080/"
        }
      },
      "source": [
        "from sklearn.metrics import mean_absolute_error\n",
        "\n",
        "y_real = df_data['scaler'].inverse_transform(df_data['y_test'].reshape(-1, 1))\n",
        "y_predict = df_data['scaler'].inverse_transform(eval_result.reshape(-1, 1))\n",
        "\n",
        "mean_absolute_error(y_real, y_predict)"
      ],
      "execution_count": 60,
      "outputs": [
        {
          "output_type": "execute_result",
          "data": {
            "text/plain": [
              "0.8901921765184988"
            ]
          },
          "metadata": {
            "tags": []
          },
          "execution_count": 60
        }
      ]
    },
    {
      "cell_type": "code",
      "metadata": {
        "id": "a2KyHEA75PIP"
      },
      "source": [
        "model.save_weights('./SequenceModelWeights.h5', overwrite=True)"
      ],
      "execution_count": 62,
      "outputs": []
    },
    {
      "cell_type": "code",
      "metadata": {
        "id": "_tKiKtVd5vYE"
      },
      "source": [
        ""
      ],
      "execution_count": null,
      "outputs": []
    }
  ]
}